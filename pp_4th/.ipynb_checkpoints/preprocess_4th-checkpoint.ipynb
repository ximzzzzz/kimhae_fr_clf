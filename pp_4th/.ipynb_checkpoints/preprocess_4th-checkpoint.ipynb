{
 "cells": [
  {
   "cell_type": "code",
   "execution_count": 1,
   "metadata": {},
   "outputs": [],
   "source": [
    "import pandas as pd\n",
    "import numpy as np\n",
    "import seaborn as sns\n",
    "import matplotlib.pyplot as plt\n",
    "import sys\n",
    "sys.path.append('../pp_1st')\n",
    "sys.path.append('../pp_2nd')\n",
    "sys.path.append('../pp_3rd')\n",
    "import pp1st_pipeline\n",
    "import pp1st_func\n",
    "import pp2nd_func\n",
    "import pp3_func\n",
    "from sklearn.experimental import enable_iterative_imputer  \n",
    "from sklearn.impute import IterativeImputer\n",
    "from sklearn.preprocessing import LabelEncoder\n",
    "from xgboost.sklearn import XGBClassifier\n",
    "from sklearn.neighbors import KNeighborsClassifier\n",
    "from sklearn.model_selection import train_test_split\n",
    "import lightgbm as lgbm\n",
    "from tqdm import tqdm\n",
    "pd.set_option('display.max_columns', 100)\n",
    "pd.set_option('display.max_rows', 50)\n",
    "from sklearn.metrics import confusion_matrix\n",
    "from sklearn.metrics import f1_score"
   ]
  },
  {
   "cell_type": "code",
   "execution_count": 62,
   "metadata": {
    "scrolled": false
   },
   "outputs": [
    {
     "data": {
      "text/plain": [
       "<module 'pp3_func' from '../pp_3rd/pp3_func.py'>"
      ]
     },
     "execution_count": 62,
     "metadata": {},
     "output_type": "execute_result"
    }
   ],
   "source": [
    "import importlib\n",
    "importlib.reload(pp3_func)"
   ]
  },
  {
   "cell_type": "code",
   "execution_count": 3,
   "metadata": {},
   "outputs": [
    {
     "name": "stderr",
     "output_type": "stream",
     "text": [
      "/usr/local/lib/python3.6/dist-packages/IPython/core/interactiveshell.py:3049: DtypeWarning: Columns (8,172,173,174,175,176,177,178,179) have mixed types. Specify dtype option on import or set low_memory=False.\n",
      "  interactivity=interactivity, compiler=compiler, result=result)\n"
     ]
    }
   ],
   "source": [
    "data = pd.read_csv('../raw/PJT002_train.csv', )\n",
    "data_val = pd.read_csv('../raw/PJT002_validation.csv' )\n",
    "data_test = pd.read_csv('../raw/PJT002_test.csv')"
   ]
  },
  {
   "cell_type": "code",
   "execution_count": 4,
   "metadata": {},
   "outputs": [],
   "source": [
    "data = pp2nd_func.replace(data)\n",
    "data = pp2nd_func.label_encoding(data)\n",
    "data_val = pp2nd_func.replace(data_val)\n",
    "data_val = pp2nd_func.label_encoding(data_val)"
   ]
  },
  {
   "cell_type": "code",
   "execution_count": 5,
   "metadata": {},
   "outputs": [],
   "source": [
    "# data['mlt_us_yn_enc'] = data['mlt_us_yn'].apply(lambda x : 1 if x=='Y' else 0)\n",
    "# data_val['mlt_us_yn_enc'] = data_val['mlt_us_yn'].apply(lambda x : 1 if x=='Y' else 0)"
   ]
  },
  {
   "cell_type": "code",
   "execution_count": 5,
   "metadata": {
    "scrolled": true
   },
   "outputs": [],
   "source": [
    "data = pp3_func.energy_mean(data)\n",
    "data_val = pp3_func.energy_mean(data_val) "
   ]
  },
  {
   "cell_type": "code",
   "execution_count": 6,
   "metadata": {},
   "outputs": [],
   "source": [
    "data = pp3_func.Hm_cnt(data)\n",
    "data_val = pp3_func.Hm_cnt(data_val)"
   ]
  },
  {
   "cell_type": "code",
   "execution_count": 6,
   "metadata": {
    "collapsed": true
   },
   "outputs": [
    {
     "data": {
      "text/plain": [
       "<matplotlib.axes._subplots.AxesSubplot at 0x7f18e64ef400>"
      ]
     },
     "execution_count": 6,
     "metadata": {},
     "output_type": "execute_result"
    },
    {
     "data": {
      "image/png": "[encoded data removed]",
      "text/plain": [
       "<Figure size 432x288 with 1 Axes>"
      ]
     },
     "metadata": {
      "needs_background": "light"
     },
     "output_type": "display_data"
    }
   ],
   "source": [
    "sns.distplot(data['hm_cnt_log'].dropna())"
   ]
  },
  {
   "cell_type": "code",
   "execution_count": 8,
   "metadata": {
    "collapsed": true
   },
   "outputs": [
    {
     "data": {
      "text/plain": [
       "<matplotlib.axes._subplots.AxesSubplot at 0x7f10e07309b0>"
      ]
     },
     "execution_count": 8,
     "metadata": {},
     "output_type": "execute_result"
    },
    {
     "data": {
      "image/png": "[encoded data removed]",
      "text/plain": [
       "<Figure size 432x288 with 1 Axes>"
      ]
     },
     "metadata": {
      "needs_background": "light"
     },
     "output_type": "display_data"
    }
   ],
   "source": [
    "sns.countplot(data['hm_cnt_log_enc'])"
   ]
  },
  {
   "cell_type": "markdown",
   "metadata": {},
   "source": [
    "- Weather"
   ]
  },
  {
   "cell_type": "code",
   "execution_count": 8,
   "metadata": {},
   "outputs": [],
   "source": [
    "# data = pp2nd_func.wnd_drctn_enc(data)\n",
    "# data_val = pp2nd_func.wnd_drctn_enc(data_val)\n",
    "data = pp3_func.Wnd_spd_log(data)\n",
    "data_val = pp3_func.Wnd_spd_log(data_val)"
   ]
  },
  {
   "cell_type": "code",
   "execution_count": 9,
   "metadata": {},
   "outputs": [
    {
     "data": {
      "text/plain": [
       "season                 0\n",
       "season_mean_differ    13\n",
       "hmdt                  22\n",
       "wnd_drctn_enc          0\n",
       "wnd_spd_log           33\n",
       "tmprtr                13\n",
       "dtype: int64"
      ]
     },
     "execution_count": 9,
     "metadata": {},
     "output_type": "execute_result"
    }
   ],
   "source": [
    "data[['season','season_mean_differ','hmdt','wnd_drctn_enc','wnd_spd_log','tmprtr']].isnull().sum()"
   ]
  },
  {
   "cell_type": "code",
   "execution_count": 12,
   "metadata": {},
   "outputs": [],
   "source": [
    "data['wnd_drctn_enc'] = data['wnd_drctn_enc'].astype('category')\n",
    "data['season'] = data['season'].astype('category')\n",
    "data['wnd_drctn_enc'] = data['wnd_drctn_enc'].astype('category')\n",
    "weather_imputer = IterativeImputer(n_nearest_features=5 , max_iter=50, tol= 0.0001)\n",
    "weather_data = data[['season','season_mean_differ','hmdt','wnd_drctn_enc','wnd_spd_log','tmprtr']]\n",
    "weather_imp_res = weather_imputer.fit_transform(weather_data)\n",
    "weather_imp_df = pd.DataFrame(weather_imp_res, columns=weather_data.columns)\n",
    "data = pd.concat([data.drop(columns=['season_mean_differ','hmdt','wnd_spd_log','tmprtr']) , weather_imp_df[['season_mean_differ','hmdt','wnd_spd_log','tmprtr']]], axis=1)"
   ]
  },
  {
   "cell_type": "code",
   "execution_count": 13,
   "metadata": {},
   "outputs": [],
   "source": [
    "data_val = pp3_func.Weather(data_val, weather_imputer)\n",
    "# data_val = pp2nd_func.wnd_drctn_enc(data_val)"
   ]
  },
  {
   "cell_type": "markdown",
   "metadata": {},
   "source": [
    "- jmk"
   ]
  },
  {
   "cell_type": "code",
   "execution_count": 25,
   "metadata": {},
   "outputs": [],
   "source": [
    "data = pp3_func.Jmk_enc(data)\n",
    "data_val = pp3_func.Jmk_enc(data_val)"
   ]
  },
  {
   "cell_type": "code",
   "execution_count": 26,
   "metadata": {},
   "outputs": [],
   "source": [
    "data = pp3_func.Fr_mn_cnt(data)\n",
    "data_val = pp3_func.Fr_mn_cnt(data_val)"
   ]
  },
  {
   "cell_type": "code",
   "execution_count": 27,
   "metadata": {},
   "outputs": [],
   "source": [
    "data = pp3_func.date_author_pre(data)\n",
    "data_val = pp3_func.date_author_pre(data_val)"
   ]
  },
  {
   "cell_type": "code",
   "execution_count": 31,
   "metadata": {},
   "outputs": [],
   "source": [
    "data['dt_of_athrztn_rflct_log'] =  np.log(2020 - data['dt_of_athrztn'])\n",
    "data_val['dt_of_athrztn_rflct_log'] =  np.log(2020 - data_val['dt_of_athrztn'])"
   ]
  },
  {
   "cell_type": "code",
   "execution_count": 32,
   "metadata": {},
   "outputs": [],
   "source": [
    "data = pp3_func.regional_name_pre(data)\n",
    "data_val = pp3_func.regional_name_pre(data_val)"
   ]
  },
  {
   "cell_type": "markdown",
   "metadata": {},
   "source": [
    "- bldng_prc"
   ]
  },
  {
   "cell_type": "code",
   "execution_count": 37,
   "metadata": {},
   "outputs": [],
   "source": [
    "data.reset_index(drop=True, inplace=True)\n",
    "data_val.reset_index(drop=True, inplace=True)"
   ]
  },
  {
   "cell_type": "code",
   "execution_count": 38,
   "metadata": {},
   "outputs": [],
   "source": [
    "data['bldng_ar_prc_log'] = np.log(data['bldng_ar_prc'])\n",
    "data_val['bldng_ar_prc_log'] = np.log(data_val['bldng_ar_prc'])"
   ]
  },
  {
   "cell_type": "code",
   "execution_count": 42,
   "metadata": {},
   "outputs": [],
   "source": [
    "bldng_ar_prc_imputer = IterativeImputer( min_value=9.77 , max_value = 16.5, max_iter=30 )\n",
    "bldng_ar_prc_impres = bldng_ar_prc_imputer.fit_transform(data[['bldng_ar_prc_log','dt_of_athrztn_enc','dt_of_athrztn_rflct_log','hm_cnt_log','bldng_ar','ttl_ar','ttl_grnd_flr','fr_wthr_fclt_dstnc','tbc_rtl_str_dstnc','ele_mean','rgnl_ar_nm_enc','jmk_enc']])\n",
    "bldng_ar_prc_df = pd.DataFrame(bldng_ar_prc_impres, columns = ['bldng_ar_prc_log','dt_of_athrztn_enc','dt_of_athrztn_rflct_log','hm_cnt_log','bldng_ar','ttl_ar','ttl_grnd_flr','fr_wthr_fclt_dstnc','tbc_rtl_str_dstnc','ele_mean','rgnl_ar_nm_enc','jmk_enc'])\n",
    "data = pd.concat([data.drop(columns = ['bldng_ar_prc_log','hm_cnt_log']), bldng_ar_prc_df[['bldng_ar_prc_log','hm_cnt_log']]], axis=1)"
   ]
  },
  {
   "cell_type": "code",
   "execution_count": 44,
   "metadata": {},
   "outputs": [],
   "source": [
    "data_val = pp3_func.building_price(data_val, bldng_ar_prc_imputer)"
   ]
  },
  {
   "cell_type": "markdown",
   "metadata": {},
   "source": [
    "- rgnl_ar_nm"
   ]
  },
  {
   "cell_type": "code",
   "execution_count": 45,
   "metadata": {},
   "outputs": [],
   "source": [
    "data.reset_index(drop=True, inplace=True)\n",
    "data_val.reset_index(drop=True, inplace=True)"
   ]
  },
  {
   "cell_type": "code",
   "execution_count": 53,
   "metadata": {},
   "outputs": [],
   "source": [
    "rgnl_ar_imputer = IterativeImputer(n_nearest_features=7, min_value=0, max_value=5, max_iter=30)\n",
    "rgnl_ar_impres = rgnl_ar_imputer.fit_transform(data[['rgnl_ar_nm_enc','bldng_ar_prc_log','bldng_ar_prc','jmk_enc','hm_cnt_log','hm_cnt','bldng_ar','ttl_ar','jmk_enc']])\n",
    "rgnl_ar_df = pd.DataFrame(rgnl_ar_impres, columns=['rgnl_ar_nm_enc','bldng_ar_prc_log','bldng_ar_prc','jmk_enc','hm_cnt_log','hm_cnt','bldng_ar','ttl_ar','jmk_enc'])\n",
    "data = pd.concat([data.drop(columns = 'rgnl_ar_nm_enc'), rgnl_ar_df['rgnl_ar_nm_enc']], axis=1)\n",
    "data['rgnl_ar_nm_enc'] = np.round(data['rgnl_ar_nm_enc'])"
   ]
  },
  {
   "cell_type": "code",
   "execution_count": 55,
   "metadata": {
    "scrolled": true
   },
   "outputs": [],
   "source": [
    "data_val = pp3_func.regional_name_post(data_val, rgnl_ar_imputer)\n",
    "data_val['rgnl_ar_nm_enc'] = np.round(data_val['rgnl_ar_nm_enc'])"
   ]
  },
  {
   "cell_type": "markdown",
   "metadata": {},
   "source": [
    "- dt_of_athrztn"
   ]
  },
  {
   "cell_type": "code",
   "execution_count": 57,
   "metadata": {},
   "outputs": [],
   "source": [
    "data.reset_index(drop=True, inplace=True)\n",
    "data_val.reset_index(drop=True, inplace=True)"
   ]
  },
  {
   "cell_type": "code",
   "execution_count": 58,
   "metadata": {},
   "outputs": [],
   "source": [
    "data['dt_of_athrztn_enc'] = data['dt_of_athrztn_enc'].astype('category')"
   ]
  },
  {
   "cell_type": "code",
   "execution_count": 59,
   "metadata": {},
   "outputs": [],
   "source": [
    "dt_of_ath_imputer = IterativeImputer( n_nearest_features=7, min_value=0, max_value=4, max_iter=30 )\n",
    "dt_of_ath_res = dt_of_ath_imputer.fit_transform(data[['dt_of_athrztn_enc','dt_of_athrztn_rflct_log','bldng_cnt','bldng_ar','jmk_enc','gas_mean','ele_mean','hm_cnt','hm_cnt_log','tbc_rtl_str_dstnc','bldng_ar_prc_log','bldng_ar_prc','rgnl_ar_nm_enc']])\n",
    "dt_of_ath_df = pd.DataFrame(dt_of_ath_res , columns = ['dt_of_athrztn_enc','dt_of_athrztn_rflct_log','bldng_cnt','bldng_ar','jmk_enc','gas_mean','ele_mean','hm_cnt','hm_cnt_log','tbc_rtl_str_dstnc','bldng_ar_prc_log','bldng_ar_prc','rgnl_ar_nm_enc'])\n",
    "data = pd.concat([data.drop(columns = ['dt_of_athrztn_enc','dt_of_athrztn_rflct_log']), dt_of_ath_df[['dt_of_athrztn_enc','dt_of_athrztn_rflct_log']]] ,axis=1)\n",
    "data['dt_of_athrztn_enc'] = np.round(data['dt_of_athrztn_enc'])"
   ]
  },
  {
   "cell_type": "code",
   "execution_count": 63,
   "metadata": {
    "scrolled": true
   },
   "outputs": [],
   "source": [
    "data_val = pp3_func.date_author_post(data_val, dt_of_ath_imputer )\n",
    "data_val['dt_of_athrztn_enc'] = np.round(data_val['dt_of_athrztn_enc'])"
   ]
  },
  {
   "cell_type": "code",
   "execution_count": 36,
   "metadata": {},
   "outputs": [],
   "source": [
    "data['dt_of_athrztn_rflct_log'] =  np2020 - data['dt_of_athrztn']\n",
    "data_val['dt_of_athrztn_rflct_log'] =  2020 - data_val['dt_of_athrztn']"
   ]
  },
  {
   "cell_type": "markdown",
   "metadata": {},
   "source": [
    "- bldng_ar, ttl_ar, lnd_ar"
   ]
  },
  {
   "cell_type": "code",
   "execution_count": 29,
   "metadata": {},
   "outputs": [],
   "source": [
    "data.reset_index(drop=True, inplace=True)\n",
    "data_val.reset_index(drop=True, inplace=True)"
   ]
  },
  {
   "cell_type": "code",
   "execution_count": 30,
   "metadata": {},
   "outputs": [],
   "source": [
    "data['bldng_ar_log'] = np.log(data['bldng_ar'])\n",
    "data['ttl_ar_log'] = np.log(data['ttl_ar'])\n",
    "data['lnd_log'] = np.log(data['lnd_ar'])\n",
    "data_val = pp3_func.log_maker(data_val, 'bldng_ar')\n",
    "data_val = pp3_func.log_maker(data_val, 'ttl_ar')\n",
    "data_val = pp3_func.log_maker(data_val, 'lnd_ar')\n",
    "data_val.rename(columns={'lnd_ar_log' : 'lnd_log'},inplace=True)"
   ]
  },
  {
   "cell_type": "code",
   "execution_count": 32,
   "metadata": {},
   "outputs": [],
   "source": [
    "ar_imputer = IterativeImputer( max_iter=30)\n",
    "ar_impres = ar_imputer.fit_transform(data[['ttl_ar_log','bldng_ar_log','lnd_log','hm_cnt_log','fr_mn_cnt','rgnl_ar_nm_enc','dt_of_athrztn_enc','jmk_enc','bldng_ar_prc_log','fr_wthr_fclt_dstnc','tbc_rtl_str_dstnc']])\n",
    "ar_df = pd.DataFrame(ar_impres, columns = ['ttl_ar_log','bldng_ar_log','lnd_log','hm_cnt_log','fr_mn_cnt','rgnl_ar_nm_enc','dt_of_athrztn_enc','jmk_enc','bldng_ar_prc_log','fr_wthr_fclt_dstnc','tbc_rtl_str_dstnc'])\n",
    "data = pd.concat([data.drop(columns = ['ttl_ar_log','bldng_ar_log','lnd_log']), ar_df[['ttl_ar_log','bldng_ar_log','lnd_log']]], axis=1)"
   ]
  },
  {
   "cell_type": "code",
   "execution_count": 33,
   "metadata": {},
   "outputs": [],
   "source": [
    "data_val = pp3_func.area_predict(data_val, ar_imputer)"
   ]
  },
  {
   "cell_type": "code",
   "execution_count": 34,
   "metadata": {
    "collapsed": true
   },
   "outputs": [
    {
     "data": {
      "text/plain": [
       "wnd_spd                             0\n",
       "wnd_drctn_enc                       0\n",
       "hmdt                                0\n",
       "season_mean_differ                  0\n",
       "season                              0\n",
       "ele_mean                            0\n",
       "gas_mean                            0\n",
       "tmprtr                              0\n",
       "bldng_ar_log                        0\n",
       "lnd_log                             0\n",
       "fr_yn                               0\n",
       "bldng_cnt                           0\n",
       "계절평균온도차                            13\n",
       "hm_cnt                            193\n",
       "rd_sd_nm                         1491\n",
       "rgnl_ar_nm2                      1491\n",
       "rgnl_ar_nm                       1491\n",
       "lnd_us_sttn_nm                   1776\n",
       "ttl_ar                           8426\n",
       "bldng_ar                         9660\n",
       "ttl_grnd_flr                    10210\n",
       "ttl_dwn_flr                     11005\n",
       "wnd_drctn                       12157\n",
       "lnd_ar                          25569\n",
       "ele_engry_us_201801             27581\n",
       "                                ...  \n",
       "bldng_us                        27677\n",
       "bldng_us_clssfctn               29343\n",
       "cltrl_hrtg_yn                   49447\n",
       "slf_fr_brgd_yn                  49447\n",
       "dngrs_thng_yn                   49447\n",
       "us_yn                           49447\n",
       "blk_dngrs_thng_mnfctr_yn        49447\n",
       "fr_fghtng_fclt_spcl_css_6_yn    50762\n",
       "fr_fghtng_fclt_spcl_css_5_yn    50762\n",
       "trgt_crtr                       51022\n",
       "prcpttn                         53629\n",
       "lw_13101010                     58897\n",
       "lw_13111010                     58899\n",
       "lw_13101211                     58901\n",
       "lw_13101210                     58902\n",
       "lw_13131010                     58903\n",
       "lw_13131110                     58903\n",
       "lw_13101310                     58907\n",
       "lw_13141010                     58907\n",
       "lw_13101110                     58908\n",
       "lw_13141011                     58908\n",
       "lw_13101410                     58916\n",
       "lw_13111110                     58918\n",
       "lw_13121010                     58926\n",
       "lw_13121011                     58926\n",
       "Length: 172, dtype: int64"
      ]
     },
     "execution_count": 34,
     "metadata": {},
     "output_type": "execute_result"
    }
   ],
   "source": [
    "data.isnull().sum().sort_values()[30:]"
   ]
  },
  {
   "cell_type": "markdown",
   "metadata": {},
   "source": [
    "# modeling"
   ]
  },
  {
   "cell_type": "code",
   "execution_count": 37,
   "metadata": {
    "collapsed": true
   },
   "outputs": [
    {
     "data": {
      "text/plain": [
       "Index(['dt_of_fr', 'fr_yn', 'bldng_cnt', 'jmk', 'id', 'emd_nm',\n",
       "       'fr_sttn_dstnc', 'fr_wthr_fclt_dstnc', 'fr_mn_cnt', 'mlt_us_yn',\n",
       "       'cctv_dstnc', 'fr_wthr_fclt_in_100m', 'cctv_in_100m',\n",
       "       'tbc_rtl_str_dstnc', 'sft_emrgnc_bll_dstnc', 'ahsm_dstnc',\n",
       "       'no_tbc_zn_dstnc', 'bldng_cnt_in_50m', 'emd_nm_big', 'emd_nm_small',\n",
       "       'dt_of_fr_yr', 'dt_of_fr_hr', 'dt_of_fr_mth', 'mlt_us_yn_enc',\n",
       "       'gas_mean', 'ele_mean', 'season', 'season_mean_differ', 'hmdt',\n",
       "       'wnd_drctn_enc', 'wnd_spd', 'tmprtr', 'jmk_enc', 'wnd_spd_log',\n",
       "       'bldng_ar_prc', 'hm_cnt_log', 'bldng_ar_prc_log', 'rgnl_ar_nm_enc',\n",
       "       'dt_of_athrztn_enc', 'ttl_ar_log', 'bldng_ar_log', 'lnd_log'],\n",
       "      dtype='object')"
      ]
     },
     "execution_count": 37,
     "metadata": {},
     "output_type": "execute_result"
    }
   ],
   "source": [
    "data.columns[data.isnull().sum()==0]"
   ]
  },
  {
   "cell_type": "code",
   "execution_count": 133,
   "metadata": {},
   "outputs": [],
   "source": [
    "dataset = data[['bldng_cnt',\n",
    "                'bldng_ar_log','ttl_ar_log','lnd_log',\n",
    "                'dt_of_athrztn_enc','gas_mean','ele_mean','jmk_enc',\n",
    "                'rgnl_ar_nm_enc','fr_sttn_dstnc','fr_wthr_fclt_in_100m','tbc_rtl_str_dstnc',\n",
    "                'ahsm_dstnc',\n",
    "                'wnd_spd_log','bldng_ar_prc_log','hm_cnt_log',\n",
    "                'fr_wthr_fclt_dstnc','fr_mn_cnt','bldng_cnt_in_50m','no_tbc_zn_dstnc','hmdt','wnd_drctn_enc','wnd_spd','tmprtr',\n",
    "                'bldng_ar_prc','season_mean_differ','season','dt_of_fr_hr','dt_of_fr_mth','fr_yn']]"
   ]
  },
  {
   "cell_type": "code",
   "execution_count": 134,
   "metadata": {},
   "outputs": [],
   "source": [
    "dataset = pp3_func.from_category_to_int(dataset)"
   ]
  },
  {
   "cell_type": "code",
   "execution_count": 99,
   "metadata": {
    "collapsed": true
   },
   "outputs": [
    {
     "data": {
      "text/plain": [
       "bldng_cnt               0\n",
       "bldng_ar_log            0\n",
       "ttl_ar_log              0\n",
       "lnd_log                 0\n",
       "dt_of_athrztn_enc       0\n",
       "gas_mean                0\n",
       "ele_mean                0\n",
       "jmk_enc                 0\n",
       "rgnl_ar_nm_enc          0\n",
       "fr_sttn_dstnc           0\n",
       "fr_wthr_fclt_in_100m    0\n",
       "tbc_rtl_str_dstnc       0\n",
       "ahsm_dstnc              0\n",
       "wnd_spd_log             0\n",
       "bldng_ar_prc_log        0\n",
       "hm_cnt_log              0\n",
       "fr_wthr_fclt_dstnc      0\n",
       "fr_mn_cnt               0\n",
       "bldng_cnt_in_50m        0\n",
       "no_tbc_zn_dstnc         0\n",
       "hmdt                    0\n",
       "wnd_drctn_enc           0\n",
       "wnd_spd                 0\n",
       "tmprtr                  0\n",
       "bldng_ar_prc            0\n",
       "season_mean_differ      0\n",
       "season                  0\n",
       "dt_of_fr_hr             0\n",
       "dt_of_fr_mth            0\n",
       "fr_yn                   0\n",
       "dtype: int64"
      ]
     },
     "execution_count": 99,
     "metadata": {},
     "output_type": "execute_result"
    }
   ],
   "source": [
    "dataset.isnull().sum()"
   ]
  },
  {
   "cell_type": "code",
   "execution_count": 135,
   "metadata": {},
   "outputs": [
    {
     "data": {
      "text/plain": [
       "0.4745330296127563"
      ]
     },
     "execution_count": 135,
     "metadata": {},
     "output_type": "execute_result"
    }
   ],
   "source": [
    "lgbm_ = lgbm.LGBMClassifier()\n",
    "lgbm_.fit(dataset.iloc[:,:-1], dataset['fr_yn'])\n",
    "yhat = lgbm_.predict(dataset.iloc[:,:-1])\n",
    "f1_score(dataset['fr_yn'], yhat)"
   ]
  },
  {
   "cell_type": "code",
   "execution_count": 75,
   "metadata": {},
   "outputs": [],
   "source": [
    "yhat_prob = lgbm_.predict_proba(dataset.iloc[:,:-1])"
   ]
  },
  {
   "cell_type": "code",
   "execution_count": 105,
   "metadata": {
    "scrolled": true
   },
   "outputs": [
    {
     "data": {
      "text/plain": [
       "0.7851200753413906"
      ]
     },
     "execution_count": 105,
     "metadata": {},
     "output_type": "execute_result"
    }
   ],
   "source": [
    "xgb_ = XGBClassifier(max_depth=10)\n",
    "xgb_.fit(dataset.iloc[:,:-1], dataset['fr_yn'])\n",
    "xgb_yhat = xgb_.predict(dataset.iloc[:,:-1])\n",
    "xgb_yhat_prob = xgb_.predict_proba(dataset.iloc[:,:-1])\n",
    "f1_score(dataset['fr_yn'], xgb_yhat)"
   ]
  },
  {
   "cell_type": "code",
   "execution_count": 83,
   "metadata": {},
   "outputs": [],
   "source": [
    "ensemble = yhat_prob* 0.5 + xgb_yhat_prob*0.5\n",
    "en_yhat = np.argmax(ensemble,axis=1)"
   ]
  },
  {
   "cell_type": "code",
   "execution_count": 90,
   "metadata": {},
   "outputs": [
    {
     "data": {
      "text/plain": [
       "0.639022711631108"
      ]
     },
     "execution_count": 90,
     "metadata": {},
     "output_type": "execute_result"
    }
   ],
   "source": [
    "f1_score(dataset['fr_yn'], en_yhat)"
   ]
  },
  {
   "cell_type": "markdown",
   "metadata": {},
   "source": [
    "# adasyn"
   ]
  },
  {
   "cell_type": "code",
   "execution_count": 117,
   "metadata": {},
   "outputs": [],
   "source": [
    "from imblearn.over_sampling import ADASYN"
   ]
  },
  {
   "cell_type": "code",
   "execution_count": 118,
   "metadata": {},
   "outputs": [],
   "source": [
    "ada = ADASYN()"
   ]
  },
  {
   "cell_type": "code",
   "execution_count": 119,
   "metadata": {},
   "outputs": [],
   "source": [
    "ada_x, ada_y = ada.fit_resample(dataset.iloc[:,:-1], dataset['fr_yn'])"
   ]
  },
  {
   "cell_type": "code",
   "execution_count": 173,
   "metadata": {
    "collapsed": true
   },
   "outputs": [
    {
     "ename": "LightGBMError",
     "evalue": "Check failed: config->bagging_freq > 0 && config->bagging_fraction < 1.0f && config->bagging_fraction > 0.0f at /__w/1/s/python-package/compile/src/boosting/rf.hpp, line 35 .\n",
     "output_type": "error",
     "traceback": [
      "\u001b[0;31m\u001b[0m",
      "\u001b[0;31mLightGBMError\u001b[0mTraceback (most recent call last)",
      "\u001b[0;32m<ipython-input-173-e00839938c1c>\u001b[0m in \u001b[0;36m<module>\u001b[0;34m\u001b[0m\n\u001b[1;32m      1\u001b[0m \u001b[0mlgbm_\u001b[0m \u001b[0;34m=\u001b[0m \u001b[0mlgbm\u001b[0m\u001b[0;34m.\u001b[0m\u001b[0mLGBMClassifier\u001b[0m\u001b[0;34m(\u001b[0m\u001b[0mboosting_type\u001b[0m\u001b[0;34m=\u001b[0m \u001b[0;34m'rf'\u001b[0m\u001b[0;34m,\u001b[0m \u001b[0mreg_alpha\u001b[0m\u001b[0;34m=\u001b[0m\u001b[0;36m0.3\u001b[0m\u001b[0;34m,\u001b[0m \u001b[0mreg_lambda\u001b[0m\u001b[0;34m=\u001b[0m\u001b[0;36m0.3\u001b[0m\u001b[0;34m)\u001b[0m\u001b[0;34m\u001b[0m\u001b[0;34m\u001b[0m\u001b[0m\n\u001b[0;32m----> 2\u001b[0;31m \u001b[0mlgbm_\u001b[0m\u001b[0;34m.\u001b[0m\u001b[0mfit\u001b[0m\u001b[0;34m(\u001b[0m\u001b[0mdataset\u001b[0m\u001b[0;34m.\u001b[0m\u001b[0miloc\u001b[0m\u001b[0;34m[\u001b[0m\u001b[0;34m:\u001b[0m\u001b[0;34m,\u001b[0m\u001b[0;34m:\u001b[0m\u001b[0;34m-\u001b[0m\u001b[0;36m1\u001b[0m\u001b[0;34m]\u001b[0m\u001b[0;34m,\u001b[0m \u001b[0mdataset\u001b[0m\u001b[0;34m[\u001b[0m\u001b[0;34m'fr_yn'\u001b[0m\u001b[0;34m]\u001b[0m\u001b[0;34m)\u001b[0m\u001b[0;34m\u001b[0m\u001b[0;34m\u001b[0m\u001b[0m\n\u001b[0m\u001b[1;32m      3\u001b[0m \u001b[0myhat\u001b[0m \u001b[0;34m=\u001b[0m \u001b[0mlgbm_\u001b[0m\u001b[0;34m.\u001b[0m\u001b[0mpredict\u001b[0m\u001b[0;34m(\u001b[0m\u001b[0mdataset\u001b[0m\u001b[0;34m.\u001b[0m\u001b[0miloc\u001b[0m\u001b[0;34m[\u001b[0m\u001b[0;34m:\u001b[0m\u001b[0;34m,\u001b[0m\u001b[0;34m:\u001b[0m\u001b[0;34m-\u001b[0m\u001b[0;36m1\u001b[0m\u001b[0;34m]\u001b[0m\u001b[0;34m)\u001b[0m\u001b[0;34m\u001b[0m\u001b[0;34m\u001b[0m\u001b[0m\n\u001b[1;32m      4\u001b[0m \u001b[0mf1_score\u001b[0m\u001b[0;34m(\u001b[0m\u001b[0mdataset\u001b[0m\u001b[0;34m[\u001b[0m\u001b[0;34m'fr_yn'\u001b[0m\u001b[0;34m]\u001b[0m\u001b[0;34m,\u001b[0m \u001b[0myhat\u001b[0m\u001b[0;34m)\u001b[0m\u001b[0;34m\u001b[0m\u001b[0;34m\u001b[0m\u001b[0m\n",
      "\u001b[0;32m/usr/local/lib/python3.6/dist-packages/lightgbm/sklearn.py\u001b[0m in \u001b[0;36mfit\u001b[0;34m(self, X, y, sample_weight, init_score, eval_set, eval_names, eval_sample_weight, eval_class_weight, eval_init_score, eval_metric, early_stopping_rounds, verbose, feature_name, categorical_feature, callbacks)\u001b[0m\n\u001b[1;32m    803\u001b[0m                                         \u001b[0mverbose\u001b[0m\u001b[0;34m=\u001b[0m\u001b[0mverbose\u001b[0m\u001b[0;34m,\u001b[0m \u001b[0mfeature_name\u001b[0m\u001b[0;34m=\u001b[0m\u001b[0mfeature_name\u001b[0m\u001b[0;34m,\u001b[0m\u001b[0;34m\u001b[0m\u001b[0;34m\u001b[0m\u001b[0m\n\u001b[1;32m    804\u001b[0m                                         \u001b[0mcategorical_feature\u001b[0m\u001b[0;34m=\u001b[0m\u001b[0mcategorical_feature\u001b[0m\u001b[0;34m,\u001b[0m\u001b[0;34m\u001b[0m\u001b[0;34m\u001b[0m\u001b[0m\n\u001b[0;32m--> 805\u001b[0;31m                                         callbacks=callbacks)\n\u001b[0m\u001b[1;32m    806\u001b[0m         \u001b[0;32mreturn\u001b[0m \u001b[0mself\u001b[0m\u001b[0;34m\u001b[0m\u001b[0;34m\u001b[0m\u001b[0m\n\u001b[1;32m    807\u001b[0m \u001b[0;34m\u001b[0m\u001b[0m\n",
      "\u001b[0;32m/usr/local/lib/python3.6/dist-packages/lightgbm/sklearn.py\u001b[0m in \u001b[0;36mfit\u001b[0;34m(self, X, y, sample_weight, init_score, group, eval_set, eval_names, eval_sample_weight, eval_class_weight, eval_init_score, eval_group, eval_metric, early_stopping_rounds, verbose, feature_name, categorical_feature, callbacks)\u001b[0m\n\u001b[1;32m    598\u001b[0m                               \u001b[0mverbose_eval\u001b[0m\u001b[0;34m=\u001b[0m\u001b[0mverbose\u001b[0m\u001b[0;34m,\u001b[0m \u001b[0mfeature_name\u001b[0m\u001b[0;34m=\u001b[0m\u001b[0mfeature_name\u001b[0m\u001b[0;34m,\u001b[0m\u001b[0;34m\u001b[0m\u001b[0;34m\u001b[0m\u001b[0m\n\u001b[1;32m    599\u001b[0m                               \u001b[0mcategorical_feature\u001b[0m\u001b[0;34m=\u001b[0m\u001b[0mcategorical_feature\u001b[0m\u001b[0;34m,\u001b[0m\u001b[0;34m\u001b[0m\u001b[0;34m\u001b[0m\u001b[0m\n\u001b[0;32m--> 600\u001b[0;31m                               callbacks=callbacks)\n\u001b[0m\u001b[1;32m    601\u001b[0m \u001b[0;34m\u001b[0m\u001b[0m\n\u001b[1;32m    602\u001b[0m         \u001b[0;32mif\u001b[0m \u001b[0mevals_result\u001b[0m\u001b[0;34m:\u001b[0m\u001b[0;34m\u001b[0m\u001b[0;34m\u001b[0m\u001b[0m\n",
      "\u001b[0;32m/usr/local/lib/python3.6/dist-packages/lightgbm/engine.py\u001b[0m in \u001b[0;36mtrain\u001b[0;34m(params, train_set, num_boost_round, valid_sets, valid_names, fobj, feval, init_model, feature_name, categorical_feature, early_stopping_rounds, evals_result, verbose_eval, learning_rates, keep_training_booster, callbacks)\u001b[0m\n\u001b[1;32m    226\u001b[0m     \u001b[0;31m# construct booster\u001b[0m\u001b[0;34m\u001b[0m\u001b[0;34m\u001b[0m\u001b[0;34m\u001b[0m\u001b[0m\n\u001b[1;32m    227\u001b[0m     \u001b[0;32mtry\u001b[0m\u001b[0;34m:\u001b[0m\u001b[0;34m\u001b[0m\u001b[0;34m\u001b[0m\u001b[0m\n\u001b[0;32m--> 228\u001b[0;31m         \u001b[0mbooster\u001b[0m \u001b[0;34m=\u001b[0m \u001b[0mBooster\u001b[0m\u001b[0;34m(\u001b[0m\u001b[0mparams\u001b[0m\u001b[0;34m=\u001b[0m\u001b[0mparams\u001b[0m\u001b[0;34m,\u001b[0m \u001b[0mtrain_set\u001b[0m\u001b[0;34m=\u001b[0m\u001b[0mtrain_set\u001b[0m\u001b[0;34m)\u001b[0m\u001b[0;34m\u001b[0m\u001b[0;34m\u001b[0m\u001b[0m\n\u001b[0m\u001b[1;32m    229\u001b[0m         \u001b[0;32mif\u001b[0m \u001b[0mis_valid_contain_train\u001b[0m\u001b[0;34m:\u001b[0m\u001b[0;34m\u001b[0m\u001b[0;34m\u001b[0m\u001b[0m\n\u001b[1;32m    230\u001b[0m             \u001b[0mbooster\u001b[0m\u001b[0;34m.\u001b[0m\u001b[0mset_train_data_name\u001b[0m\u001b[0;34m(\u001b[0m\u001b[0mtrain_data_name\u001b[0m\u001b[0;34m)\u001b[0m\u001b[0;34m\u001b[0m\u001b[0;34m\u001b[0m\u001b[0m\n",
      "\u001b[0;32m/usr/local/lib/python3.6/dist-packages/lightgbm/basic.py\u001b[0m in \u001b[0;36m__init__\u001b[0;34m(self, params, train_set, model_file, model_str, silent)\u001b[0m\n\u001b[1;32m   1714\u001b[0m                 \u001b[0mtrain_set\u001b[0m\u001b[0;34m.\u001b[0m\u001b[0mconstruct\u001b[0m\u001b[0;34m(\u001b[0m\u001b[0;34m)\u001b[0m\u001b[0;34m.\u001b[0m\u001b[0mhandle\u001b[0m\u001b[0;34m,\u001b[0m\u001b[0;34m\u001b[0m\u001b[0;34m\u001b[0m\u001b[0m\n\u001b[1;32m   1715\u001b[0m                 \u001b[0mc_str\u001b[0m\u001b[0;34m(\u001b[0m\u001b[0mparams_str\u001b[0m\u001b[0;34m)\u001b[0m\u001b[0;34m,\u001b[0m\u001b[0;34m\u001b[0m\u001b[0;34m\u001b[0m\u001b[0m\n\u001b[0;32m-> 1716\u001b[0;31m                 ctypes.byref(self.handle)))\n\u001b[0m\u001b[1;32m   1717\u001b[0m             \u001b[0;31m# save reference to data\u001b[0m\u001b[0;34m\u001b[0m\u001b[0;34m\u001b[0m\u001b[0;34m\u001b[0m\u001b[0m\n\u001b[1;32m   1718\u001b[0m             \u001b[0mself\u001b[0m\u001b[0;34m.\u001b[0m\u001b[0mtrain_set\u001b[0m \u001b[0;34m=\u001b[0m \u001b[0mtrain_set\u001b[0m\u001b[0;34m\u001b[0m\u001b[0;34m\u001b[0m\u001b[0m\n",
      "\u001b[0;32m/usr/local/lib/python3.6/dist-packages/lightgbm/basic.py\u001b[0m in \u001b[0;36m_safe_call\u001b[0;34m(ret)\u001b[0m\n\u001b[1;32m     43\u001b[0m     \"\"\"\n\u001b[1;32m     44\u001b[0m     \u001b[0;32mif\u001b[0m \u001b[0mret\u001b[0m \u001b[0;34m!=\u001b[0m \u001b[0;36m0\u001b[0m\u001b[0;34m:\u001b[0m\u001b[0;34m\u001b[0m\u001b[0;34m\u001b[0m\u001b[0m\n\u001b[0;32m---> 45\u001b[0;31m         \u001b[0;32mraise\u001b[0m \u001b[0mLightGBMError\u001b[0m\u001b[0;34m(\u001b[0m\u001b[0mdecode_string\u001b[0m\u001b[0;34m(\u001b[0m\u001b[0m_LIB\u001b[0m\u001b[0;34m.\u001b[0m\u001b[0mLGBM_GetLastError\u001b[0m\u001b[0;34m(\u001b[0m\u001b[0;34m)\u001b[0m\u001b[0;34m)\u001b[0m\u001b[0;34m)\u001b[0m\u001b[0;34m\u001b[0m\u001b[0;34m\u001b[0m\u001b[0m\n\u001b[0m\u001b[1;32m     46\u001b[0m \u001b[0;34m\u001b[0m\u001b[0m\n\u001b[1;32m     47\u001b[0m \u001b[0;34m\u001b[0m\u001b[0m\n",
      "\u001b[0;31mLightGBMError\u001b[0m: Check failed: config->bagging_freq > 0 && config->bagging_fraction < 1.0f && config->bagging_fraction > 0.0f at /__w/1/s/python-package/compile/src/boosting/rf.hpp, line 35 .\n"
     ]
    }
   ],
   "source": [
    "lgbm_ = lgbm.LGBMClassifier(boosting_type= 'rf', reg_alpha=0.3, reg_lambda=0.3)\n",
    "lgbm_.fit(dataset.iloc[:,:-1], dataset['fr_yn'])\n",
    "yhat = lgbm_.predict(dataset.iloc[:,:-1])\n",
    "f1_score(dataset['fr_yn'], yhat)"
   ]
  },
  {
   "cell_type": "code",
   "execution_count": 169,
   "metadata": {},
   "outputs": [
    {
     "data": {
      "text/plain": [
       "0.7916447516718012"
      ]
     },
     "execution_count": 169,
     "metadata": {},
     "output_type": "execute_result"
    }
   ],
   "source": [
    "xgb_ = XGBClassifier(booster='dart',max_depth=10, reg_alpha=0.3, reg_lambda=0.3)\n",
    "xgb_.fit(ada_x, ada_y)\n",
    "xgb_yhat = xgb_.predict(dataset.iloc[:,:-1])\n",
    "xgb_yhat_prob = xgb_.predict_proba(dataset.iloc[:,:-1])\n",
    "f1_score(dataset['fr_yn'], xgb_yhat)"
   ]
  },
  {
   "cell_type": "markdown",
   "metadata": {},
   "source": [
    "## validation!"
   ]
  },
  {
   "cell_type": "code",
   "execution_count": 139,
   "metadata": {},
   "outputs": [],
   "source": [
    "dataset_val = data_val[['bldng_cnt','bldng_ar_log','ttl_ar_log','lnd_log',\n",
    "                        'dt_of_athrztn_enc','gas_mean','ele_mean','jmk_enc',\n",
    "                'rgnl_ar_nm_enc','fr_sttn_dstnc','fr_wthr_fclt_in_100m','tbc_rtl_str_dstnc',\n",
    "                'ahsm_dstnc',\n",
    "                        'wnd_spd_log','bldng_ar_prc_log','hm_cnt_log',\n",
    "                'fr_wthr_fclt_dstnc','fr_mn_cnt','bldng_cnt_in_50m','no_tbc_zn_dstnc','hmdt','wnd_drctn_enc','wnd_spd','tmprtr',\n",
    "                'bldng_ar_prc','season_mean_differ','season','dt_of_fr_hr','dt_of_fr_mth','fr_yn']]"
   ]
  },
  {
   "cell_type": "code",
   "execution_count": 140,
   "metadata": {
    "scrolled": false
   },
   "outputs": [
    {
     "name": "stderr",
     "output_type": "stream",
     "text": [
      "/usr/local/lib/python3.6/dist-packages/ipykernel_launcher.py:1: SettingWithCopyWarning: \n",
      "A value is trying to be set on a copy of a slice from a DataFrame\n",
      "\n",
      "See the caveats in the documentation: http://pandas.pydata.org/pandas-docs/stable/indexing.html#indexing-view-versus-copy\n",
      "  \"\"\"Entry point for launching an IPython kernel.\n"
     ]
    }
   ],
   "source": [
    "dataset_val.dropna(inplace=True)"
   ]
  },
  {
   "cell_type": "code",
   "execution_count": 141,
   "metadata": {
    "scrolled": true
   },
   "outputs": [],
   "source": [
    "dataset_val = pp3_func.from_category_to_int(dataset_val)"
   ]
  },
  {
   "cell_type": "code",
   "execution_count": 170,
   "metadata": {
    "scrolled": true
   },
   "outputs": [
    {
     "data": {
      "text/plain": [
       "0.4177848988584018"
      ]
     },
     "execution_count": 170,
     "metadata": {},
     "output_type": "execute_result"
    }
   ],
   "source": [
    "xgb_yhat_val = xgb_.predict(dataset_val.iloc[:,:-1])\n",
    "# xgb_yhat_prob_val = xgb_.predict_proba(dataset_val.iloc[:,:-1])\n",
    "f1_score(dataset_val['fr_yn'], xgb_yhat_val)"
   ]
  },
  {
   "cell_type": "code",
   "execution_count": 172,
   "metadata": {},
   "outputs": [
    {
     "data": {
      "text/plain": [
       "0.44953271028037384"
      ]
     },
     "execution_count": 172,
     "metadata": {},
     "output_type": "execute_result"
    }
   ],
   "source": [
    "yhat_val = lgbm_.predict(dataset_val.iloc[:,:-1])\n",
    "# yhat_prob_val = lgbm_.predict_proba(dataset_val.iloc[:,:-1])\n",
    "f1_score(dataset_val['fr_yn'], yhat_val)"
   ]
  },
  {
   "cell_type": "code",
   "execution_count": 115,
   "metadata": {
    "scrolled": true
   },
   "outputs": [
    {
     "data": {
      "text/plain": [
       "0.462037037037037"
      ]
     },
     "execution_count": 115,
     "metadata": {},
     "output_type": "execute_result"
    }
   ],
   "source": []
  },
  {
   "cell_type": "code",
   "execution_count": 93,
   "metadata": {},
   "outputs": [],
   "source": [
    "ensemble_val = yhat_prob_val* 0.5 + xgb_yhat_prob_val*0.5\n",
    "en_yhat_val = np.argmax(ensemble_val,axis=1)"
   ]
  },
  {
   "cell_type": "code",
   "execution_count": null,
   "metadata": {},
   "outputs": [],
   "source": []
  }
 ],
 "metadata": {
  "kernelspec": {
   "display_name": "Python 3",
   "language": "python",
   "name": "python3"
  },
  "language_info": {
   "codemirror_mode": {
    "name": "ipython",
    "version": 3
   },
   "file_extension": ".py",
   "mimetype": "text/x-python",
   "name": "python",
   "nbconvert_exporter": "python",
   "pygments_lexer": "ipython3",
   "version": "3.6.7"
  }
 },
 "nbformat": 4,
 "nbformat_minor": 2
}

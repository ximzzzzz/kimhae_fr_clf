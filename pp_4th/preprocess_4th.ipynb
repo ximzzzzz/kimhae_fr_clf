{
 "cells": [
  {
   "cell_type": "code",
   "execution_count": 1,
   "metadata": {},
   "outputs": [],
   "source": [
    "import pandas as pd\n",
    "import numpy as np\n",
    "import seaborn as sns\n",
    "import matplotlib.pyplot as plt\n",
    "import sys\n",
    "sys.path.append('../pp_1st')\n",
    "sys.path.append('../pp_2nd')\n",
    "sys.path.append('../pp_3rd')\n",
    "import pp1st_pipeline\n",
    "import pp1st_func\n",
    "import pp2nd_func\n",
    "import pp3_func\n",
    "from sklearn.experimental import enable_iterative_imputer  \n",
    "from sklearn.impute import IterativeImputer\n",
    "from sklearn.preprocessing import LabelEncoder\n",
    "from xgboost.sklearn import XGBClassifier\n",
    "from sklearn.neighbors import KNeighborsClassifier\n",
    "from sklearn.model_selection import train_test_split\n",
    "import lightgbm as lgbm\n",
    "from tqdm import tqdm\n",
    "pd.set_option('display.max_columns', 100)\n",
    "pd.set_option('display.max_rows', 50)\n",
    "from sklearn.metrics import confusion_matrix\n",
    "from sklearn.metrics import f1_score"
   ]
  },
  {
   "cell_type": "code",
   "execution_count": 71,
   "metadata": {
    "scrolled": false
   },
   "outputs": [
    {
     "data": {
      "text/plain": [
       "<module 'pp3_func' from '../pp_3rd/pp3_func.py'>"
      ]
     },
     "execution_count": 71,
     "metadata": {},
     "output_type": "execute_result"
    }
   ],
   "source": [
    "import importlib\n",
    "importlib.reload(pp3_func)"
   ]
  },
  {
   "cell_type": "code",
   "execution_count": 2,
   "metadata": {
    "collapsed": true
   },
   "outputs": [
    {
     "name": "stderr",
     "output_type": "stream",
     "text": [
      "/usr/local/lib/python3.6/dist-packages/IPython/core/interactiveshell.py:3049: DtypeWarning: Columns (8,172,173,174,175,176,177,178,179) have mixed types. Specify dtype option on import or set low_memory=False.\n",
      "  interactivity=interactivity, compiler=compiler, result=result)\n"
     ]
    }
   ],
   "source": [
    "data = pd.read_csv('../raw/PJT002_train.csv', )\n",
    "data_val = pd.read_csv('../raw/PJT002_validation.csv' )\n",
    "data_test = pd.read_csv('../raw/PJT002_test.csv')"
   ]
  },
  {
   "cell_type": "code",
   "execution_count": 3,
   "metadata": {
    "collapsed": true
   },
   "outputs": [
    {
     "name": "stderr",
     "output_type": "stream",
     "text": [
      "../pp_2nd/pp2nd_func.py:40: FutureWarning: The 'get_values' method is deprecated and will be removed in a future version. Use '.to_numpy()' or '.array' instead.\n",
      "  data.loc[data['season']==0, 'season_mean_differ'] = data[data['season']==0]['tmprtr'].apply(lambda x : x - 13.893263003271683).get_values()\n",
      "../pp_2nd/pp2nd_func.py:41: FutureWarning: The 'get_values' method is deprecated and will be removed in a future version. Use '.to_numpy()' or '.array' instead.\n",
      "  data.loc[data['season']==1, 'season_mean_differ'] = data[data['season']==1]['tmprtr'].apply(lambda x : x - 24.737439966590106).get_values()\n",
      "../pp_2nd/pp2nd_func.py:42: FutureWarning: The 'get_values' method is deprecated and will be removed in a future version. Use '.to_numpy()' or '.array' instead.\n",
      "  data.loc[data['season']==2, 'season_mean_differ'] = data[data['season']==2]['tmprtr'].apply(lambda x : x - 15.416313269493845).get_values()\n",
      "../pp_2nd/pp2nd_func.py:43: FutureWarning: The 'get_values' method is deprecated and will be removed in a future version. Use '.to_numpy()' or '.array' instead.\n",
      "  data.loc[data['season']==3, 'season_mean_differ'] = data[data['season']==3]['tmprtr'].apply(lambda x : x - 2.671166732361056).get_values()\n"
     ]
    }
   ],
   "source": [
    "data = pp2nd_func.replace(data)\n",
    "data = pp2nd_func.label_encoding(data)\n",
    "data_val = pp2nd_func.replace(data_val)\n",
    "data_val = pp2nd_func.label_encoding(data_val)"
   ]
  },
  {
   "cell_type": "code",
   "execution_count": 4,
   "metadata": {},
   "outputs": [],
   "source": [
    "# data['mlt_us_yn_enc'] = data['mlt_us_yn'].apply(lambda x : 1 if x=='Y' else 0)\n",
    "# data_val['mlt_us_yn_enc'] = data_val['mlt_us_yn'].apply(lambda x : 1 if x=='Y' else 0)"
   ]
  },
  {
   "cell_type": "code",
   "execution_count": 4,
   "metadata": {
    "scrolled": true
   },
   "outputs": [],
   "source": [
    "data = pp3_func.energy_mean(data)\n",
    "data_val = pp3_func.energy_mean(data_val) "
   ]
  },
  {
   "cell_type": "code",
   "execution_count": 5,
   "metadata": {},
   "outputs": [],
   "source": [
    "data = pp3_func.Hm_cnt(data)\n",
    "data_val = pp3_func.Hm_cnt(data_val)"
   ]
  },
  {
   "cell_type": "code",
   "execution_count": 95,
   "metadata": {},
   "outputs": [
    {
     "data": {
      "text/plain": [
       "2433    어방동\n",
       "Name: emd_nm_small, dtype: object"
      ]
     },
     "execution_count": 95,
     "metadata": {},
     "output_type": "execute_result"
    }
   ],
   "source": [
    "data_val[data_val['hm_cnt'].isnull()]['emd_nm_small']"
   ]
  },
  {
   "cell_type": "code",
   "execution_count": 6,
   "metadata": {
    "collapsed": true
   },
   "outputs": [
    {
     "data": {
      "text/plain": [
       "<matplotlib.axes._subplots.AxesSubplot at 0x7f18e64ef400>"
      ]
     },
     "execution_count": 6,
     "metadata": {},
     "output_type": "execute_result"
    },
    {
     "data": {
      "image/png": "[encoded data removed]",
      "text/plain": [
       "<Figure size 432x288 with 1 Axes>"
      ]
     },
     "metadata": {
      "needs_background": "light"
     },
     "output_type": "display_data"
    }
   ],
   "source": [
    "sns.distplot(data['hm_cnt_log'].dropna())"
   ]
  },
  {
   "cell_type": "code",
   "execution_count": 8,
   "metadata": {
    "collapsed": true
   },
   "outputs": [
    {
     "data": {
      "text/plain": [
       "<matplotlib.axes._subplots.AxesSubplot at 0x7f10e07309b0>"
      ]
     },
     "execution_count": 8,
     "metadata": {},
     "output_type": "execute_result"
    },
    {
     "data": {
      "image/png": "[encoded data removed]",
      "text/plain": [
       "<Figure size 432x288 with 1 Axes>"
      ]
     },
     "metadata": {
      "needs_background": "light"
     },
     "output_type": "display_data"
    }
   ],
   "source": [
    "sns.countplot(data['hm_cnt_log_enc'])"
   ]
  },
  {
   "cell_type": "code",
   "execution_count": 6,
   "metadata": {
    "scrolled": true
   },
   "outputs": [],
   "source": [
    "data = pp3_func.date_author_pre(data, train=True)\n",
    "data_val = pp3_func.date_author_pre(data_val, train=False)"
   ]
  },
  {
   "cell_type": "code",
   "execution_count": 7,
   "metadata": {},
   "outputs": [],
   "source": [
    "data['dt_of_athrztn_rflct_log'] =  np.log(2020 - data['dt_of_athrztn'])\n",
    "data_val['dt_of_athrztn_rflct_log'] =  np.log(2020 - data_val['dt_of_athrztn'])"
   ]
  },
  {
   "cell_type": "markdown",
   "metadata": {},
   "source": [
    "-----------"
   ]
  },
  {
   "cell_type": "code",
   "execution_count": 8,
   "metadata": {},
   "outputs": [],
   "source": [
    "data.loc[data[\"bldng_us\"].values == \"제1종근린생활시설\", \"bldng_us\"] = None\n",
    "data.loc[data[\"bldng_us\"].values == \"제2종근린생활시설\", \"bldng_us\"] = None\n",
    "data_val.loc[data_val[\"bldng_us\"].values == \"제1종근린생활시설\", \"bldng_us\"] = None\n",
    "data_val.loc[data_val[\"bldng_us\"].values == \"제2종근린생활시설\", \"bldng_us\"] = None\n",
    "\n",
    "one_hot_bldng_us = pd.get_dummies(data[\"bldng_us\"])\n",
    "data = data.join(one_hot_bldng_us)\n",
    "one_hot_bldng_us = pd.get_dummies(data_val[\"bldng_us\"])\n",
    "data_val = data_val.join(one_hot_bldng_us)"
   ]
  },
  {
   "cell_type": "code",
   "execution_count": 9,
   "metadata": {},
   "outputs": [],
   "source": [
    "A = [\"목구조\", \"일반목구조\", \"벽돌구조\", \"블록구조\", \"석구조\", \"조적구조\"]\n",
    "B = [\"강파이프구조\", \"경량철골구조\", \"기타강구조\", \"기타구조\", \"기타조적구조\"]\n",
    "C = [\"일반철골구조\", \"철골철근콘크리트구조\", \"철골콘크리트구조\", \"철근콘크리트구조\"]\n",
    "\n",
    "for i in A:\n",
    "    data.loc[data[\"bldng_archtctr\"].values == i, \"bldng_archtctr_encoded\"] = \"A\"\n",
    "for i in B:\n",
    "    data.loc[data[\"bldng_archtctr\"].values == i, \"bldng_archtctr_encoded\"] = \"B\" \n",
    "for i in C:\n",
    "    data.loc[data[\"bldng_archtctr\"].values == i, \"bldng_archtctr_encoded\"] = \"C\"\n",
    "\n",
    "for i in A:\n",
    "    data_val.loc[data_val[\"bldng_archtctr\"].values == i, \"bldng_archtctr_encoded\"] = \"A\"\n",
    "for i in B:\n",
    "    data_val.loc[data_val[\"bldng_archtctr\"].values == i, \"bldng_archtctr_encoded\"] = \"B\"    \n",
    "for i in C:\n",
    "    data_val.loc[data_val[\"bldng_archtctr\"].values == i, \"bldng_archtctr_encoded\"] = \"C\"\n",
    "    \n",
    "one_hot_bldng_archtctr = pd.get_dummies(data[\"bldng_archtctr_encoded\"])\n",
    "data = data.join(one_hot_bldng_archtctr)\n",
    "\n",
    "one_hot_bldng_archtctr = pd.get_dummies(data_val[\"bldng_archtctr_encoded\"])\n",
    "data_val = data_val.join(one_hot_bldng_archtctr)\n",
    "\n",
    "data = data.drop(\"bldng_archtctr\", 1)\n",
    "data_val = data_val.drop(\"bldng_archtctr\", 1)\n",
    "data = data.drop(\"bldng_archtctr_encoded\", 1)\n",
    "data_val = data_val.drop(\"bldng_archtctr_encoded\", 1)\n"
   ]
  },
  {
   "cell_type": "code",
   "execution_count": 10,
   "metadata": {},
   "outputs": [],
   "source": [
    "data[\"dt_of_athrztn\"] = data[\"dt_of_athrztn\"].astype(str)\n",
    "data_val[\"dt_of_athrztn\"] = data_val[\"dt_of_athrztn\"].astype(str)"
   ]
  },
  {
   "cell_type": "code",
   "execution_count": 11,
   "metadata": {},
   "outputs": [
    {
     "name": "stderr",
     "output_type": "stream",
     "text": [
      "/usr/local/lib/python3.6/dist-packages/ipykernel_launcher.py:12: SettingWithCopyWarning: \n",
      "A value is trying to be set on a copy of a slice from a DataFrame.\n",
      "Try using .loc[row_indexer,col_indexer] = value instead\n",
      "\n",
      "See the caveats in the documentation: http://pandas.pydata.org/pandas-docs/stable/user_guide/indexing.html#returning-a-view-versus-a-copy\n",
      "  if sys.path[0] == '':\n"
     ]
    }
   ],
   "source": [
    "data[\"year_athrztn\"] = data[\"dt_of_athrztn\"].apply(lambda x : x[:4])\n",
    "data_val[\"year_athrztn\"] = data_val[\"dt_of_athrztn\"].apply(lambda x : x[:4])\n",
    "\n",
    "year_athrztn_notnull = data[(data[\"year_athrztn\"]!=\"nan\")]\n",
    "year_athrztn_YYYY = year_athrztn_notnull[year_athrztn_notnull[\"year_athrztn\"].astype(int)<3000]\n",
    "year_athrztn_YY = year_athrztn_notnull[year_athrztn_notnull[\"year_athrztn\"].astype(int)>3000]\n",
    "year_athrztn_null = data[data[\"year_athrztn\"]==\"nan\"]\n",
    "\n",
    "year_athrztn_YY[\"year_athrztn\"] = 1900 + year_athrztn_YY[\"dt_of_athrztn\"].str[:2].astype(int)\n",
    "year_athrztn_notnull = year_athrztn_YYYY.append(year_athrztn_YY)\n",
    "year_athrztn_median=year_athrztn_notnull[\"year_athrztn\"].median()\n",
    "year_athrztn_null[\"year_athrztn\"]=year_athrztn_median\n",
    "\n",
    "data = year_athrztn_notnull.append(year_athrztn_null)\n",
    "data_val.loc[data_val[\"year_athrztn\"]==\"nan\",\"year_athrztn\"]= data_val[data_val[\"year_athrztn\"]!=\"nan\"][\"year_athrztn\"].median()\n",
    "\n",
    "data[\"year_athrztn\"] = data[\"year_athrztn\"].astype(float).astype(int)\n",
    "data_val[\"year_athrztn\"] = data_val[\"year_athrztn\"].astype(float).astype(int)\n",
    "\n",
    "data.loc[data[\"year_athrztn\"]<2000,\"year_athrztn_encoded\"] = \"old\"\n",
    "data.loc[data[\"year_athrztn\"]>1999,\"year_athrztn_encoded\"] = \"new\"\n",
    "\n",
    "data_val.loc[data_val[\"year_athrztn\"]<2000,\"year_athrztn_encoded\"] = \"old\"\n",
    "data_val.loc[data_val[\"year_athrztn\"]>1999,\"year_athrztn_encoded\"] = \"new\"\n"
   ]
  },
  {
   "cell_type": "code",
   "execution_count": 12,
   "metadata": {},
   "outputs": [],
   "source": [
    "data.loc[data[\"trgt_crtr\"]==\"자동화재탐지설치대상\", \"auto_fr\"] = 1\n",
    "data.loc[data[\"trgt_crtr\"]!=\"자동화재탐지설치대상\", \"auto_fr\"] = 0\n",
    "data.loc[data[\"trgt_crtr\"]==\"옥내소화전설치대상\", \"fireplug\"] = 1\n",
    "data.loc[data[\"trgt_crtr\"]!=\"옥내소화전설치대상\", \"fireplug\"] = 0\n",
    "data.loc[data[\"trgt_crtr\"]==\"스프링클러,물분무등설치대상\", \"sprinkler\"] = 1\n",
    "data.loc[data[\"trgt_crtr\"]!=\"스프링클러,물분무등설치대상\", \"sprinkler\"] = 0\n",
    "\n",
    "data_val.loc[data_val[\"trgt_crtr\"]==\"자동화재탐지설치대상\", \"auto_fr\"] = 1\n",
    "data_val.loc[data_val[\"trgt_crtr\"]!=\"자동화재탐지설치대상\", \"auto_fr\"] = 0\n",
    "data_val.loc[data_val[\"trgt_crtr\"]==\"옥내소화전설치대상\", \"fireplug\"] = 1\n",
    "data_val.loc[data_val[\"trgt_crtr\"]!=\"옥내소화전설치대상\", \"fireplug\"] = 0\n",
    "data_val.loc[data_val[\"trgt_crtr\"]==\"스프링클러,물분무등설치대상\", \"sprinkler\"] = 1\n",
    "data_val.loc[data_val[\"trgt_crtr\"]!=\"스프링클러,물분무등설치대상\", \"sprinkler\"] = 0\n",
    "\n",
    "data = data.drop(\"trgt_crtr\", 1)\n",
    "data_val = data_val.drop(\"trgt_crtr\", 1)"
   ]
  },
  {
   "cell_type": "code",
   "execution_count": 13,
   "metadata": {},
   "outputs": [],
   "source": [
    "data.loc[data[\"fr_fghtng_fclt_spcl_css_6_yn\"].isnull(),\"css_6_yn_encoded\"]=0\n",
    "data.loc[data[\"fr_fghtng_fclt_spcl_css_6_yn\"].notnull(),\"css_6_yn_encoded\"]=1\n",
    "\n",
    "data_val.loc[data_val[\"fr_fghtng_fclt_spcl_css_6_yn\"].isnull(),\"css_6_yn_encoded\"]=0\n",
    "data_val.loc[data_val[\"fr_fghtng_fclt_spcl_css_6_yn\"].notnull(),\"css_6_yn_encoded\"]=1\n",
    "\n",
    "data = data.drop(\"fr_fghtng_fclt_spcl_css_5_yn\", 1)\n",
    "data = data.drop(\"fr_fghtng_fclt_spcl_css_6_yn\", 1)\n",
    "data_val = data_val.drop(\"fr_fghtng_fclt_spcl_css_5_yn\", 1)\n",
    "data_val = data_val.drop(\"fr_fghtng_fclt_spcl_css_6_yn\", 1)"
   ]
  },
  {
   "cell_type": "code",
   "execution_count": 14,
   "metadata": {},
   "outputs": [],
   "source": [
    "one_hot_us_yn = pd.get_dummies(data[\"us_yn\"])\n",
    "data = data.join(one_hot_us_yn)\n",
    "\n",
    "one_hot_us_yn = pd.get_dummies(data_val[\"us_yn\"])\n",
    "data_val = data_val.join(one_hot_us_yn)\n",
    "\n",
    "data = data.drop(\"us_yn\", 1)\n",
    "data_val = data_val.drop(\"us_yn\", 1)"
   ]
  },
  {
   "cell_type": "code",
   "execution_count": 15,
   "metadata": {},
   "outputs": [],
   "source": [
    "data.loc[data[\"dngrs_thng_yn\"].isnull(),\"dngrs_thng_yn_encoded\"]= 0\n",
    "data.loc[data[\"dngrs_thng_yn\"].notnull(),\"dngrs_thng_yn_encoded\"]= 1\n",
    "data_val.loc[data_val[\"dngrs_thng_yn\"].isnull(),\"dngrs_thng_yn_encoded\"]= 0\n",
    "data_val.loc[data_val[\"dngrs_thng_yn\"].notnull(),\"dngrs_thng_yn_encoded\"]= 1\n",
    "\n",
    "data = data.drop(\"dngrs_thng_yn\", 1)\n",
    "data_val = data_val.drop(\"dngrs_thng_yn\", 1)\n",
    "\n",
    "data.loc[data[\"slf_fr_brgd_yn\"].isnull(),\"slf_fr_brgd_yn\"]=0\n",
    "data = data.drop(\"slf_fr_brgd_yn\", 1)\n",
    "data_val = data_val.drop(\"slf_fr_brgd_yn\", 1)\n",
    "\n",
    "data = data.drop(\"blk_dngrs_thng_mnfctr_yn\", 1)\n",
    "data_val = data_val.drop(\"blk_dngrs_thng_mnfctr_yn\", 1)\n",
    "\n",
    "data = data.drop(\"cltrl_hrtg_yn\", 1)\n",
    "data_val = data_val.drop(\"cltrl_hrtg_yn\", 1)"
   ]
  },
  {
   "cell_type": "code",
   "execution_count": 35,
   "metadata": {},
   "outputs": [],
   "source": [
    "# delete cell\n",
    "data.loc[data[\"bldng_ar\"]==0, \"bldng_ar\"] = data[\"bldng_ar\"].median()\n",
    "data.loc[data[\"ttl_ar\"]==0, \"ttl_ar\"] = data[\"ttl_ar\"].median()\n",
    "data_val.loc[data_val[\"bldng_ar\"]==0, \"bldng_ar\"] = data_val[\"bldng_ar\"].median()\n",
    "data_val.loc[data_val[\"ttl_ar\"]==0, \"ttl_ar\"] = data_val[\"ttl_ar\"].median()\n",
    "\n",
    "data = data.drop(\"lnd_ar\", 1)\n",
    "data_val = data_val.drop(\"lnd_ar\", 1)\n",
    "\n",
    "data = data.drop(\"dt_of_athrztn\", 1)\n",
    "data_val = data_val.drop(\"dt_of_athrztn\", 1)"
   ]
  },
  {
   "cell_type": "markdown",
   "metadata": {},
   "source": [
    "- Weather"
   ]
  },
  {
   "cell_type": "code",
   "execution_count": 16,
   "metadata": {},
   "outputs": [],
   "source": [
    "data = pp2nd_func.wnd_drctn_enc(data)\n",
    "data_val = pp2nd_func.wnd_drctn_enc(data_val)\n",
    "data = pp3_func.Wnd_spd_log(data)\n",
    "data_val = pp3_func.Wnd_spd_log(data_val)"
   ]
  },
  {
   "cell_type": "code",
   "execution_count": 24,
   "metadata": {},
   "outputs": [
    {
     "data": {
      "text/plain": [
       "season                 0\n",
       "season_mean_differ    13\n",
       "hmdt                  22\n",
       "wnd_drctn_enc          0\n",
       "wnd_spd_log           33\n",
       "tmprtr                13\n",
       "dtype: int64"
      ]
     },
     "execution_count": 24,
     "metadata": {},
     "output_type": "execute_result"
    }
   ],
   "source": [
    "data[['season','season_mean_differ','hmdt','wnd_drctn_enc','wnd_spd_log','tmprtr']].isnull().sum()"
   ]
  },
  {
   "cell_type": "code",
   "execution_count": 17,
   "metadata": {},
   "outputs": [],
   "source": [
    "data['wnd_drctn_enc'] = data['wnd_drctn_enc'].astype('category')\n",
    "data['season'] = data['season'].astype('category')\n",
    "data['wnd_drctn_enc'] = data['wnd_drctn_enc'].astype('category')\n",
    "weather_imputer = IterativeImputer(n_nearest_features=5 , max_iter=50, tol= 0.0001)\n",
    "weather_data = data[['season','season_mean_differ','hmdt','wnd_drctn_enc','wnd_spd_log','tmprtr']]\n",
    "weather_imp_res = weather_imputer.fit_transform(weather_data)\n",
    "weather_imp_df = pd.DataFrame(weather_imp_res, columns=weather_data.columns)\n",
    "data = pd.concat([data.drop(columns=['season_mean_differ','hmdt','wnd_spd_log','tmprtr']) , weather_imp_df[['season_mean_differ','hmdt','wnd_spd_log','tmprtr']]], axis=1)"
   ]
  },
  {
   "cell_type": "code",
   "execution_count": 18,
   "metadata": {
    "scrolled": true
   },
   "outputs": [],
   "source": [
    "data_val = pp3_func.Weather(data_val, weather_imputer)\n",
    "data_val = pp3_func.Wnd_spd_log(data_val)"
   ]
  },
  {
   "cell_type": "markdown",
   "metadata": {},
   "source": [
    "- jmk"
   ]
  },
  {
   "cell_type": "code",
   "execution_count": 19,
   "metadata": {},
   "outputs": [],
   "source": [
    "data = pp3_func.Jmk_enc(data)\n",
    "data_val = pp3_func.Jmk_enc(data_val)"
   ]
  },
  {
   "cell_type": "code",
   "execution_count": 20,
   "metadata": {},
   "outputs": [],
   "source": [
    "data = pp3_func.Fr_mn_cnt(data)\n",
    "data_val = pp3_func.Fr_mn_cnt(data_val)"
   ]
  },
  {
   "cell_type": "code",
   "execution_count": 21,
   "metadata": {},
   "outputs": [],
   "source": [
    "data = pp3_func.regional_name_pre(data)\n",
    "data_val = pp3_func.regional_name_pre(data_val)"
   ]
  },
  {
   "cell_type": "markdown",
   "metadata": {},
   "source": [
    "- bldng_prc"
   ]
  },
  {
   "cell_type": "code",
   "execution_count": 22,
   "metadata": {},
   "outputs": [],
   "source": [
    "data.reset_index(drop=True, inplace=True)\n",
    "data_val.reset_index(drop=True, inplace=True)"
   ]
  },
  {
   "cell_type": "code",
   "execution_count": 23,
   "metadata": {},
   "outputs": [],
   "source": [
    "data['bldng_ar_prc_log'] = np.log(data['bldng_ar_prc'])\n",
    "data_val['bldng_ar_prc_log'] = np.log(data_val['bldng_ar_prc'])"
   ]
  },
  {
   "cell_type": "code",
   "execution_count": 24,
   "metadata": {},
   "outputs": [],
   "source": [
    "bldng_ar_prc_imputer = IterativeImputer( min_value=9.77 , max_value = 16.5, max_iter=30 )\n",
    "bldng_ar_prc_impres = bldng_ar_prc_imputer.fit_transform(data[['bldng_ar_prc_log','dt_of_athrztn_enc','dt_of_athrztn_rflct_log','hm_cnt_log','bldng_ar','ttl_ar','ttl_grnd_flr','fr_wthr_fclt_dstnc','tbc_rtl_str_dstnc','ele_mean','rgnl_ar_nm_enc','jmk_enc']])\n",
    "bldng_ar_prc_df = pd.DataFrame(bldng_ar_prc_impres, columns = ['bldng_ar_prc_log','dt_of_athrztn_enc','dt_of_athrztn_rflct_log','hm_cnt_log','bldng_ar','ttl_ar','ttl_grnd_flr','fr_wthr_fclt_dstnc','tbc_rtl_str_dstnc','ele_mean','rgnl_ar_nm_enc','jmk_enc'])\n",
    "data = pd.concat([data.drop(columns = ['bldng_ar_prc_log','hm_cnt_log']), bldng_ar_prc_df[['bldng_ar_prc_log','hm_cnt_log']]], axis=1)"
   ]
  },
  {
   "cell_type": "code",
   "execution_count": 25,
   "metadata": {},
   "outputs": [],
   "source": [
    "data_val = pp3_func.building_price(data_val, bldng_ar_prc_imputer)"
   ]
  },
  {
   "cell_type": "code",
   "execution_count": 26,
   "metadata": {},
   "outputs": [],
   "source": [
    "data = pp3_func.Hm_cnt_log_enc(data)\n",
    "data_val = pp3_func.Hm_cnt_log_enc(data_val)"
   ]
  },
  {
   "cell_type": "markdown",
   "metadata": {},
   "source": [
    "- rgnl_ar_nm"
   ]
  },
  {
   "cell_type": "code",
   "execution_count": 27,
   "metadata": {},
   "outputs": [],
   "source": [
    "data.reset_index(drop=True, inplace=True)\n",
    "data_val.reset_index(drop=True, inplace=True)"
   ]
  },
  {
   "cell_type": "code",
   "execution_count": 28,
   "metadata": {},
   "outputs": [],
   "source": [
    "rgnl_ar_imputer = IterativeImputer(n_nearest_features=7, min_value=0, max_value=5, max_iter=30)\n",
    "rgnl_ar_impres = rgnl_ar_imputer.fit_transform(data[['rgnl_ar_nm_enc','bldng_ar_prc_log','bldng_ar_prc','jmk_enc','hm_cnt_log','hm_cnt','bldng_ar','ttl_ar','jmk_enc']])\n",
    "rgnl_ar_df = pd.DataFrame(rgnl_ar_impres, columns=['rgnl_ar_nm_enc','bldng_ar_prc_log','bldng_ar_prc','jmk_enc','hm_cnt_log','hm_cnt','bldng_ar','ttl_ar','jmk_enc'])\n",
    "data = pd.concat([data.drop(columns = 'rgnl_ar_nm_enc'), rgnl_ar_df['rgnl_ar_nm_enc']], axis=1)\n",
    "data['rgnl_ar_nm_enc'] = np.round(data['rgnl_ar_nm_enc'])"
   ]
  },
  {
   "cell_type": "code",
   "execution_count": 29,
   "metadata": {
    "scrolled": true
   },
   "outputs": [],
   "source": [
    "data_val = pp3_func.regional_name_post(data_val, rgnl_ar_imputer)\n",
    "data_val['rgnl_ar_nm_enc'] = np.round(data_val['rgnl_ar_nm_enc'])"
   ]
  },
  {
   "cell_type": "markdown",
   "metadata": {},
   "source": [
    "- dt_of_athrztn"
   ]
  },
  {
   "cell_type": "code",
   "execution_count": 30,
   "metadata": {},
   "outputs": [],
   "source": [
    "data.reset_index(drop=True, inplace=True)\n",
    "data_val.reset_index(drop=True, inplace=True)"
   ]
  },
  {
   "cell_type": "code",
   "execution_count": 31,
   "metadata": {},
   "outputs": [],
   "source": [
    "data['dt_of_athrztn_enc'] = data['dt_of_athrztn_enc'].astype('category')"
   ]
  },
  {
   "cell_type": "code",
   "execution_count": 32,
   "metadata": {},
   "outputs": [],
   "source": [
    "dt_of_ath_imputer = IterativeImputer( n_nearest_features=7, min_value=0, max_value=4, max_iter=30 )\n",
    "dt_of_ath_res = dt_of_ath_imputer.fit_transform(data[['dt_of_athrztn_enc','dt_of_athrztn_rflct_log','bldng_cnt','bldng_ar','jmk_enc','gas_mean','ele_mean','hm_cnt','hm_cnt_log','tbc_rtl_str_dstnc','bldng_ar_prc_log','bldng_ar_prc','rgnl_ar_nm_enc']])\n",
    "dt_of_ath_df = pd.DataFrame(dt_of_ath_res , columns = ['dt_of_athrztn_enc','dt_of_athrztn_rflct_log','bldng_cnt','bldng_ar','jmk_enc','gas_mean','ele_mean','hm_cnt','hm_cnt_log','tbc_rtl_str_dstnc','bldng_ar_prc_log','bldng_ar_prc','rgnl_ar_nm_enc'])\n",
    "data = pd.concat([data.drop(columns = ['dt_of_athrztn_enc','dt_of_athrztn_rflct_log']), dt_of_ath_df[['dt_of_athrztn_enc','dt_of_athrztn_rflct_log']]] ,axis=1)\n",
    "data['dt_of_athrztn_enc'] = np.round(data['dt_of_athrztn_enc'])"
   ]
  },
  {
   "cell_type": "code",
   "execution_count": 33,
   "metadata": {
    "scrolled": true
   },
   "outputs": [],
   "source": [
    "data_val = pp3_func.date_author_post(data_val, dt_of_ath_imputer )\n",
    "data_val['dt_of_athrztn_enc'] = np.round(data_val['dt_of_athrztn_enc'])"
   ]
  },
  {
   "cell_type": "markdown",
   "metadata": {},
   "source": [
    "- bldng_ar, ttl_ar, lnd_ar"
   ]
  },
  {
   "cell_type": "code",
   "execution_count": 37,
   "metadata": {},
   "outputs": [],
   "source": [
    "data.reset_index(drop=True, inplace=True)\n",
    "data_val.reset_index(drop=True, inplace=True)"
   ]
  },
  {
   "cell_type": "code",
   "execution_count": 38,
   "metadata": {},
   "outputs": [],
   "source": [
    "data['bldng_ar_log'] = np.log(data['bldng_ar'])\n",
    "data['ttl_ar_log'] = np.log(data['ttl_ar'])\n",
    "data['lnd_ar_log'] = np.log(data['lnd_ar'])\n",
    "data_val = pp3_func.log_maker(data_val, 'bldng_ar')\n",
    "data_val = pp3_func.log_maker(data_val, 'ttl_ar')\n",
    "data_val = pp3_func.log_maker(data_val, 'lnd_ar')\n",
    "# data_val.rename(columns={'lnd_ar_log' : 'lnd_log'},inplace=True)"
   ]
  },
  {
   "cell_type": "code",
   "execution_count": 39,
   "metadata": {},
   "outputs": [],
   "source": [
    "ar_imputer = IterativeImputer( max_iter=30)\n",
    "ar_impres = ar_imputer.fit_transform(data[['ttl_ar_log','bldng_ar_log','lnd_ar_log','hm_cnt_log','fr_mn_cnt','rgnl_ar_nm_enc','dt_of_athrztn_enc','jmk_enc','bldng_ar_prc_log','fr_wthr_fclt_dstnc','tbc_rtl_str_dstnc']])\n",
    "ar_df = pd.DataFrame(ar_impres, columns = ['ttl_ar_log','bldng_ar_log','lnd_ar_log','hm_cnt_log','fr_mn_cnt','rgnl_ar_nm_enc','dt_of_athrztn_enc','jmk_enc','bldng_ar_prc_log','fr_wthr_fclt_dstnc','tbc_rtl_str_dstnc'])\n",
    "data = pd.concat([data.drop(columns = ['ttl_ar_log','bldng_ar_log','lnd_ar_log']), ar_df[['ttl_ar_log','bldng_ar_log','lnd_ar_log']]], axis=1)"
   ]
  },
  {
   "cell_type": "code",
   "execution_count": 40,
   "metadata": {},
   "outputs": [],
   "source": [
    "data_val = pp3_func.area_predict(data_val, ar_imputer)"
   ]
  },
  {
   "cell_type": "code",
   "execution_count": 37,
   "metadata": {},
   "outputs": [],
   "source": [
    "binary_dic = {7: 1, 8:1, 9:1, 10:1, 11:1, 12:1, 13:1, 14:1, 15:1, 16:1, 17:1, 18:1, 19:1,20:1, 21:0, 22:0, 23:0, 0:0, 1:0, 2:0, 3:0, 4:0, 5:0, 6:0}\n",
    "data['dt_of_fr_hr_enc'] = data['dt_of_fr_hr'].map(binary_dic)\n",
    "data_val['dt_of_fr_hr_enc'] = data_val['dt_of_fr_hr'].map(binary_dic)"
   ]
  },
  {
   "cell_type": "markdown",
   "metadata": {},
   "source": [
    "# modeling"
   ]
  },
  {
   "cell_type": "code",
   "execution_count": 42,
   "metadata": {},
   "outputs": [],
   "source": [
    "# data.drop(columns='id',inplace=True)\n",
    "# data_val.drop(columns='id',inplace=True)\n",
    "train_x = data.drop(columns=['dt_of_fr','fr_yn'])\n",
    "train_y = data['fr_yn']\n",
    "val_x = data_val.drop(columns=['dt_of_fr','fr_yn'])\n",
    "val_y = data_val['fr_yn']\n",
    "train_x = train_x.fillna(-1)\n",
    "X_val = X_val.fillna(-1)"
   ]
  },
  {
   "cell_type": "code",
   "execution_count": 43,
   "metadata": {},
   "outputs": [
    {
     "data": {
      "text/plain": [
       "Index(['dt_of_fr', 'fr_yn', 'bldng_cnt', 'jmk', 'id', 'emd_nm',\n",
       "       'fr_sttn_dstnc', 'fr_wthr_fclt_dstnc', 'fr_mn_cnt', 'mlt_us_yn',\n",
       "       'cctv_dstnc', 'fr_wthr_fclt_in_100m', 'cctv_in_100m',\n",
       "       'tbc_rtl_str_dstnc', 'sft_emrgnc_bll_dstnc', 'ahsm_dstnc',\n",
       "       'no_tbc_zn_dstnc', 'bldng_cnt_in_50m', 'emd_nm_big', 'emd_nm_small',\n",
       "       'dt_of_fr_yr', 'dt_of_fr_hr', 'dt_of_fr_mth', 'season', 'gas_mean',\n",
       "       'ele_mean', 'hm_cnt_log_enc', 'wnd_drctn_enc', 'season_mean_differ',\n",
       "       'hmdt', 'wnd_spd_log', 'tmprtr', 'jmk_enc', 'bldng_ar_prc_log',\n",
       "       'hm_cnt_log', 'rgnl_ar_nm_enc', 'dt_of_athrztn_enc',\n",
       "       'dt_of_athrztn_rflct_log', 'ttl_ar_log', 'bldng_ar_log', 'lnd_ar_log',\n",
       "       'dt_of_fr_hr_enc'],\n",
       "      dtype='object')"
      ]
     },
     "execution_count": 43,
     "metadata": {},
     "output_type": "execute_result"
    }
   ],
   "source": [
    "data.columns[data.isnull().sum()==0]"
   ]
  },
  {
   "cell_type": "code",
   "execution_count": 110,
   "metadata": {},
   "outputs": [],
   "source": [
    "dataset = data[['bldng_cnt','jmk_enc','fr_sttn_dstnc','fr_wthr_fclt_dstnc','fr_mn_cnt','fr_wthr_fclt_in_100m','tbc_rtl_str_dstnc',\n",
    "                'no_tbc_zn_dstnc','bldng_cnt_in_50m','dt_of_fr_hr_enc','dt_of_fr_hr','dt_of_fr_mth','season','gas_mean','ele_mean','hm_cnt_log_enc',\n",
    "                'wnd_drctn_enc','season_mean_differ','hmdt','wnd_spd_log','tmprtr','bldng_ar_prc_log','hm_cnt_log','rgnl_ar_nm_enc',\n",
    "                'dt_of_athrztn_enc', 'dt_of_athrztn_rflct_log','ttl_ar_log', 'bldng_ar_log', 'lnd_ar_log','fr_yn']]"
   ]
  },
  {
   "cell_type": "code",
   "execution_count": 111,
   "metadata": {},
   "outputs": [],
   "source": [
    "dataset = pp3_func.from_category_to_int(dataset)"
   ]
  },
  {
   "cell_type": "code",
   "execution_count": 102,
   "metadata": {
    "collapsed": true
   },
   "outputs": [
    {
     "data": {
      "text/plain": [
       "bldng_cnt                  0\n",
       "jmk_enc                    0\n",
       "fr_sttn_dstnc              0\n",
       "fr_wthr_fclt_dstnc         0\n",
       "fr_mn_cnt                  0\n",
       "fr_wthr_fclt_in_100m       0\n",
       "tbc_rtl_str_dstnc          0\n",
       "no_tbc_zn_dstnc            0\n",
       "bldng_cnt_in_50m           0\n",
       "dt_of_fr_hr_enc            0\n",
       "dt_of_fr_hr                0\n",
       "dt_of_fr_mth               0\n",
       "season                     0\n",
       "gas_mean                   0\n",
       "ele_mean                   0\n",
       "hm_cnt_log_enc             0\n",
       "wnd_drctn_enc              0\n",
       "season_mean_differ         0\n",
       "hmdt                       0\n",
       "wnd_spd_log                0\n",
       "tmprtr                     0\n",
       "bldng_ar_prc_log           0\n",
       "hm_cnt_log                 0\n",
       "rgnl_ar_nm_enc             0\n",
       "dt_of_athrztn_enc          0\n",
       "dt_of_athrztn_rflct_log    0\n",
       "ttl_ar_log                 0\n",
       "bldng_ar_log               0\n",
       "lnd_ar_log                 0\n",
       "fr_yn                      0\n",
       "dtype: int64"
      ]
     },
     "execution_count": 102,
     "metadata": {},
     "output_type": "execute_result"
    }
   ],
   "source": [
    "dataset.isnull().sum()"
   ]
  },
  {
   "cell_type": "code",
   "execution_count": 112,
   "metadata": {},
   "outputs": [
    {
     "data": {
      "text/plain": [
       "0.52011144001393"
      ]
     },
     "execution_count": 112,
     "metadata": {},
     "output_type": "execute_result"
    }
   ],
   "source": [
    "lgbm_ = lgbm.LGBMClassifier( reg_alpha=0.3, reg_lambda=0.3)\n",
    "lgbm_.fit(dataset.iloc[:,:-1], dataset['fr_yn'])\n",
    "yhat = lgbm_.predict(dataset.iloc[:,:-1])\n",
    "f1_score(dataset['fr_yn'], yhat)"
   ]
  },
  {
   "cell_type": "code",
   "execution_count": 43,
   "metadata": {},
   "outputs": [
    {
     "ename": "ValueError",
     "evalue": "DataFrame.dtypes for data must be int, float or bool.\nDid not expect the data types in the following fields: bldng_us, bldng_us_clssfctn, jmk, rgnl_ar_nm, rgnl_ar_nm2, lnd_us_sttn_nm, rd_sd_nm, emd_nm, emd_nm_big, emd_nm_small, year_athrztn_encoded",
     "output_type": "error",
     "traceback": [
      "\u001b[0;31m\u001b[0m",
      "\u001b[0;31mValueError\u001b[0mTraceback (most recent call last)",
      "\u001b[0;32m<ipython-input-43-3a6d1096d783>\u001b[0m in \u001b[0;36m<module>\u001b[0;34m\u001b[0m\n\u001b[1;32m      1\u001b[0m \u001b[0mlgbm_\u001b[0m \u001b[0;34m=\u001b[0m \u001b[0mlgbm\u001b[0m\u001b[0;34m.\u001b[0m\u001b[0mLGBMClassifier\u001b[0m\u001b[0;34m(\u001b[0m \u001b[0mreg_alpha\u001b[0m\u001b[0;34m=\u001b[0m\u001b[0;36m0.3\u001b[0m\u001b[0;34m,\u001b[0m \u001b[0mreg_lambda\u001b[0m\u001b[0;34m=\u001b[0m\u001b[0;36m0.3\u001b[0m\u001b[0;34m)\u001b[0m\u001b[0;34m\u001b[0m\u001b[0;34m\u001b[0m\u001b[0m\n\u001b[0;32m----> 2\u001b[0;31m \u001b[0mlgbm_\u001b[0m\u001b[0;34m.\u001b[0m\u001b[0mfit\u001b[0m\u001b[0;34m(\u001b[0m\u001b[0mtrain_x\u001b[0m\u001b[0;34m,\u001b[0m \u001b[0mtrain_y\u001b[0m\u001b[0;34m)\u001b[0m\u001b[0;34m\u001b[0m\u001b[0;34m\u001b[0m\u001b[0m\n\u001b[0m\u001b[1;32m      3\u001b[0m \u001b[0myhat\u001b[0m \u001b[0;34m=\u001b[0m \u001b[0mlgbm_\u001b[0m\u001b[0;34m.\u001b[0m\u001b[0mpredict\u001b[0m\u001b[0;34m(\u001b[0m\u001b[0mdataset\u001b[0m\u001b[0;34m.\u001b[0m\u001b[0miloc\u001b[0m\u001b[0;34m[\u001b[0m\u001b[0;34m:\u001b[0m\u001b[0;34m,\u001b[0m\u001b[0;34m:\u001b[0m\u001b[0;34m-\u001b[0m\u001b[0;36m1\u001b[0m\u001b[0;34m]\u001b[0m\u001b[0;34m)\u001b[0m\u001b[0;34m\u001b[0m\u001b[0;34m\u001b[0m\u001b[0m\n\u001b[1;32m      4\u001b[0m \u001b[0mf1_score\u001b[0m\u001b[0;34m(\u001b[0m\u001b[0mdataset\u001b[0m\u001b[0;34m[\u001b[0m\u001b[0;34m'fr_yn'\u001b[0m\u001b[0;34m]\u001b[0m\u001b[0;34m,\u001b[0m \u001b[0myhat\u001b[0m\u001b[0;34m)\u001b[0m\u001b[0;34m\u001b[0m\u001b[0;34m\u001b[0m\u001b[0m\n",
      "\u001b[0;32m/usr/local/lib/python3.6/dist-packages/lightgbm/sklearn.py\u001b[0m in \u001b[0;36mfit\u001b[0;34m(self, X, y, sample_weight, init_score, eval_set, eval_names, eval_sample_weight, eval_class_weight, eval_init_score, eval_metric, early_stopping_rounds, verbose, feature_name, categorical_feature, callbacks)\u001b[0m\n\u001b[1;32m    803\u001b[0m                                         \u001b[0mverbose\u001b[0m\u001b[0;34m=\u001b[0m\u001b[0mverbose\u001b[0m\u001b[0;34m,\u001b[0m \u001b[0mfeature_name\u001b[0m\u001b[0;34m=\u001b[0m\u001b[0mfeature_name\u001b[0m\u001b[0;34m,\u001b[0m\u001b[0;34m\u001b[0m\u001b[0;34m\u001b[0m\u001b[0m\n\u001b[1;32m    804\u001b[0m                                         \u001b[0mcategorical_feature\u001b[0m\u001b[0;34m=\u001b[0m\u001b[0mcategorical_feature\u001b[0m\u001b[0;34m,\u001b[0m\u001b[0;34m\u001b[0m\u001b[0;34m\u001b[0m\u001b[0m\n\u001b[0;32m--> 805\u001b[0;31m                                         callbacks=callbacks)\n\u001b[0m\u001b[1;32m    806\u001b[0m         \u001b[0;32mreturn\u001b[0m \u001b[0mself\u001b[0m\u001b[0;34m\u001b[0m\u001b[0;34m\u001b[0m\u001b[0m\n\u001b[1;32m    807\u001b[0m \u001b[0;34m\u001b[0m\u001b[0m\n",
      "\u001b[0;32m/usr/local/lib/python3.6/dist-packages/lightgbm/sklearn.py\u001b[0m in \u001b[0;36mfit\u001b[0;34m(self, X, y, sample_weight, init_score, group, eval_set, eval_names, eval_sample_weight, eval_class_weight, eval_init_score, eval_group, eval_metric, early_stopping_rounds, verbose, feature_name, categorical_feature, callbacks)\u001b[0m\n\u001b[1;32m    598\u001b[0m                               \u001b[0mverbose_eval\u001b[0m\u001b[0;34m=\u001b[0m\u001b[0mverbose\u001b[0m\u001b[0;34m,\u001b[0m \u001b[0mfeature_name\u001b[0m\u001b[0;34m=\u001b[0m\u001b[0mfeature_name\u001b[0m\u001b[0;34m,\u001b[0m\u001b[0;34m\u001b[0m\u001b[0;34m\u001b[0m\u001b[0m\n\u001b[1;32m    599\u001b[0m                               \u001b[0mcategorical_feature\u001b[0m\u001b[0;34m=\u001b[0m\u001b[0mcategorical_feature\u001b[0m\u001b[0;34m,\u001b[0m\u001b[0;34m\u001b[0m\u001b[0;34m\u001b[0m\u001b[0m\n\u001b[0;32m--> 600\u001b[0;31m                               callbacks=callbacks)\n\u001b[0m\u001b[1;32m    601\u001b[0m \u001b[0;34m\u001b[0m\u001b[0m\n\u001b[1;32m    602\u001b[0m         \u001b[0;32mif\u001b[0m \u001b[0mevals_result\u001b[0m\u001b[0;34m:\u001b[0m\u001b[0;34m\u001b[0m\u001b[0;34m\u001b[0m\u001b[0m\n",
      "\u001b[0;32m/usr/local/lib/python3.6/dist-packages/lightgbm/engine.py\u001b[0m in \u001b[0;36mtrain\u001b[0;34m(params, train_set, num_boost_round, valid_sets, valid_names, fobj, feval, init_model, feature_name, categorical_feature, early_stopping_rounds, evals_result, verbose_eval, learning_rates, keep_training_booster, callbacks)\u001b[0m\n\u001b[1;32m    226\u001b[0m     \u001b[0;31m# construct booster\u001b[0m\u001b[0;34m\u001b[0m\u001b[0;34m\u001b[0m\u001b[0;34m\u001b[0m\u001b[0m\n\u001b[1;32m    227\u001b[0m     \u001b[0;32mtry\u001b[0m\u001b[0;34m:\u001b[0m\u001b[0;34m\u001b[0m\u001b[0;34m\u001b[0m\u001b[0m\n\u001b[0;32m--> 228\u001b[0;31m         \u001b[0mbooster\u001b[0m \u001b[0;34m=\u001b[0m \u001b[0mBooster\u001b[0m\u001b[0;34m(\u001b[0m\u001b[0mparams\u001b[0m\u001b[0;34m=\u001b[0m\u001b[0mparams\u001b[0m\u001b[0;34m,\u001b[0m \u001b[0mtrain_set\u001b[0m\u001b[0;34m=\u001b[0m\u001b[0mtrain_set\u001b[0m\u001b[0;34m)\u001b[0m\u001b[0;34m\u001b[0m\u001b[0;34m\u001b[0m\u001b[0m\n\u001b[0m\u001b[1;32m    229\u001b[0m         \u001b[0;32mif\u001b[0m \u001b[0mis_valid_contain_train\u001b[0m\u001b[0;34m:\u001b[0m\u001b[0;34m\u001b[0m\u001b[0;34m\u001b[0m\u001b[0m\n\u001b[1;32m    230\u001b[0m             \u001b[0mbooster\u001b[0m\u001b[0;34m.\u001b[0m\u001b[0mset_train_data_name\u001b[0m\u001b[0;34m(\u001b[0m\u001b[0mtrain_data_name\u001b[0m\u001b[0;34m)\u001b[0m\u001b[0;34m\u001b[0m\u001b[0;34m\u001b[0m\u001b[0m\n",
      "\u001b[0;32m/usr/local/lib/python3.6/dist-packages/lightgbm/basic.py\u001b[0m in \u001b[0;36m__init__\u001b[0;34m(self, params, train_set, model_file, model_str, silent)\u001b[0m\n\u001b[1;32m   1712\u001b[0m             \u001b[0mself\u001b[0m\u001b[0;34m.\u001b[0m\u001b[0mhandle\u001b[0m \u001b[0;34m=\u001b[0m \u001b[0mctypes\u001b[0m\u001b[0;34m.\u001b[0m\u001b[0mc_void_p\u001b[0m\u001b[0;34m(\u001b[0m\u001b[0;34m)\u001b[0m\u001b[0;34m\u001b[0m\u001b[0;34m\u001b[0m\u001b[0m\n\u001b[1;32m   1713\u001b[0m             _safe_call(_LIB.LGBM_BoosterCreate(\n\u001b[0;32m-> 1714\u001b[0;31m                 \u001b[0mtrain_set\u001b[0m\u001b[0;34m.\u001b[0m\u001b[0mconstruct\u001b[0m\u001b[0;34m(\u001b[0m\u001b[0;34m)\u001b[0m\u001b[0;34m.\u001b[0m\u001b[0mhandle\u001b[0m\u001b[0;34m,\u001b[0m\u001b[0;34m\u001b[0m\u001b[0;34m\u001b[0m\u001b[0m\n\u001b[0m\u001b[1;32m   1715\u001b[0m                 \u001b[0mc_str\u001b[0m\u001b[0;34m(\u001b[0m\u001b[0mparams_str\u001b[0m\u001b[0;34m)\u001b[0m\u001b[0;34m,\u001b[0m\u001b[0;34m\u001b[0m\u001b[0;34m\u001b[0m\u001b[0m\n\u001b[1;32m   1716\u001b[0m                 ctypes.byref(self.handle)))\n",
      "\u001b[0;32m/usr/local/lib/python3.6/dist-packages/lightgbm/basic.py\u001b[0m in \u001b[0;36mconstruct\u001b[0;34m(self)\u001b[0m\n\u001b[1;32m   1083\u001b[0m                                 \u001b[0minit_score\u001b[0m\u001b[0;34m=\u001b[0m\u001b[0mself\u001b[0m\u001b[0;34m.\u001b[0m\u001b[0minit_score\u001b[0m\u001b[0;34m,\u001b[0m \u001b[0mpredictor\u001b[0m\u001b[0;34m=\u001b[0m\u001b[0mself\u001b[0m\u001b[0;34m.\u001b[0m\u001b[0m_predictor\u001b[0m\u001b[0;34m,\u001b[0m\u001b[0;34m\u001b[0m\u001b[0;34m\u001b[0m\u001b[0m\n\u001b[1;32m   1084\u001b[0m                                 \u001b[0msilent\u001b[0m\u001b[0;34m=\u001b[0m\u001b[0mself\u001b[0m\u001b[0;34m.\u001b[0m\u001b[0msilent\u001b[0m\u001b[0;34m,\u001b[0m \u001b[0mfeature_name\u001b[0m\u001b[0;34m=\u001b[0m\u001b[0mself\u001b[0m\u001b[0;34m.\u001b[0m\u001b[0mfeature_name\u001b[0m\u001b[0;34m,\u001b[0m\u001b[0;34m\u001b[0m\u001b[0;34m\u001b[0m\u001b[0m\n\u001b[0;32m-> 1085\u001b[0;31m                                 categorical_feature=self.categorical_feature, params=self.params)\n\u001b[0m\u001b[1;32m   1086\u001b[0m             \u001b[0;32mif\u001b[0m \u001b[0mself\u001b[0m\u001b[0;34m.\u001b[0m\u001b[0mfree_raw_data\u001b[0m\u001b[0;34m:\u001b[0m\u001b[0;34m\u001b[0m\u001b[0;34m\u001b[0m\u001b[0m\n\u001b[1;32m   1087\u001b[0m                 \u001b[0mself\u001b[0m\u001b[0;34m.\u001b[0m\u001b[0mdata\u001b[0m \u001b[0;34m=\u001b[0m \u001b[0;32mNone\u001b[0m\u001b[0;34m\u001b[0m\u001b[0;34m\u001b[0m\u001b[0m\n",
      "\u001b[0;32m/usr/local/lib/python3.6/dist-packages/lightgbm/basic.py\u001b[0m in \u001b[0;36m_lazy_init\u001b[0;34m(self, data, label, reference, weight, group, init_score, predictor, silent, feature_name, categorical_feature, params)\u001b[0m\n\u001b[1;32m    828\u001b[0m                                                                                              \u001b[0mfeature_name\u001b[0m\u001b[0;34m,\u001b[0m\u001b[0;34m\u001b[0m\u001b[0;34m\u001b[0m\u001b[0m\n\u001b[1;32m    829\u001b[0m                                                                                              \u001b[0mcategorical_feature\u001b[0m\u001b[0;34m,\u001b[0m\u001b[0;34m\u001b[0m\u001b[0;34m\u001b[0m\u001b[0m\n\u001b[0;32m--> 830\u001b[0;31m                                                                                              self.pandas_categorical)\n\u001b[0m\u001b[1;32m    831\u001b[0m         \u001b[0mlabel\u001b[0m \u001b[0;34m=\u001b[0m \u001b[0m_label_from_pandas\u001b[0m\u001b[0;34m(\u001b[0m\u001b[0mlabel\u001b[0m\u001b[0;34m)\u001b[0m\u001b[0;34m\u001b[0m\u001b[0;34m\u001b[0m\u001b[0m\n\u001b[1;32m    832\u001b[0m \u001b[0;34m\u001b[0m\u001b[0m\n",
      "\u001b[0;32m/usr/local/lib/python3.6/dist-packages/lightgbm/basic.py\u001b[0m in \u001b[0;36m_data_from_pandas\u001b[0;34m(data, feature_name, categorical_feature, pandas_categorical)\u001b[0m\n\u001b[1;32m    342\u001b[0m             raise ValueError(\"DataFrame.dtypes for data must be int, float or bool.\\n\"\n\u001b[1;32m    343\u001b[0m                              \u001b[0;34m\"Did not expect the data types in the following fields: \"\u001b[0m\u001b[0;34m\u001b[0m\u001b[0;34m\u001b[0m\u001b[0m\n\u001b[0;32m--> 344\u001b[0;31m                              + ', '.join(data.columns[bad_indices]))\n\u001b[0m\u001b[1;32m    345\u001b[0m         \u001b[0mdata\u001b[0m \u001b[0;34m=\u001b[0m \u001b[0mdata\u001b[0m\u001b[0;34m.\u001b[0m\u001b[0mvalues\u001b[0m\u001b[0;34m\u001b[0m\u001b[0;34m\u001b[0m\u001b[0m\n\u001b[1;32m    346\u001b[0m         \u001b[0;32mif\u001b[0m \u001b[0mdata\u001b[0m\u001b[0;34m.\u001b[0m\u001b[0mdtype\u001b[0m \u001b[0;34m!=\u001b[0m \u001b[0mnp\u001b[0m\u001b[0;34m.\u001b[0m\u001b[0mfloat32\u001b[0m \u001b[0;32mand\u001b[0m \u001b[0mdata\u001b[0m\u001b[0;34m.\u001b[0m\u001b[0mdtype\u001b[0m \u001b[0;34m!=\u001b[0m \u001b[0mnp\u001b[0m\u001b[0;34m.\u001b[0m\u001b[0mfloat64\u001b[0m\u001b[0;34m:\u001b[0m\u001b[0;34m\u001b[0m\u001b[0;34m\u001b[0m\u001b[0m\n",
      "\u001b[0;31mValueError\u001b[0m: DataFrame.dtypes for data must be int, float or bool.\nDid not expect the data types in the following fields: bldng_us, bldng_us_clssfctn, jmk, rgnl_ar_nm, rgnl_ar_nm2, lnd_us_sttn_nm, rd_sd_nm, emd_nm, emd_nm_big, emd_nm_small, year_athrztn_encoded"
     ]
    }
   ],
   "source": [
    "lgbm_ = lgbm.LGBMClassifier( reg_alpha=0.3, reg_lambda=0.3)\n",
    "lgbm_.fit(train_x, train_y)\n",
    "yhat = lgbm_.predict(dataset.iloc[:,:-1])\n",
    "f1_score(dataset['fr_yn'], yhat)"
   ]
  },
  {
   "cell_type": "code",
   "execution_count": 96,
   "metadata": {
    "collapsed": true
   },
   "outputs": [
    {
     "data": {
      "text/plain": [
       "<matplotlib.axes._subplots.AxesSubplot at 0x7f7e3a676160>"
      ]
     },
     "execution_count": 96,
     "metadata": {},
     "output_type": "execute_result"
    },
    {
     "data": {
      "image/png": "[encoded data removed]",
      "text/plain": [
       "<Figure size 1080x576 with 1 Axes>"
      ]
     },
     "metadata": {
      "needs_background": "light"
     },
     "output_type": "display_data"
    }
   ],
   "source": [
    "plt.figure(figsize=(15,8))\n",
    "sns.barplot(x = lgbm_.feature_importances_, y = dataset.columns[:-1])"
   ]
  },
  {
   "cell_type": "code",
   "execution_count": 104,
   "metadata": {
    "scrolled": true
   },
   "outputs": [
    {
     "data": {
      "text/plain": [
       "0.5813095340255727"
      ]
     },
     "execution_count": 104,
     "metadata": {},
     "output_type": "execute_result"
    }
   ],
   "source": [
    "xgb_ = XGBClassifier(max_depth=7)\n",
    "xgb_.fit(dataset.iloc[:,:-1], dataset['fr_yn'])\n",
    "xgb_yhat = xgb_.predict(dataset.iloc[:,:-1])\n",
    "f1_score(dataset['fr_yn'], xgb_yhat)"
   ]
  },
  {
   "cell_type": "code",
   "execution_count": 105,
   "metadata": {},
   "outputs": [],
   "source": [
    "yhat_prob = lgbm_.predict_proba(dataset.iloc[:,:-1])\n",
    "xgb_yhat_prob = xgb_.predict_proba(dataset.iloc[:,:-1])\n",
    "ensemble = yhat_prob* 0.5 + xgb_yhat_prob*0.5\n",
    "en_yhat = np.argmax(ensemble,axis=1)"
   ]
  },
  {
   "cell_type": "code",
   "execution_count": 106,
   "metadata": {},
   "outputs": [
    {
     "data": {
      "text/plain": [
       "0.5495401700503211"
      ]
     },
     "execution_count": 106,
     "metadata": {},
     "output_type": "execute_result"
    }
   ],
   "source": [
    "f1_score(dataset['fr_yn'], en_yhat)"
   ]
  },
  {
   "cell_type": "markdown",
   "metadata": {},
   "source": [
    "# adasyn"
   ]
  },
  {
   "cell_type": "code",
   "execution_count": 56,
   "metadata": {
    "collapsed": true
   },
   "outputs": [
    {
     "name": "stderr",
     "output_type": "stream",
     "text": [
      "Using TensorFlow backend.\n",
      "/usr/local/lib/python3.6/dist-packages/tensorflow/python/framework/dtypes.py:526: FutureWarning: Passing (type, 1) or '1type' as a synonym of type is deprecated; in a future version of numpy, it will be understood as (type, (1,)) / '(1,)type'.\n",
      "  _np_qint8 = np.dtype([(\"qint8\", np.int8, 1)])\n",
      "/usr/local/lib/python3.6/dist-packages/tensorflow/python/framework/dtypes.py:527: FutureWarning: Passing (type, 1) or '1type' as a synonym of type is deprecated; in a future version of numpy, it will be understood as (type, (1,)) / '(1,)type'.\n",
      "  _np_quint8 = np.dtype([(\"quint8\", np.uint8, 1)])\n",
      "/usr/local/lib/python3.6/dist-packages/tensorflow/python/framework/dtypes.py:528: FutureWarning: Passing (type, 1) or '1type' as a synonym of type is deprecated; in a future version of numpy, it will be understood as (type, (1,)) / '(1,)type'.\n",
      "  _np_qint16 = np.dtype([(\"qint16\", np.int16, 1)])\n",
      "/usr/local/lib/python3.6/dist-packages/tensorflow/python/framework/dtypes.py:529: FutureWarning: Passing (type, 1) or '1type' as a synonym of type is deprecated; in a future version of numpy, it will be understood as (type, (1,)) / '(1,)type'.\n",
      "  _np_quint16 = np.dtype([(\"quint16\", np.uint16, 1)])\n",
      "/usr/local/lib/python3.6/dist-packages/tensorflow/python/framework/dtypes.py:530: FutureWarning: Passing (type, 1) or '1type' as a synonym of type is deprecated; in a future version of numpy, it will be understood as (type, (1,)) / '(1,)type'.\n",
      "  _np_qint32 = np.dtype([(\"qint32\", np.int32, 1)])\n",
      "/usr/local/lib/python3.6/dist-packages/tensorflow/python/framework/dtypes.py:535: FutureWarning: Passing (type, 1) or '1type' as a synonym of type is deprecated; in a future version of numpy, it will be understood as (type, (1,)) / '(1,)type'.\n",
      "  np_resource = np.dtype([(\"resource\", np.ubyte, 1)])\n"
     ]
    }
   ],
   "source": [
    "from imblearn.over_sampling import ADASYN"
   ]
  },
  {
   "cell_type": "code",
   "execution_count": 57,
   "metadata": {},
   "outputs": [],
   "source": [
    "ada = ADASYN()"
   ]
  },
  {
   "cell_type": "code",
   "execution_count": 58,
   "metadata": {},
   "outputs": [],
   "source": [
    "ada_x, ada_y = ada.fit_resample(dataset.iloc[:,:-1], dataset['fr_yn'])"
   ]
  },
  {
   "cell_type": "code",
   "execution_count": 90,
   "metadata": {},
   "outputs": [
    {
     "data": {
      "text/plain": [
       "0.5011140991164041"
      ]
     },
     "execution_count": 90,
     "metadata": {},
     "output_type": "execute_result"
    }
   ],
   "source": [
    "lgbm_ = lgbm.LGBMClassifier()\n",
    "lgbm_.fit(ada_x, ada_y )\n",
    "yhat = lgbm_.predict(dataset.iloc[:,:-1])\n",
    "f1_score(dataset['fr_yn'], yhat)"
   ]
  },
  {
   "cell_type": "code",
   "execution_count": 81,
   "metadata": {},
   "outputs": [
    {
     "data": {
      "text/plain": [
       "0.5920857727304789"
      ]
     },
     "execution_count": 81,
     "metadata": {},
     "output_type": "execute_result"
    }
   ],
   "source": [
    "xgb_ = XGBClassifier(max_depth = 7)\n",
    "xgb_.fit(ada_x, ada_y)\n",
    "xgb_yhat = xgb_.predict(dataset.iloc[:,:-1])\n",
    "xgb_yhat_prob = xgb_.predict_proba(dataset.iloc[:,:-1])\n",
    "f1_score(dataset['fr_yn'], xgb_yhat)"
   ]
  },
  {
   "cell_type": "markdown",
   "metadata": {},
   "source": [
    "## validation!"
   ]
  },
  {
   "cell_type": "code",
   "execution_count": 98,
   "metadata": {},
   "outputs": [],
   "source": [
    "dataset_val = data_val[['bldng_cnt','jmk_enc','fr_sttn_dstnc','fr_wthr_fclt_dstnc','fr_mn_cnt','fr_wthr_fclt_in_100m','tbc_rtl_str_dstnc',\n",
    "                'no_tbc_zn_dstnc','bldng_cnt_in_50m','dt_of_fr_hr_enc','dt_of_fr_hr','dt_of_fr_mth','season','gas_mean','ele_mean','hm_cnt_log_enc',\n",
    "                'wnd_drctn_enc','season_mean_differ','hmdt','wnd_spd_log','tmprtr','bldng_ar_prc_log','hm_cnt_log','rgnl_ar_nm_enc',\n",
    "                'dt_of_athrztn_enc', 'dt_of_athrztn_rflct_log','ttl_ar_log', 'bldng_ar_log', 'lnd_ar_log','fr_yn']]"
   ]
  },
  {
   "cell_type": "code",
   "execution_count": 140,
   "metadata": {
    "collapsed": true
   },
   "outputs": [
    {
     "name": "stderr",
     "output_type": "stream",
     "text": [
      "/usr/local/lib/python3.6/dist-packages/ipykernel_launcher.py:1: SettingWithCopyWarning: \n",
      "A value is trying to be set on a copy of a slice from a DataFrame\n",
      "\n",
      "See the caveats in the documentation: http://pandas.pydata.org/pandas-docs/stable/indexing.html#indexing-view-versus-copy\n",
      "  \"\"\"Entry point for launching an IPython kernel.\n"
     ]
    }
   ],
   "source": [
    "# dataset_val.dropna(inplace=True)"
   ]
  },
  {
   "cell_type": "code",
   "execution_count": 99,
   "metadata": {
    "collapsed": true
   },
   "outputs": [
    {
     "name": "stderr",
     "output_type": "stream",
     "text": [
      "../pp_3rd/pp3_func.py:190: SettingWithCopyWarning: \n",
      "A value is trying to be set on a copy of a slice from a DataFrame.\n",
      "Try using .loc[row_indexer,col_indexer] = value instead\n",
      "\n",
      "See the caveats in the documentation: http://pandas.pydata.org/pandas-docs/stable/indexing.html#indexing-view-versus-copy\n",
      "  dataset['dt_of_athrztn_enc']  = dataset['dt_of_athrztn_enc'].astype('int')\n",
      "../pp_3rd/pp3_func.py:191: SettingWithCopyWarning: \n",
      "A value is trying to be set on a copy of a slice from a DataFrame.\n",
      "Try using .loc[row_indexer,col_indexer] = value instead\n",
      "\n",
      "See the caveats in the documentation: http://pandas.pydata.org/pandas-docs/stable/indexing.html#indexing-view-versus-copy\n",
      "  dataset['rgnl_ar_nm_enc']  = dataset['rgnl_ar_nm_enc'].astype('int')\n",
      "../pp_3rd/pp3_func.py:192: SettingWithCopyWarning: \n",
      "A value is trying to be set on a copy of a slice from a DataFrame.\n",
      "Try using .loc[row_indexer,col_indexer] = value instead\n",
      "\n",
      "See the caveats in the documentation: http://pandas.pydata.org/pandas-docs/stable/indexing.html#indexing-view-versus-copy\n",
      "  dataset['wnd_drctn_enc']  = dataset['wnd_drctn_enc'].astype('int')\n",
      "../pp_3rd/pp3_func.py:193: SettingWithCopyWarning: \n",
      "A value is trying to be set on a copy of a slice from a DataFrame.\n",
      "Try using .loc[row_indexer,col_indexer] = value instead\n",
      "\n",
      "See the caveats in the documentation: http://pandas.pydata.org/pandas-docs/stable/indexing.html#indexing-view-versus-copy\n",
      "  dataset['jmk_enc']  = dataset['jmk_enc'].astype('int')\n",
      "../pp_3rd/pp3_func.py:195: SettingWithCopyWarning: \n",
      "A value is trying to be set on a copy of a slice from a DataFrame.\n",
      "Try using .loc[row_indexer,col_indexer] = value instead\n",
      "\n",
      "See the caveats in the documentation: http://pandas.pydata.org/pandas-docs/stable/indexing.html#indexing-view-versus-copy\n",
      "  dataset['season']  = dataset['season'].astype('int')\n"
     ]
    }
   ],
   "source": [
    "dataset_val = pp3_func.from_category_to_int(dataset_val)"
   ]
  },
  {
   "cell_type": "code",
   "execution_count": 107,
   "metadata": {},
   "outputs": [
    {
     "data": {
      "text/plain": [
       "0.45411542100283825"
      ]
     },
     "execution_count": 107,
     "metadata": {},
     "output_type": "execute_result"
    }
   ],
   "source": [
    "yhat_val = lgbm_.predict(dataset_val.iloc[:,:-1])\n",
    "# yhat_prob_val = lgbm_.predict_proba(dataset_val.iloc[:,:-1])\n",
    "f1_score(dataset_val['fr_yn'], yhat_val)"
   ]
  },
  {
   "cell_type": "code",
   "execution_count": 108,
   "metadata": {
    "scrolled": true
   },
   "outputs": [
    {
     "data": {
      "text/plain": [
       "0.4521656354117087"
      ]
     },
     "execution_count": 108,
     "metadata": {},
     "output_type": "execute_result"
    }
   ],
   "source": [
    "xgb_yhat_val = xgb_.predict(dataset_val.iloc[:,:-1])\n",
    "# xgb_yhat_prob_val = xgb_.predict_proba(dataset_val.iloc[:,:-1])\n",
    "f1_score(dataset_val['fr_yn'], xgb_yhat_val)"
   ]
  },
  {
   "cell_type": "code",
   "execution_count": 109,
   "metadata": {
    "scrolled": true
   },
   "outputs": [
    {
     "data": {
      "text/plain": [
       "0.452561669829222"
      ]
     },
     "execution_count": 109,
     "metadata": {},
     "output_type": "execute_result"
    }
   ],
   "source": [
    "yhat_prob = lgbm_.predict_proba(dataset_val.iloc[:,:-1])\n",
    "xgb_yhat_prob = xgb_.predict_proba(dataset_val.iloc[:,:-1])\n",
    "ensemble_val = yhat_prob* 0.5 + xgb_yhat_prob*0.5\n",
    "en_yhat_val = np.argmax(ensemble_val,axis=1)\n",
    "f1_score(dataset_val['fr_yn'], en_yhat_val)"
   ]
  },
  {
   "cell_type": "markdown",
   "metadata": {},
   "source": [
    "# test"
   ]
  },
  {
   "cell_type": "code",
   "execution_count": 67,
   "metadata": {},
   "outputs": [
    {
     "name": "stderr",
     "output_type": "stream",
     "text": [
      "/usr/local/lib/python3.6/dist-packages/pandas/core/ops.py:1649: FutureWarning: elementwise comparison failed; returning scalar instead, but in the future will perform elementwise comparison\n",
      "  result = method(y)\n"
     ]
    }
   ],
   "source": [
    "data_test = pd.read_csv('../raw/PJT002_test.csv')\n",
    "data_test = pp2nd_func.replace(data_test)\n",
    "data_test = pp2nd_func.label_encoding(data_test)\n",
    "data_test = pp3_func.energy_mean(data_test) \n",
    "data_test = pp3_func.Hm_cnt(data_test)\n",
    "data_test = pp2nd_func.wnd_drctn_enc(data_test)\n",
    "data_test = pp3_func.Wnd_spd_log(data_test)\n",
    "data_test = pp3_func.Weather(data_test, weather_imputer)\n",
    "data_test = pp3_func.Wnd_spd_log(data_test)\n",
    "data_test = pp3_func.Jmk_enc(data_test)\n",
    "data_test = pp3_func.Fr_mn_cnt(data_test)\n",
    "data_test = pp3_func.date_author_pre(data_test, train=False)\n",
    "data_test['dt_of_athrztn_rflct_log'] =  np.log(2020 - data_test['dt_of_athrztn'])\n",
    "data_test = pp3_func.regional_name_pre(data_test)\n",
    "data_test.reset_index(drop=True, inplace=True)\n",
    "data_test['bldng_ar_prc_log'] = np.log(data_test['bldng_ar_prc'])\n",
    "data_test = pp3_func.building_price(data_test, bldng_ar_prc_imputer)\n",
    "data_test = pp3_func.Hm_cnt_log_enc(data_test)\n",
    "data_test.reset_index(drop=True, inplace=True)\n",
    "data_test = pp3_func.regional_name_post(data_test, rgnl_ar_imputer)\n",
    "data_test['rgnl_ar_nm_enc'] = np.round(data_test['rgnl_ar_nm_enc'])\n",
    "data_test.reset_index(drop=True, inplace=True)\n",
    "data_test = pp3_func.date_author_post(data_test, dt_of_ath_imputer )\n",
    "data_test['dt_of_athrztn_enc'] = np.round(data_test['dt_of_athrztn_enc'])\n",
    "data_test.reset_index(drop=True, inplace=True)\n",
    "data_test = pp3_func.log_maker(data_test, 'bldng_ar')\n",
    "data_test = pp3_func.log_maker(data_test, 'ttl_ar')\n",
    "data_test = pp3_func.log_maker(data_test, 'lnd_ar')\n",
    "data_test = pp3_func.area_predict(data_test, ar_imputer)\n",
    "data_test['dt_of_fr_hr_enc'] = data_test['dt_of_fr_hr'].map(binary_dic)"
   ]
  },
  {
   "cell_type": "code",
   "execution_count": 72,
   "metadata": {
    "collapsed": true
   },
   "outputs": [
    {
     "name": "stderr",
     "output_type": "stream",
     "text": [
      "../pp_3rd/pp3_func.py:195: SettingWithCopyWarning: \n",
      "A value is trying to be set on a copy of a slice from a DataFrame.\n",
      "Try using .loc[row_indexer,col_indexer] = value instead\n",
      "\n",
      "See the caveats in the documentation: http://pandas.pydata.org/pandas-docs/stable/indexing.html#indexing-view-versus-copy\n",
      "  dataset['season']  = dataset['season'].astype('int')\n"
     ]
    }
   ],
   "source": [
    "dataset_test = data_test[['bldng_cnt','jmk_enc','fr_sttn_dstnc','fr_wthr_fclt_dstnc','fr_mn_cnt','fr_wthr_fclt_in_100m','tbc_rtl_str_dstnc',\n",
    "                'no_tbc_zn_dstnc','bldng_cnt_in_50m','dt_of_fr_hr_enc','dt_of_fr_mth','season','gas_mean','ele_mean','hm_cnt_log_enc',\n",
    "                'wnd_drctn_enc','season_mean_differ','hmdt','wnd_spd_log','tmprtr','bldng_ar_prc_log','hm_cnt_log','rgnl_ar_nm_enc',\n",
    "                'dt_of_athrztn_enc', 'dt_of_athrztn_rflct_log','ttl_ar_log', 'bldng_ar_log', 'lnd_ar_log']]\n",
    "dataset_test = pp3_func.from_category_to_int(dataset_test)"
   ]
  },
  {
   "cell_type": "code",
   "execution_count": null,
   "metadata": {},
   "outputs": [],
   "source": [
    "yhat_prob = lgbm_.predict_proba(dataset.iloc[:,:-1])\n",
    "xgb_yhat_prob = xgb_.predict_proba(dataset.iloc[:,:-1])\n",
    "ensemble_val = yhat_prob* 0.5 + xgb_yhat_prob*0.5\n",
    "en_yhat_val = np.argmax(ensemble_val,axis=1)\n",
    "f1_score(dataset['fr_yn'], en_yhat_val)"
   ]
  }
 ],
 "metadata": {
  "kernelspec": {
   "display_name": "Python 3",
   "language": "python",
   "name": "python3"
  },
  "language_info": {
   "codemirror_mode": {
    "name": "ipython",
    "version": 3
   },
   "file_extension": ".py",
   "mimetype": "text/x-python",
   "name": "python",
   "nbconvert_exporter": "python",
   "pygments_lexer": "ipython3",
   "version": "3.6.7"
  }
 },
 "nbformat": 4,
 "nbformat_minor": 2
}

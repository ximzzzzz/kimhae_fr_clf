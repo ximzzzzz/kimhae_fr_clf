{
 "cells": [
  {
   "cell_type": "code",
   "execution_count": 3,
   "metadata": {},
   "outputs": [],
   "source": [
    "import pandas as pd\n",
    "import numpy as np\n",
    "import seaborn as sns\n",
    "import matplotlib.pyplot as plt\n",
    "import pp1st_pipeline\n",
    "from sklearn.model_selection import train_test_split\n",
    "from sklearn.model_selection import StratifiedKFold\n",
    "from sklearn.model_selection import cross_val_score\n",
    "from sklearn.ensemble import RandomForestClassifier\n",
    "from xgboost.sklearn import XGBClassifier\n",
    "from sklearn.metrics import confusion_matrix\n",
    "from sklearn.metrics import f1_score\n",
    "pd.set_option('display.max_columns', 100)\n",
    "pd.set_option('display.max_rows', 50)"
   ]
  },
  {
   "cell_type": "code",
   "execution_count": 4,
   "metadata": {},
   "outputs": [
    {
     "data": {
      "text/plain": [
       "<module 'pp1st_pipeline' from '/Data/kimhae/pp_1st/pp1st_pipeline.py'>"
      ]
     },
     "execution_count": 4,
     "metadata": {},
     "output_type": "execute_result"
    }
   ],
   "source": [
    "import importlib\n",
    "importlib.reload(pp1st_pipeline)"
   ]
  },
  {
   "cell_type": "markdown",
   "metadata": {},
   "source": [
    "# modeling"
   ]
  },
  {
   "cell_type": "code",
   "execution_count": 23,
   "metadata": {},
   "outputs": [],
   "source": [
    "data_train = pd.read_csv('./data/dataset_le.csv', index_col=0)"
   ]
  },
  {
   "cell_type": "code",
   "execution_count": 24,
   "metadata": {},
   "outputs": [],
   "source": [
    "data_train.drop(columns='bldng_ar_prc', inplace=True)"
   ]
  },
  {
   "cell_type": "code",
   "execution_count": 35,
   "metadata": {},
   "outputs": [
    {
     "name": "stdout",
     "output_type": "stream",
     "text": [
      "[0.80514988 0.80630284 0.811299   0.80399693 0.80769231]\n"
     ]
    }
   ],
   "source": [
    "xgb = XGBClassifier(max_depth=20)\n",
    "stf = StratifiedKFold(n_splits=5, shuffle=True)\n",
    "cv_score = cross_val_score(xgb, X = dataset.iloc[:,1:], y =dataset['fr_yn'], cv=stf)\n",
    "print(cv_score)"
   ]
  },
  {
   "cell_type": "code",
   "execution_count": 47,
   "metadata": {
    "scrolled": true
   },
   "outputs": [
    {
     "data": {
      "text/plain": [
       "XGBClassifier(base_score=0.5, booster='gbtree', colsample_bylevel=1,\n",
       "       colsample_bynode=1, colsample_bytree=1, gamma=0, learning_rate=0.1,\n",
       "       max_delta_step=0, max_depth=20, min_child_weight=1, missing=None,\n",
       "       n_estimators=100, n_jobs=1, nthread=None,\n",
       "       objective='binary:logistic', random_state=0, reg_alpha=0,\n",
       "       reg_lambda=1, scale_pos_weight=1, seed=None, silent=None,\n",
       "       subsample=1, verbosity=1)"
      ]
     },
     "execution_count": 47,
     "metadata": {},
     "output_type": "execute_result"
    }
   ],
   "source": [
    "xgb.fit(dataset.iloc[:,1:], y=dataset['fr_yn'])"
   ]
  },
  {
   "cell_type": "markdown",
   "metadata": {},
   "source": [
    "# validation"
   ]
  },
  {
   "cell_type": "code",
   "execution_count": 4,
   "metadata": {},
   "outputs": [],
   "source": [
    "data_val = pd.read_csv('../raw/PJT002_validation.csv' )"
   ]
  },
  {
   "cell_type": "code",
   "execution_count": 51,
   "metadata": {},
   "outputs": [
    {
     "data": {
      "text/plain": [
       "(6898, 180)"
      ]
     },
     "execution_count": 51,
     "metadata": {},
     "output_type": "execute_result"
    }
   ],
   "source": [
    "data_val.shape"
   ]
  },
  {
   "cell_type": "code",
   "execution_count": 15,
   "metadata": {
    "scrolled": true
   },
   "outputs": [
    {
     "data": {
      "text/plain": [
       "(1272, 196)"
      ]
     },
     "execution_count": 15,
     "metadata": {},
     "output_type": "execute_result"
    }
   ],
   "source": [
    "data_val[data_val['fr_yn']=='Y'].shape"
   ]
  },
  {
   "cell_type": "code",
   "execution_count": 26,
   "metadata": {
    "scrolled": true
   },
   "outputs": [],
   "source": [
    "data_var = pp1st_pipeline.Pipeline_var(data_val)"
   ]
  },
  {
   "cell_type": "code",
   "execution_count": 27,
   "metadata": {
    "collapsed": true
   },
   "outputs": [
    {
     "data": {
      "text/plain": [
       "bldng_ar_prc            3086\n",
       "면적대비예상채수                1259\n",
       "한채당가용면적                 1259\n",
       "bldng_us                1113\n",
       "bldng_archtctr          1099\n",
       "화재시점나이                  1091\n",
       "예상평균층당면적                 925\n",
       "한채당평균지하층수                925\n",
       "ttl_dwn_flr              925\n",
       "bldng_us_clssfctn        823\n",
       "한채당평균지상층수                795\n",
       "ttl_grnd_flr             795\n",
       "lnd_us_sttn_nm           163\n",
       "rgnl_ar_nm                91\n",
       "wnd_drctn                 12\n",
       "wnd_spd                    4\n",
       "hmdt                       3\n",
       "tmprtr                     1\n",
       "계절평균온도차                    1\n",
       "fr_mn_cnt                  1\n",
       "jmk                        0\n",
       "차량통행가능여부                   0\n",
       "lnd_ar                     0\n",
       "bldng_ar                   0\n",
       "bldng_cnt                  0\n",
       "ttl_ar                     0\n",
       "mlt_us_yn                  0\n",
       "fr_sttn_dstnc              0\n",
       "no_tbc_zn_dstnc            0\n",
       "반대풍향여부                     0\n",
       "season                     0\n",
       "예상채수초과                     0\n",
       "dt_of_fr_mth               0\n",
       "dt_of_fr_hr                0\n",
       "bldng_cnt_in_50m           0\n",
       "ahsm_dstnc                 0\n",
       "fr_wthr_fclt_dstnc         0\n",
       "sft_emrgnc_bll_dstnc       0\n",
       "tbc_rtl_str_dstnc          0\n",
       "cctv_in_100m               0\n",
       "fr_wthr_fclt_in_100m       0\n",
       "cctv_dstnc                 0\n",
       "측면도로크기                     0\n",
       "fr_yn                      0\n",
       "dtype: int64"
      ]
     },
     "execution_count": 27,
     "metadata": {},
     "output_type": "execute_result"
    }
   ],
   "source": [
    "data_var.isnull().sum().sort_values(ascending=False)"
   ]
  },
  {
   "cell_type": "code",
   "execution_count": 28,
   "metadata": {},
   "outputs": [],
   "source": [
    "data_val = data_var.drop(columns='bldng_ar_prc')"
   ]
  },
  {
   "cell_type": "code",
   "execution_count": 29,
   "metadata": {},
   "outputs": [],
   "source": [
    "data_val = data_val.dropna()"
   ]
  },
  {
   "cell_type": "code",
   "execution_count": 21,
   "metadata": {},
   "outputs": [
    {
     "name": "stdout",
     "output_type": "stream",
     "text": [
      "(6898, 44)\n",
      "(4272, 43)\n"
     ]
    }
   ],
   "source": [
    "print(dataset.shape)\n",
    "print(dataset_.shape)"
   ]
  },
  {
   "cell_type": "code",
   "execution_count": 36,
   "metadata": {
    "collapsed": true
   },
   "outputs": [
    {
     "data": {
      "text/plain": [
       "차량통행가능여부                0\n",
       "tmprtr                  0\n",
       "fr_wthr_fclt_dstnc      0\n",
       "fr_sttn_dstnc           0\n",
       "lnd_us_sttn_nm          0\n",
       "rgnl_ar_nm              0\n",
       "jmk                     0\n",
       "hmdt                    0\n",
       "wnd_drctn               0\n",
       "wnd_spd                 0\n",
       "bldng_us_clssfctn       0\n",
       "mlt_us_yn               0\n",
       "ttl_dwn_flr             0\n",
       "ttl_grnd_flr            0\n",
       "lnd_ar                  0\n",
       "ttl_ar                  0\n",
       "bldng_ar                0\n",
       "bldng_cnt               0\n",
       "bldng_archtctr          0\n",
       "bldng_us                0\n",
       "fr_mn_cnt               0\n",
       "cctv_dstnc              0\n",
       "측면도로크기                  0\n",
       "한채당가용면적                 0\n",
       "반대풍향여부                  0\n",
       "계절평균온도차                 0\n",
       "season                  0\n",
       "예상평균층당면적                0\n",
       "한채당평균지하층수               0\n",
       "한채당평균지상층수               0\n",
       "예상채수초과                  0\n",
       "면적대비예상채수                0\n",
       "화재시점나이                  0\n",
       "fr_wthr_fclt_in_100m    0\n",
       "dt_of_fr_mth            0\n",
       "dt_of_fr_hr             0\n",
       "bldng_cnt_in_50m        0\n",
       "no_tbc_zn_dstnc         0\n",
       "ahsm_dstnc              0\n",
       "sft_emrgnc_bll_dstnc    0\n",
       "tbc_rtl_str_dstnc       0\n",
       "cctv_in_100m            0\n",
       "fr_yn                   0\n",
       "dtype: int64"
      ]
     },
     "execution_count": 36,
     "metadata": {},
     "output_type": "execute_result"
    }
   ],
   "source": [
    "dataset_.isnull().sum().sort_values(ascending=False)"
   ]
  },
  {
   "cell_type": "code",
   "execution_count": 30,
   "metadata": {
    "scrolled": true
   },
   "outputs": [],
   "source": [
    "data_val = pp1st_pipeline.Pipeline_le(data_val)"
   ]
  },
  {
   "cell_type": "code",
   "execution_count": 58,
   "metadata": {},
   "outputs": [],
   "source": [
    "valid_yhat = xgb.predict(dataset_.iloc[:,1:])"
   ]
  },
  {
   "cell_type": "code",
   "execution_count": 60,
   "metadata": {},
   "outputs": [
    {
     "data": {
      "text/plain": [
       "0.4666666666666666"
      ]
     },
     "execution_count": 60,
     "metadata": {},
     "output_type": "execute_result"
    }
   ],
   "source": [
    "f1_score(dataset_['fr_yn'], valid_yhat)"
   ]
  },
  {
   "cell_type": "code",
   "execution_count": 61,
   "metadata": {},
   "outputs": [
    {
     "data": {
      "text/plain": [
       "array([[2685,  679],\n",
       "       [ 425,  483]])"
      ]
     },
     "execution_count": 61,
     "metadata": {},
     "output_type": "execute_result"
    }
   ],
   "source": [
    "confusion_matrix(dataset_['fr_yn'], valid_yhat)"
   ]
  },
  {
   "cell_type": "markdown",
   "metadata": {},
   "source": [
    "# concat ver"
   ]
  },
  {
   "cell_type": "code",
   "execution_count": 31,
   "metadata": {},
   "outputs": [],
   "source": [
    "data_concat = pd.concat([data_train, data_val], axis=0 )"
   ]
  },
  {
   "cell_type": "code",
   "execution_count": 33,
   "metadata": {},
   "outputs": [],
   "source": [
    "xgb = XGBClassifier(max_depth=20)"
   ]
  },
  {
   "cell_type": "code",
   "execution_count": 35,
   "metadata": {
    "scrolled": true
   },
   "outputs": [
    {
     "data": {
      "text/plain": [
       "XGBClassifier(base_score=0.5, booster='gbtree', colsample_bylevel=1,\n",
       "       colsample_bynode=1, colsample_bytree=1, gamma=0, learning_rate=0.1,\n",
       "       max_delta_step=0, max_depth=20, min_child_weight=1, missing=None,\n",
       "       n_estimators=100, n_jobs=1, nthread=None,\n",
       "       objective='binary:logistic', random_state=0, reg_alpha=0,\n",
       "       reg_lambda=1, scale_pos_weight=1, seed=None, silent=None,\n",
       "       subsample=1, verbosity=1)"
      ]
     },
     "execution_count": 35,
     "metadata": {},
     "output_type": "execute_result"
    }
   ],
   "source": [
    "xgb.fit(data_concat.iloc[:, 1:], y = data_concat['fr_yn'])"
   ]
  },
  {
   "cell_type": "code",
   "execution_count": 13,
   "metadata": {
    "scrolled": true
   },
   "outputs": [
    {
     "data": {
      "text/plain": [
       "fr_yn                              0\n",
       "bldng_cnt                          0\n",
       "bldng_ar                           0\n",
       "ttl_ar                             0\n",
       "lnd_ar                             0\n",
       "hm_cnt                             1\n",
       "fr_mn_cnt                          1\n",
       "tmprtr                             1\n",
       "hmdt                               3\n",
       "wnd_spd                            4\n",
       "wnd_drctn                         12\n",
       "rgnl_ar_nm                        91\n",
       "rgnl_ar_nm2                       91\n",
       "rd_sd_nm                          91\n",
       "lnd_us_sttn_nm                   163\n",
       "ttl_grnd_flr                     795\n",
       "ttl_dwn_flr                      925\n",
       "ele_engry_us_201708             1091\n",
       "gas_engry_us_201707             1091\n",
       "ele_engry_us_201707             1091\n",
       "gas_engry_us_201708             1091\n",
       "gas_engry_us_201709             1091\n",
       "gas_engry_us_201401             1091\n",
       "gas_engry_us_201710             1091\n",
       "ele_engry_us_201710             1091\n",
       "                                ... \n",
       "bldng_us_clssfctn               1612\n",
       "bldng_ar_prc                    3086\n",
       "us_yn                           5511\n",
       "dngrs_thng_yn                   5511\n",
       "slf_fr_brgd_yn                  5511\n",
       "blk_dngrs_thng_mnfctr_yn        5511\n",
       "cltrl_hrtg_yn                   5511\n",
       "fr_fghtng_fclt_spcl_css_5_yn    5701\n",
       "fr_fghtng_fclt_spcl_css_6_yn    5701\n",
       "prcpttn                         6352\n",
       "trgt_crtr                       6394\n",
       "lw_13101210                     6797\n",
       "lw_13101010                     6797\n",
       "lw_13141010                     6797\n",
       "lw_13131110                     6797\n",
       "lw_13131010                     6797\n",
       "lw_13121011                     6797\n",
       "lw_13121010                     6797\n",
       "lw_13111110                     6797\n",
       "lw_13111010                     6797\n",
       "lw_13101410                     6797\n",
       "lw_13101310                     6797\n",
       "lw_13101211                     6797\n",
       "lw_13101110                     6797\n",
       "lw_13141011                     6797\n",
       "Length: 165, dtype: int64"
      ]
     },
     "execution_count": 13,
     "metadata": {},
     "output_type": "execute_result"
    }
   ],
   "source": [
    "data_val.isnull().sum().sort_values()[15:]"
   ]
  },
  {
   "cell_type": "markdown",
   "metadata": {},
   "source": [
    "# test"
   ]
  },
  {
   "cell_type": "code",
   "execution_count": 6,
   "metadata": {},
   "outputs": [],
   "source": [
    "test = pd.read_csv('../raw/PJT002_test.csv')"
   ]
  },
  {
   "cell_type": "code",
   "execution_count": 13,
   "metadata": {},
   "outputs": [
    {
     "data": {
      "text/plain": [
       "(2957, 180)"
      ]
     },
     "execution_count": 13,
     "metadata": {},
     "output_type": "execute_result"
    }
   ],
   "source": [
    "test.shape"
   ]
  },
  {
   "cell_type": "code",
   "execution_count": 13,
   "metadata": {},
   "outputs": [
    {
     "data": {
      "text/plain": [
       "(0, 180)"
      ]
     },
     "execution_count": 13,
     "metadata": {},
     "output_type": "execute_result"
    }
   ],
   "source": [
    "test[test['fr_yn']=='N'].shape"
   ]
  },
  {
   "cell_type": "code",
   "execution_count": 14,
   "metadata": {
    "scrolled": true
   },
   "outputs": [
    {
     "data": {
      "text/plain": [
       "ttl_ar                             0\n",
       "bldng_ar                           0\n",
       "bldng_cnt                          0\n",
       "no_tbc_zn_dstnc                    0\n",
       "bldng_cnt_in_50m                   0\n",
       "sft_emrgnc_bll_dstnc               0\n",
       "tmprtr                             1\n",
       "wnd_spd                            1\n",
       "hmdt                               2\n",
       "wnd_drctn                          4\n",
       "rgnl_ar_nm                        41\n",
       "rgnl_ar_nm2                       41\n",
       "rd_sd_nm                          41\n",
       "lnd_us_sttn_nm                    73\n",
       "ttl_grnd_flr                     343\n",
       "ttl_dwn_flr                      399\n",
       "ele_engry_us_201711              460\n",
       "gas_engry_us_201711              460\n",
       "ele_engry_us_201710              460\n",
       "gas_engry_us_201710              460\n",
       "ele_engry_us_201709              460\n",
       "gas_engry_us_201709              460\n",
       "ele_engry_us_201708              460\n",
       "gas_engry_us_201708              460\n",
       "ele_engry_us_201707              460\n",
       "                                ... \n",
       "bldng_ar_prc                    1344\n",
       "dngrs_thng_yn                   2318\n",
       "blk_dngrs_thng_mnfctr_yn        2318\n",
       "cltrl_hrtg_yn                   2318\n",
       "us_yn                           2318\n",
       "slf_fr_brgd_yn                  2318\n",
       "fr_fghtng_fclt_spcl_css_5_yn    2400\n",
       "fr_fghtng_fclt_spcl_css_6_yn    2400\n",
       "trgt_crtr                       2724\n",
       "prcpttn                         2740\n",
       "lw_13141011                     2917\n",
       "lw_13131110                     2917\n",
       "lw_13131010                     2917\n",
       "lw_13121011                     2917\n",
       "lw_13121010                     2917\n",
       "lw_13111110                     2917\n",
       "lw_13111010                     2917\n",
       "lw_13101410                     2917\n",
       "lw_13101310                     2917\n",
       "lw_13101211                     2917\n",
       "lw_13101210                     2917\n",
       "lw_13101110                     2917\n",
       "lw_13101010                     2917\n",
       "lw_13141010                     2917\n",
       "fr_yn                           2957\n",
       "Length: 165, dtype: int64"
      ]
     },
     "execution_count": 14,
     "metadata": {},
     "output_type": "execute_result"
    }
   ],
   "source": [
    "test.isnull().sum().sort_values()[15:]"
   ]
  },
  {
   "cell_type": "code",
   "execution_count": null,
   "metadata": {},
   "outputs": [],
   "source": []
  }
 ],
 "metadata": {
  "kernelspec": {
   "display_name": "Python 3",
   "language": "python",
   "name": "python3"
  },
  "language_info": {
   "codemirror_mode": {
    "name": "ipython",
    "version": 3
   },
   "file_extension": ".py",
   "mimetype": "text/x-python",
   "name": "python",
   "nbconvert_exporter": "python",
   "pygments_lexer": "ipython3",
   "version": "3.6.7"
  }
 },
 "nbformat": 4,
 "nbformat_minor": 2
}

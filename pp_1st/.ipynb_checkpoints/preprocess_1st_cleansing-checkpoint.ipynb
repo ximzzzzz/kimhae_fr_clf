{
 "cells": [
  {
   "cell_type": "code",
   "execution_count": 3,
   "metadata": {},
   "outputs": [],
   "source": [
    "import pandas as pd\n",
    "import numpy as np\n",
    "import seaborn as sns\n",
    "import matplotlib.pyplot as plt\n",
    "import pp1st_pipeline\n",
    "pd.set_option('display.max_columns', 100)\n",
    "pd.set_option('display.max_rows', 50)"
   ]
  },
  {
   "cell_type": "code",
   "execution_count": 4,
   "metadata": {
    "scrolled": true
   },
   "outputs": [
    {
     "name": "stderr",
     "output_type": "stream",
     "text": [
      "/usr/local/lib/python3.6/dist-packages/IPython/core/interactiveshell.py:3049: DtypeWarning: Columns (8,172,173,174,175,176,177,178,179) have mixed types. Specify dtype option on import or set low_memory=False.\n",
      "  interactivity=interactivity, compiler=compiler, result=result)\n"
     ]
    }
   ],
   "source": [
    "data = pd.read_csv('../raw/PJT002_train.csv', )\n",
    "data_val = pd.read_csv('../raw/PJT002_validation.csv', )"
   ]
  },
  {
   "cell_type": "code",
   "execution_count": 5,
   "metadata": {},
   "outputs": [],
   "source": [
    "data.reset_index(drop=True, inplace=True)"
   ]
  },
  {
   "cell_type": "markdown",
   "metadata": {},
   "source": [
    "### 결측치 버리고 시작하기 "
   ]
  },
  {
   "cell_type": "code",
   "execution_count": 6,
   "metadata": {
    "collapsed": true
   },
   "outputs": [
    {
     "data": {
      "text/plain": [
       "lw_13121011                     58926\n",
       "lw_13121010                     58926\n",
       "lw_13111110                     58918\n",
       "lw_13101410                     58916\n",
       "lw_13141011                     58908\n",
       "lw_13101110                     58908\n",
       "lw_13141010                     58907\n",
       "lw_13101310                     58907\n",
       "lw_13131010                     58903\n",
       "lw_13131110                     58903\n",
       "lw_13101210                     58902\n",
       "lw_13101211                     58901\n",
       "lw_13111010                     58899\n",
       "lw_13101010                     58897\n",
       "prcpttn                         53629\n",
       "trgt_crtr                       51022\n",
       "fr_fghtng_fclt_spcl_css_5_yn    50762\n",
       "fr_fghtng_fclt_spcl_css_6_yn    50762\n",
       "cltrl_hrtg_yn                   49447\n",
       "us_yn                           49447\n",
       "dngrs_thng_yn                   49447\n",
       "slf_fr_brgd_yn                  49447\n",
       "blk_dngrs_thng_mnfctr_yn        49447\n",
       "bldng_us_clssfctn               29343\n",
       "bldng_us                        27677\n",
       "                                ...  \n",
       "wnd_drctn                         221\n",
       "fr_mn_cnt                          41\n",
       "wnd_spd                            33\n",
       "hmdt                               22\n",
       "tmprtr                             13\n",
       "emd_nm                              4\n",
       "fr_wthr_fclt_dstnc                  0\n",
       "ahsm_dstnc                          0\n",
       "fr_yn                               0\n",
       "bldng_cnt_in_50m                    0\n",
       "no_tbc_zn_dstnc                     0\n",
       "bldng_cnt                           0\n",
       "bldng_ar                            0\n",
       "ttl_ar                              0\n",
       "lnd_ar                              0\n",
       "id                                  0\n",
       "jmk                                 0\n",
       "mlt_us_yn                           0\n",
       "sft_emrgnc_bll_dstnc                0\n",
       "tbc_rtl_str_dstnc                   0\n",
       "fr_sttn_dstnc                       0\n",
       "cctv_in_100m                        0\n",
       "fr_wthr_fclt_in_100m                0\n",
       "cctv_dstnc                          0\n",
       "dt_of_fr                            0\n",
       "Length: 180, dtype: int64"
      ]
     },
     "execution_count": 6,
     "metadata": {},
     "output_type": "execute_result"
    }
   ],
   "source": [
    "data.isnull().sum().sort_values(ascending=False)"
   ]
  },
  {
   "cell_type": "code",
   "execution_count": 7,
   "metadata": {},
   "outputs": [],
   "source": [
    "data.dropna(axis=1, thresh=10000, inplace=True)"
   ]
  },
  {
   "cell_type": "code",
   "execution_count": 6,
   "metadata": {},
   "outputs": [],
   "source": [
    "data['dt_of_fr_hr'] = data['dt_of_fr'].astype('datetime64').apply(lambda x : x.hour)\n",
    "data['dt_of_fr_mth'] = data['dt_of_fr'].astype('datetime64').apply(lambda x : x.month)"
   ]
  },
  {
   "cell_type": "markdown",
   "metadata": {},
   "source": [
    "- <b>dt_of athrztn"
   ]
  },
  {
   "cell_type": "code",
   "execution_count": 7,
   "metadata": {},
   "outputs": [],
   "source": [
    "data.loc[32635, 'dt_of_athrztn'] = 20020227 #이상치 처리"
   ]
  },
  {
   "cell_type": "code",
   "execution_count": 8,
   "metadata": {},
   "outputs": [],
   "source": [
    "data['dt_of_athrztn'].fillna(0, inplace=True)\n",
    "data['dt_of_athrztn'] = data['dt_of_athrztn'].astype(float).astype(int)\n",
    "data['dt_of_athrztn'] = data['dt_of_athrztn'].astype(str).apply(lambda x : x[:4] if len(x)==8 else x )\n",
    "data['dt_of_fr_yr'] = data['dt_of_fr'].astype('datetime64').apply(lambda x : x.year)\n",
    "data['화재시점나이'] = data['dt_of_fr_yr'] - data['dt_of_athrztn'].astype(int)\n",
    "data['화재시점나이'] = data['화재시점나이'].apply(lambda x : np.nan if len(str(x))==4 else x) # nan값은 그대로 nan값으로"
   ]
  },
  {
   "cell_type": "code",
   "execution_count": 11,
   "metadata": {
    "collapsed": true
   },
   "outputs": [
    {
     "data": {
      "text/html": [
       "<div>\n",
       "<style scoped>\n",
       "    .dataframe tbody tr th:only-of-type {\n",
       "        vertical-align: middle;\n",
       "    }\n",
       "\n",
       "    .dataframe tbody tr th {\n",
       "        vertical-align: top;\n",
       "    }\n",
       "\n",
       "    .dataframe thead th {\n",
       "        text-align: right;\n",
       "    }\n",
       "</style>\n",
       "<table border=\"1\" class=\"dataframe\">\n",
       "  <thead>\n",
       "    <tr style=\"text-align: right;\">\n",
       "      <th></th>\n",
       "      <th>dt_of_athrztn</th>\n",
       "      <th>dt_of_fr</th>\n",
       "      <th>dt_of_fr_yr</th>\n",
       "      <th>화재시점나이</th>\n",
       "    </tr>\n",
       "  </thead>\n",
       "  <tbody>\n",
       "    <tr>\n",
       "      <th>78</th>\n",
       "      <td>1915</td>\n",
       "      <td>2018-08-22 22:39</td>\n",
       "      <td>2018</td>\n",
       "      <td>103.0</td>\n",
       "    </tr>\n",
       "    <tr>\n",
       "      <th>238</th>\n",
       "      <td>1912</td>\n",
       "      <td>2016-04-11 06:49</td>\n",
       "      <td>2016</td>\n",
       "      <td>104.0</td>\n",
       "    </tr>\n",
       "    <tr>\n",
       "      <th>272</th>\n",
       "      <td>1900</td>\n",
       "      <td>2014-04-03 14:02</td>\n",
       "      <td>2014</td>\n",
       "      <td>114.0</td>\n",
       "    </tr>\n",
       "    <tr>\n",
       "      <th>384</th>\n",
       "      <td>1900</td>\n",
       "      <td>2018-03-09 05:16</td>\n",
       "      <td>2018</td>\n",
       "      <td>118.0</td>\n",
       "    </tr>\n",
       "    <tr>\n",
       "      <th>614</th>\n",
       "      <td>1913</td>\n",
       "      <td>2018-02-11 09:49</td>\n",
       "      <td>2018</td>\n",
       "      <td>105.0</td>\n",
       "    </tr>\n",
       "    <tr>\n",
       "      <th>654</th>\n",
       "      <td>1915</td>\n",
       "      <td>2017-08-04 20:10</td>\n",
       "      <td>2017</td>\n",
       "      <td>102.0</td>\n",
       "    </tr>\n",
       "    <tr>\n",
       "      <th>678</th>\n",
       "      <td>1901</td>\n",
       "      <td>2015-09-15 18:34</td>\n",
       "      <td>2015</td>\n",
       "      <td>114.0</td>\n",
       "    </tr>\n",
       "    <tr>\n",
       "      <th>820</th>\n",
       "      <td>1915</td>\n",
       "      <td>2018-10-23 18:31</td>\n",
       "      <td>2018</td>\n",
       "      <td>103.0</td>\n",
       "    </tr>\n",
       "    <tr>\n",
       "      <th>879</th>\n",
       "      <td>1900</td>\n",
       "      <td>2017-05-04 23:39</td>\n",
       "      <td>2017</td>\n",
       "      <td>117.0</td>\n",
       "    </tr>\n",
       "    <tr>\n",
       "      <th>979</th>\n",
       "      <td>1890</td>\n",
       "      <td>2015-02-02 22:45</td>\n",
       "      <td>2015</td>\n",
       "      <td>125.0</td>\n",
       "    </tr>\n",
       "    <tr>\n",
       "      <th>1035</th>\n",
       "      <td>1905</td>\n",
       "      <td>2016-09-26 11:17</td>\n",
       "      <td>2016</td>\n",
       "      <td>111.0</td>\n",
       "    </tr>\n",
       "    <tr>\n",
       "      <th>1104</th>\n",
       "      <td>1913</td>\n",
       "      <td>2014-04-13 09:39</td>\n",
       "      <td>2014</td>\n",
       "      <td>101.0</td>\n",
       "    </tr>\n",
       "    <tr>\n",
       "      <th>1273</th>\n",
       "      <td>1898</td>\n",
       "      <td>2017-07-29 18:28</td>\n",
       "      <td>2017</td>\n",
       "      <td>119.0</td>\n",
       "    </tr>\n",
       "    <tr>\n",
       "      <th>1724</th>\n",
       "      <td>1900</td>\n",
       "      <td>2014-11-19 14:37</td>\n",
       "      <td>2014</td>\n",
       "      <td>114.0</td>\n",
       "    </tr>\n",
       "    <tr>\n",
       "      <th>1980</th>\n",
       "      <td>1910</td>\n",
       "      <td>2017-07-12 00:44</td>\n",
       "      <td>2017</td>\n",
       "      <td>107.0</td>\n",
       "    </tr>\n",
       "    <tr>\n",
       "      <th>2672</th>\n",
       "      <td>1914</td>\n",
       "      <td>2016-01-04 14:00</td>\n",
       "      <td>2016</td>\n",
       "      <td>102.0</td>\n",
       "    </tr>\n",
       "    <tr>\n",
       "      <th>2749</th>\n",
       "      <td>1850</td>\n",
       "      <td>2018-12-27 15:43</td>\n",
       "      <td>2018</td>\n",
       "      <td>168.0</td>\n",
       "    </tr>\n",
       "    <tr>\n",
       "      <th>3067</th>\n",
       "      <td>1900</td>\n",
       "      <td>2017-06-15 16:23</td>\n",
       "      <td>2017</td>\n",
       "      <td>117.0</td>\n",
       "    </tr>\n",
       "    <tr>\n",
       "      <th>3083</th>\n",
       "      <td>1915</td>\n",
       "      <td>2018-05-22 13:27</td>\n",
       "      <td>2018</td>\n",
       "      <td>103.0</td>\n",
       "    </tr>\n",
       "    <tr>\n",
       "      <th>3374</th>\n",
       "      <td>1900</td>\n",
       "      <td>2016-09-29 18:33</td>\n",
       "      <td>2016</td>\n",
       "      <td>116.0</td>\n",
       "    </tr>\n",
       "    <tr>\n",
       "      <th>3445</th>\n",
       "      <td>1904</td>\n",
       "      <td>2014-10-03 10:12</td>\n",
       "      <td>2014</td>\n",
       "      <td>110.0</td>\n",
       "    </tr>\n",
       "    <tr>\n",
       "      <th>3482</th>\n",
       "      <td>1878</td>\n",
       "      <td>2018-04-20 20:51</td>\n",
       "      <td>2018</td>\n",
       "      <td>140.0</td>\n",
       "    </tr>\n",
       "    <tr>\n",
       "      <th>3592</th>\n",
       "      <td>1884</td>\n",
       "      <td>2014-02-18 16:33</td>\n",
       "      <td>2014</td>\n",
       "      <td>130.0</td>\n",
       "    </tr>\n",
       "    <tr>\n",
       "      <th>3761</th>\n",
       "      <td>1910</td>\n",
       "      <td>2015-12-07 09:38</td>\n",
       "      <td>2015</td>\n",
       "      <td>105.0</td>\n",
       "    </tr>\n",
       "    <tr>\n",
       "      <th>3797</th>\n",
       "      <td>1900</td>\n",
       "      <td>2018-06-11 12:31</td>\n",
       "      <td>2018</td>\n",
       "      <td>118.0</td>\n",
       "    </tr>\n",
       "    <tr>\n",
       "      <th>...</th>\n",
       "      <td>...</td>\n",
       "      <td>...</td>\n",
       "      <td>...</td>\n",
       "      <td>...</td>\n",
       "    </tr>\n",
       "    <tr>\n",
       "      <th>51001</th>\n",
       "      <td>1740</td>\n",
       "      <td>2016-04-09 04:56</td>\n",
       "      <td>2016</td>\n",
       "      <td>276.0</td>\n",
       "    </tr>\n",
       "    <tr>\n",
       "      <th>51004</th>\n",
       "      <td>1740</td>\n",
       "      <td>2018-03-13 10:00</td>\n",
       "      <td>2018</td>\n",
       "      <td>278.0</td>\n",
       "    </tr>\n",
       "    <tr>\n",
       "      <th>51023</th>\n",
       "      <td>1872</td>\n",
       "      <td>2016-09-27 19:40</td>\n",
       "      <td>2016</td>\n",
       "      <td>144.0</td>\n",
       "    </tr>\n",
       "    <tr>\n",
       "      <th>51045</th>\n",
       "      <td>1914</td>\n",
       "      <td>2018-04-15 07:52</td>\n",
       "      <td>2018</td>\n",
       "      <td>104.0</td>\n",
       "    </tr>\n",
       "    <tr>\n",
       "      <th>51050</th>\n",
       "      <td>1901</td>\n",
       "      <td>2014-06-20 14:29</td>\n",
       "      <td>2014</td>\n",
       "      <td>113.0</td>\n",
       "    </tr>\n",
       "    <tr>\n",
       "      <th>51318</th>\n",
       "      <td>1900</td>\n",
       "      <td>2017-06-07 16:06</td>\n",
       "      <td>2017</td>\n",
       "      <td>117.0</td>\n",
       "    </tr>\n",
       "    <tr>\n",
       "      <th>52048</th>\n",
       "      <td>1915</td>\n",
       "      <td>2018-07-27 16:39</td>\n",
       "      <td>2018</td>\n",
       "      <td>103.0</td>\n",
       "    </tr>\n",
       "    <tr>\n",
       "      <th>52263</th>\n",
       "      <td>1893</td>\n",
       "      <td>2017-10-04 00:42</td>\n",
       "      <td>2017</td>\n",
       "      <td>124.0</td>\n",
       "    </tr>\n",
       "    <tr>\n",
       "      <th>54802</th>\n",
       "      <td>1896</td>\n",
       "      <td>2018-05-12 21:24</td>\n",
       "      <td>2018</td>\n",
       "      <td>122.0</td>\n",
       "    </tr>\n",
       "    <tr>\n",
       "      <th>54852</th>\n",
       "      <td>1902</td>\n",
       "      <td>2014-08-12 10:06</td>\n",
       "      <td>2014</td>\n",
       "      <td>112.0</td>\n",
       "    </tr>\n",
       "    <tr>\n",
       "      <th>55520</th>\n",
       "      <td>1900</td>\n",
       "      <td>2018-01-03 04:12</td>\n",
       "      <td>2018</td>\n",
       "      <td>118.0</td>\n",
       "    </tr>\n",
       "    <tr>\n",
       "      <th>55782</th>\n",
       "      <td>1880</td>\n",
       "      <td>2017-07-27 12:08</td>\n",
       "      <td>2017</td>\n",
       "      <td>137.0</td>\n",
       "    </tr>\n",
       "    <tr>\n",
       "      <th>56153</th>\n",
       "      <td>1913</td>\n",
       "      <td>2017-05-20 05:24</td>\n",
       "      <td>2017</td>\n",
       "      <td>104.0</td>\n",
       "    </tr>\n",
       "    <tr>\n",
       "      <th>56154</th>\n",
       "      <td>1913</td>\n",
       "      <td>2015-06-23 12:53</td>\n",
       "      <td>2015</td>\n",
       "      <td>102.0</td>\n",
       "    </tr>\n",
       "    <tr>\n",
       "      <th>56291</th>\n",
       "      <td>1895</td>\n",
       "      <td>2018-11-20 23:37</td>\n",
       "      <td>2018</td>\n",
       "      <td>123.0</td>\n",
       "    </tr>\n",
       "    <tr>\n",
       "      <th>56682</th>\n",
       "      <td>1900</td>\n",
       "      <td>2018-11-18 11:18</td>\n",
       "      <td>2018</td>\n",
       "      <td>118.0</td>\n",
       "    </tr>\n",
       "    <tr>\n",
       "      <th>56684</th>\n",
       "      <td>1900</td>\n",
       "      <td>2017-02-02 23:41</td>\n",
       "      <td>2017</td>\n",
       "      <td>117.0</td>\n",
       "    </tr>\n",
       "    <tr>\n",
       "      <th>56796</th>\n",
       "      <td>1889</td>\n",
       "      <td>2018-11-22 00:51</td>\n",
       "      <td>2018</td>\n",
       "      <td>129.0</td>\n",
       "    </tr>\n",
       "    <tr>\n",
       "      <th>57326</th>\n",
       "      <td>1905</td>\n",
       "      <td>2015-02-15 17:21</td>\n",
       "      <td>2015</td>\n",
       "      <td>110.0</td>\n",
       "    </tr>\n",
       "    <tr>\n",
       "      <th>57481</th>\n",
       "      <td>1890</td>\n",
       "      <td>2016-09-26 12:55</td>\n",
       "      <td>2016</td>\n",
       "      <td>126.0</td>\n",
       "    </tr>\n",
       "    <tr>\n",
       "      <th>57934</th>\n",
       "      <td>1865</td>\n",
       "      <td>2017-08-05 00:16</td>\n",
       "      <td>2017</td>\n",
       "      <td>152.0</td>\n",
       "    </tr>\n",
       "    <tr>\n",
       "      <th>58708</th>\n",
       "      <td>1909</td>\n",
       "      <td>2018-03-28 02:09</td>\n",
       "      <td>2018</td>\n",
       "      <td>109.0</td>\n",
       "    </tr>\n",
       "    <tr>\n",
       "      <th>58920</th>\n",
       "      <td>1890</td>\n",
       "      <td>2017-10-12 18:29</td>\n",
       "      <td>2017</td>\n",
       "      <td>127.0</td>\n",
       "    </tr>\n",
       "    <tr>\n",
       "      <th>58963</th>\n",
       "      <td>1904</td>\n",
       "      <td>2015-10-25 09:48</td>\n",
       "      <td>2015</td>\n",
       "      <td>111.0</td>\n",
       "    </tr>\n",
       "    <tr>\n",
       "      <th>59041</th>\n",
       "      <td>1904</td>\n",
       "      <td>2018-08-17 14:22</td>\n",
       "      <td>2018</td>\n",
       "      <td>114.0</td>\n",
       "    </tr>\n",
       "  </tbody>\n",
       "</table>\n",
       "<p>445 rows × 4 columns</p>\n",
       "</div>"
      ],
      "text/plain": [
       "      dt_of_athrztn          dt_of_fr  dt_of_fr_yr  화재시점나이\n",
       "78             1915  2018-08-22 22:39         2018   103.0\n",
       "238            1912  2016-04-11 06:49         2016   104.0\n",
       "272            1900  2014-04-03 14:02         2014   114.0\n",
       "384            1900  2018-03-09 05:16         2018   118.0\n",
       "614            1913  2018-02-11 09:49         2018   105.0\n",
       "654            1915  2017-08-04 20:10         2017   102.0\n",
       "678            1901  2015-09-15 18:34         2015   114.0\n",
       "820            1915  2018-10-23 18:31         2018   103.0\n",
       "879            1900  2017-05-04 23:39         2017   117.0\n",
       "979            1890  2015-02-02 22:45         2015   125.0\n",
       "1035           1905  2016-09-26 11:17         2016   111.0\n",
       "1104           1913  2014-04-13 09:39         2014   101.0\n",
       "1273           1898  2017-07-29 18:28         2017   119.0\n",
       "1724           1900  2014-11-19 14:37         2014   114.0\n",
       "1980           1910  2017-07-12 00:44         2017   107.0\n",
       "2672           1914  2016-01-04 14:00         2016   102.0\n",
       "2749           1850  2018-12-27 15:43         2018   168.0\n",
       "3067           1900  2017-06-15 16:23         2017   117.0\n",
       "3083           1915  2018-05-22 13:27         2018   103.0\n",
       "3374           1900  2016-09-29 18:33         2016   116.0\n",
       "3445           1904  2014-10-03 10:12         2014   110.0\n",
       "3482           1878  2018-04-20 20:51         2018   140.0\n",
       "3592           1884  2014-02-18 16:33         2014   130.0\n",
       "3761           1910  2015-12-07 09:38         2015   105.0\n",
       "3797           1900  2018-06-11 12:31         2018   118.0\n",
       "...             ...               ...          ...     ...\n",
       "51001          1740  2016-04-09 04:56         2016   276.0\n",
       "51004          1740  2018-03-13 10:00         2018   278.0\n",
       "51023          1872  2016-09-27 19:40         2016   144.0\n",
       "51045          1914  2018-04-15 07:52         2018   104.0\n",
       "51050          1901  2014-06-20 14:29         2014   113.0\n",
       "51318          1900  2017-06-07 16:06         2017   117.0\n",
       "52048          1915  2018-07-27 16:39         2018   103.0\n",
       "52263          1893  2017-10-04 00:42         2017   124.0\n",
       "54802          1896  2018-05-12 21:24         2018   122.0\n",
       "54852          1902  2014-08-12 10:06         2014   112.0\n",
       "55520          1900  2018-01-03 04:12         2018   118.0\n",
       "55782          1880  2017-07-27 12:08         2017   137.0\n",
       "56153          1913  2017-05-20 05:24         2017   104.0\n",
       "56154          1913  2015-06-23 12:53         2015   102.0\n",
       "56291          1895  2018-11-20 23:37         2018   123.0\n",
       "56682          1900  2018-11-18 11:18         2018   118.0\n",
       "56684          1900  2017-02-02 23:41         2017   117.0\n",
       "56796          1889  2018-11-22 00:51         2018   129.0\n",
       "57326          1905  2015-02-15 17:21         2015   110.0\n",
       "57481          1890  2016-09-26 12:55         2016   126.0\n",
       "57934          1865  2017-08-05 00:16         2017   152.0\n",
       "58708          1909  2018-03-28 02:09         2018   109.0\n",
       "58920          1890  2017-10-12 18:29         2017   127.0\n",
       "58963          1904  2015-10-25 09:48         2015   111.0\n",
       "59041          1904  2018-08-17 14:22         2018   114.0\n",
       "\n",
       "[445 rows x 4 columns]"
      ]
     },
     "execution_count": 11,
     "metadata": {},
     "output_type": "execute_result"
    }
   ],
   "source": [
    "data[(data['화재시점나이']>100) & (data['화재시점나이'] <2000)][['dt_of_athrztn', 'dt_of_fr' ,'dt_of_fr_yr','화재시점나이']]"
   ]
  },
  {
   "cell_type": "markdown",
   "metadata": {},
   "source": [
    "- <b>bldng_cnt , <b>lnd_ar , <b> bldng_ar"
   ]
  },
  {
   "cell_type": "code",
   "execution_count": 9,
   "metadata": {
    "scrolled": true
   },
   "outputs": [],
   "source": [
    "data['lnd_ar'].replace(0.00, 0.01, inplace=True) #임시로 0.01로 변경\n",
    "data['한채당가용면적'] = data['lnd_ar']/ data['bldng_cnt']\n",
    "data.loc[data[data['lnd_ar']==0.01].index, '한채당가용면적']=np.nan"
   ]
  },
  {
   "cell_type": "code",
   "execution_count": 10,
   "metadata": {
    "scrolled": true
   },
   "outputs": [],
   "source": [
    "data['bldng_ar'].replace(0, 0.02, inplace=True)\n",
    "data['면적대비예상채수'] = data['lnd_ar'] / data['bldng_ar']\n",
    "data.loc[data[data['lnd_ar']==0.01].index, '면적대비예상채수']=np.nan"
   ]
  },
  {
   "cell_type": "code",
   "execution_count": 11,
   "metadata": {},
   "outputs": [],
   "source": [
    "data['예상채수초과']=0\n",
    "data.loc[data[data['bldng_cnt'] > data['면적대비예상채수']].index, '예상채수초과']=1"
   ]
  },
  {
   "cell_type": "markdown",
   "metadata": {},
   "source": [
    "- ttl_grnd_flr , ttl_dwn_flr"
   ]
  },
  {
   "cell_type": "code",
   "execution_count": 12,
   "metadata": {},
   "outputs": [],
   "source": [
    "data['한채당평균지상층수'] = data['ttl_grnd_flr'] / data['bldng_cnt']\n",
    "data['한채당평균지하층수'] = data['ttl_dwn_flr'] / data['bldng_cnt']"
   ]
  },
  {
   "cell_type": "code",
   "execution_count": 13,
   "metadata": {},
   "outputs": [],
   "source": [
    "data['지상지하층합'] = data['ttl_grnd_flr'] + data['ttl_dwn_flr']\n",
    "data['예상평균층당면적'] = data['ttl_ar'] / data['지상지하층합']"
   ]
  },
  {
   "cell_type": "markdown",
   "metadata": {},
   "source": [
    "- tmprtr"
   ]
  },
  {
   "cell_type": "code",
   "execution_count": 14,
   "metadata": {
    "scrolled": true
   },
   "outputs": [],
   "source": [
    "data['season'] = data['dt_of_fr_mth'].apply(lambda x : '겨울'  if (x ==12) | (x==1) | (x==2)  else x)\n",
    "data['season'] = data['season'].apply(lambda x : '봄'  if (x ==3) | (x==4) | (x==5)  else x)\n",
    "data['season'] = data['season'].apply(lambda x : '여름'  if (x ==6) | (x==7) | (x==8)  else x)\n",
    "data['season'] = data['season'].apply(lambda x : '가을'  if (x ==9) | (x==10) | (x==11)  else x)"
   ]
  },
  {
   "cell_type": "code",
   "execution_count": 15,
   "metadata": {},
   "outputs": [],
   "source": [
    "data['계절평균온도차'] = 0\n",
    "data.loc[data[data['season']=='봄']['tmprtr'].keys(), '계절평균온도차'] = data[data['season']=='봄']['tmprtr'].apply(lambda x : x - 13.893263003271683).get_values()\n",
    "data.loc[data[data['season']=='여름']['tmprtr'].keys(), '계절평균온도차'] = data[data['season']=='여름']['tmprtr'].apply(lambda x : x - 24.737439966590106).get_values()\n",
    "data.loc[data[data['season']=='가을']['tmprtr'].keys(), '계절평균온도차'] = data[data['season']=='가을']['tmprtr'].apply(lambda x : x - 15.416313269493845).get_values()\n",
    "data.loc[data[data['season']=='겨울']['tmprtr'].keys(), '계절평균온도차'] = data[data['season']=='겨울']['tmprtr'].apply(lambda x : x - 2.671166732361056).get_values()"
   ]
  },
  {
   "cell_type": "markdown",
   "metadata": {},
   "source": [
    "- wnd_drctn"
   ]
  },
  {
   "cell_type": "code",
   "execution_count": 180,
   "metadata": {
    "collapsed": true
   },
   "outputs": [
    {
     "name": "stdout",
     "output_type": "stream",
     "text": [
      "164.66537484965923\n",
      "144.45976611443686\n",
      "151.4186874914372\n",
      "177.54253056884636\n",
      "159.75043236461053\n"
     ]
    }
   ],
   "source": [
    "print(data[data['season']=='봄']['wnd_drctn'].mean())\n",
    "print(data[data['season']=='여름']['wnd_drctn'].mean())\n",
    "print(data[data['season']=='가을']['wnd_drctn'].mean())\n",
    "print(data[data['season']=='겨울']['wnd_drctn'].mean())\n",
    "print(data['wnd_drctn'].mean())"
   ]
  },
  {
   "cell_type": "code",
   "execution_count": 174,
   "metadata": {
    "collapsed": true
   },
   "outputs": [
    {
     "name": "stdout",
     "output_type": "stream",
     "text": [
      "season : 가을 , min_range : 301.4186874914372, max_range : 1.418687491437197\n",
      "season : 여름 , min_range : 294.4597661144369, max_range : 354.4597661144369\n",
      "season : 봄 , min_range : 314.6653748496592, max_range : 14.665374849659202\n",
      "season : 겨울 , min_range : 327.54253056884636, max_range : 27.54253056884636\n"
     ]
    }
   ],
   "source": [
    "# data['계절별반대풍향여부']=1\n",
    "# for season in data['season'].unique():\n",
    "#     ss_data = data[data['season']==season]\n",
    "#     min_range = data[data['season']==season]['wnd_drctn'].mean() - 30 + 180\n",
    "#     max_range = data[data['season']==season]['wnd_drctn'].mean() + 30 + 180\n",
    "#     if max_range >360:\n",
    "#         max_range = max_range - 360\n",
    "#         print('season : {} , min_range : {}, max_range : {}'.format(season, min_range, max_range))    \n",
    "#         inv_idx = ss_data[(ss_data['wnd_drctn'] < min_range) & (ss_data['wnd_drctn'] <= max_range)].index\n",
    "#         data.loc[inv_idx, '계절별반대풍향여부'] = 0\n",
    "#     print('season : {} , min_range : {}, max_range : {}'.format(season, min_range, max_range))        \n",
    "#     inv_idx = ss_data[(ss_data['wnd_drctn'] < min_range) & (ss_data['wnd_drctn'] <= max_range)].index\n",
    "#     data.loc[inv_idx, '계절별반대풍향여부'] = 0"
   ]
  },
  {
   "cell_type": "code",
   "execution_count": 16,
   "metadata": {},
   "outputs": [],
   "source": [
    "data['반대풍향여부']=1\n",
    "inv_idx = data[(data['wnd_drctn'] < 250 ) & (data['wnd_drctn']>70)].index\n",
    "data.loc[inv_idx, '반대풍향여부']=0"
   ]
  },
  {
   "cell_type": "markdown",
   "metadata": {},
   "source": [
    "- lnd_us_sttn_nm"
   ]
  },
  {
   "cell_type": "code",
   "execution_count": 191,
   "metadata": {
    "collapsed": true
   },
   "outputs": [
    {
     "data": {
      "text/plain": [
       "단독          34739\n",
       "주거기타         3966\n",
       "상업용          3191\n",
       "주상용          2957\n",
       "공업용          2000\n",
       "전            1525\n",
       "답            1291\n",
       "주거나지         1159\n",
       "답기타          1081\n",
       "전기타           826\n",
       "아파트           737\n",
       "자연림           719\n",
       "주상기타          471\n",
       "도로등           358\n",
       "과수원           276\n",
       "상업기타          258\n",
       "업무용           231\n",
       "다세대           229\n",
       "주상나지          189\n",
       "공업기타          147\n",
       "연립            144\n",
       "상업나지          142\n",
       "하천등           133\n",
       "토지임야          125\n",
       "공업나지          115\n",
       "임야기타           75\n",
       "조림             63\n",
       "주차장등           48\n",
       "공원등            43\n",
       "기타             41\n",
       "운동장등           37\n",
       "유해.혐오시설        35\n",
       "목장용지           21\n",
       "고속도로휴게소        15\n",
       "여객자동차터미널       12\n",
       "골프장 회원제         8\n",
       "위험시설            5\n",
       "유원지             3\n",
       "공원묘지            2\n",
       "특수기타            2\n",
       "콘도미니엄           1\n",
       "골프장 대중제         1\n",
       "스키장             1\n",
       "발전소             1\n",
       "Name: lnd_us_sttn_nm, dtype: int64"
      ]
     },
     "execution_count": 191,
     "metadata": {},
     "output_type": "execute_result"
    }
   ],
   "source": [
    "data['lnd_us_sttn_nm'].value_counts()"
   ]
  },
  {
   "cell_type": "code",
   "execution_count": 17,
   "metadata": {},
   "outputs": [],
   "source": [
    "## 주거용\n",
    "apt_idx = data[(data['lnd_us_sttn_nm']=='아파트') & (data['bldng_us_clssfctn'].isnull()) & ((data['rgnl_ar_nm'].str.contains('주거지역')) | (data['bldng_us'].str.contains('주택')))].index\n",
    "data.loc[apt_idx, 'bldng_us_clssfctn']='주거용'\n",
    "apt_idx = data[(data['lnd_us_sttn_nm']=='주거기타') & (data['bldng_us_clssfctn'].isnull()) & ((data['rgnl_ar_nm'].str.contains('주거지역')) | (data['bldng_us'].str.contains('주택')))].index\n",
    "data.loc[apt_idx, 'bldng_us_clssfctn']='주거용'\n",
    "apt_idx = data[(data['lnd_us_sttn_nm']=='다세대') & (data['bldng_us_clssfctn'].isnull()) & ((data['rgnl_ar_nm'].str.contains('주거지역')) | (data['bldng_us'].str.contains('주택')))].index\n",
    "data.loc[apt_idx, 'bldng_us_clssfctn']='주거용'\n",
    "apt_idx = data[(data['lnd_us_sttn_nm']=='주상용') & (data['bldng_us_clssfctn'].isnull()) & ((data['rgnl_ar_nm'].str.contains('주거지역')) | (data['bldng_us'].str.contains('주택')))].index\n",
    "data.loc[apt_idx, 'bldng_us_clssfctn']='주거용'\n",
    "apt_idx = data[(data['lnd_us_sttn_nm']=='주거나지') & (data['bldng_us_clssfctn'].isnull()) & ((data['rgnl_ar_nm'].str.contains('주거지역')) | (data['bldng_us'].str.contains('주택')))].index\n",
    "data.loc[apt_idx, 'bldng_us_clssfctn']='주거용'\n",
    "apt_idx = data[(data['lnd_us_sttn_nm']=='주상기타') & (data['bldng_us_clssfctn'].isnull()) & ((data['rgnl_ar_nm'].str.contains('주거지역')) | (data['bldng_us'].str.contains('주택')))].index\n",
    "data.loc[apt_idx, 'bldng_us_clssfctn']='주거용'\n",
    "apt_idx = data[(data['lnd_us_sttn_nm']=='연립') & (data['bldng_us_clssfctn'].isnull()) & ((data['rgnl_ar_nm'].str.contains('주거지역')) | (data['bldng_us'].str.contains('주택')))].index\n",
    "data.loc[apt_idx, 'bldng_us_clssfctn']='주거용'\n",
    "apt_idx = data[(data['lnd_us_sttn_nm']=='단독') & (data['bldng_us_clssfctn'].isnull()) & ((data['rgnl_ar_nm'].str.contains('주거지역')) | (data['bldng_us'].str.contains('주택')))].index\n",
    "data.loc[apt_idx, 'bldng_us_clssfctn']='주거용'\n",
    "apt_idx = data[(data['lnd_us_sttn_nm']=='주상나지') & (data['bldng_us_clssfctn'].isnull()) & ((data['rgnl_ar_nm'].str.contains('주거지역')) | (data['bldng_us'].str.contains('주택')))].index\n",
    "data.loc[apt_idx, 'bldng_us_clssfctn']='주거용'"
   ]
  },
  {
   "cell_type": "code",
   "execution_count": 18,
   "metadata": {
    "scrolled": true
   },
   "outputs": [],
   "source": [
    "##공업용\n",
    "factory_idx = data[(data['lnd_us_sttn_nm']=='공업용') & (data['bldng_us_clssfctn'].isnull()) & ((data['rgnl_ar_nm'].str.contains('공업지역')) | (data['bldng_us'].str.contains('공장')))].index\n",
    "data.loc[factory_idx, 'bldng_us_clssfctn']='공업용'\n",
    "factory_idx = data[(data['lnd_us_sttn_nm']=='공업기타') & (data['bldng_us_clssfctn'].isnull()) & ((data['rgnl_ar_nm'].str.contains('공업지역')) | (data['bldng_us'].str.contains('공장')))].index\n",
    "data.loc[factory_idx, 'bldng_us_clssfctn']='공업용'\n",
    "factory_idx = data[(data['lnd_us_sttn_nm']=='공업나지') & (data['bldng_us_clssfctn'].isnull()) & ((data['rgnl_ar_nm'].str.contains('공업지역')) | (data['bldng_us'].str.contains('공장')))].index\n",
    "data.loc[factory_idx, 'bldng_us_clssfctn']='공업용'"
   ]
  },
  {
   "cell_type": "code",
   "execution_count": 19,
   "metadata": {},
   "outputs": [],
   "source": [
    "##상업용\n",
    "com_idx = data[(data['lnd_us_sttn_nm']=='상업용') & (data['bldng_us_clssfctn'].isnull()) & ((data['rgnl_ar_nm'].str.contains('상업지역')) | (data['bldng_us'].str.contains('근린생활시설')))].index\n",
    "data.loc[com_idx, 'bldng_us_clssfctn']='상업용'\n",
    "com_idx = data[(data['lnd_us_sttn_nm']=='주상용') & (data['bldng_us_clssfctn'].isnull()) & ((data['rgnl_ar_nm'].str.contains('상업지역')) | (data['bldng_us'].str.contains('근린생활시설')))].index\n",
    "data.loc[com_idx, 'bldng_us_clssfctn']='상업용'\n",
    "com_idx = data[(data['lnd_us_sttn_nm']=='주상기타') & (data['bldng_us_clssfctn'].isnull()) & ((data['rgnl_ar_nm'].str.contains('상업지역')) | (data['bldng_us'].str.contains('근린생활시설')))].index\n",
    "data.loc[com_idx, 'bldng_us_clssfctn']='상업용'\n",
    "com_idx = data[(data['lnd_us_sttn_nm']=='상업기타') & (data['bldng_us_clssfctn'].isnull()) & ((data['rgnl_ar_nm'].str.contains('상업지역')) | (data['bldng_us'].str.contains('근린생활시설')))].index\n",
    "data.loc[com_idx, 'bldng_us_clssfctn']='상업용'\n",
    "com_idx = data[(data['lnd_us_sttn_nm']=='주상나지') & (data['bldng_us_clssfctn'].isnull()) & ((data['rgnl_ar_nm'].str.contains('상업지역')) | (data['bldng_us'].str.contains('근린생활시설')))].index\n",
    "data.loc[com_idx, 'bldng_us_clssfctn']='상업용'\n",
    "com_idx = data[(data['lnd_us_sttn_nm']=='상업나지') & (data['bldng_us_clssfctn'].isnull()) & ((data['rgnl_ar_nm'].str.contains('상업지역')) | (data['bldng_us'].str.contains('근린생활시설')))].index\n",
    "data.loc[com_idx, 'bldng_us_clssfctn']='상업용'\n",
    "com_idx = data[(data['lnd_us_sttn_nm']=='여객자동차터미널') & (data['bldng_us_clssfctn'].isnull()) & ((data['rgnl_ar_nm'].str.contains('상업지역')) | (data['bldng_us'].str.contains('근린생활시설')))].index\n",
    "data.loc[com_idx, 'bldng_us_clssfctn']='상업용'"
   ]
  },
  {
   "cell_type": "code",
   "execution_count": 20,
   "metadata": {},
   "outputs": [],
   "source": [
    "##농업용\n",
    "farm_idx = data[(data['lnd_us_sttn_nm']=='답') & (data['bldng_us_clssfctn'].isnull()) & ((data['rgnl_ar_nm'].str.contains('농림지역')))].index\n",
    "data.loc[farm_idx, 'bldng_us_clssfctn']='농수산용'\n",
    "farm_idx = data[(data['lnd_us_sttn_nm']=='과수원') & (data['bldng_us_clssfctn'].isnull()) & ((data['rgnl_ar_nm'].str.contains('농림지역')))].index\n",
    "data.loc[farm_idx, 'bldng_us_clssfctn']='농수산용'"
   ]
  },
  {
   "cell_type": "code",
   "execution_count": 21,
   "metadata": {},
   "outputs": [],
   "source": [
    "##문교사회용\n",
    "cul_idx = data[(data['lnd_us_sttn_nm']=='공원등') & (data['bldng_us_clssfctn'].isnull()) & ((data['rgnl_ar_nm'].str.contains('녹지지역')))].index\n",
    "data.loc[cul_idx, 'bldng_us_clssfctn']='문교사회용'\n",
    "cul_idx = data[(data['lnd_us_sttn_nm']=='운동장등') & (data['bldng_us_clssfctn'].isnull()) & ((data['rgnl_ar_nm'].str.contains('녹지지역')))].index\n",
    "data.loc[cul_idx, 'bldng_us_clssfctn']='문교사회용'"
   ]
  },
  {
   "cell_type": "code",
   "execution_count": 101,
   "metadata": {
    "scrolled": true
   },
   "outputs": [
    {
     "name": "stdout",
     "output_type": "stream",
     "text": [
      "여객자동차터미널 변수 결측치 갯수 : 0\n"
     ]
    },
    {
     "data": {
      "text/html": [
       "<div>\n",
       "<style scoped>\n",
       "    .dataframe tbody tr th:only-of-type {\n",
       "        vertical-align: middle;\n",
       "    }\n",
       "\n",
       "    .dataframe tbody tr th {\n",
       "        vertical-align: top;\n",
       "    }\n",
       "\n",
       "    .dataframe thead th {\n",
       "        text-align: right;\n",
       "    }\n",
       "</style>\n",
       "<table border=\"1\" class=\"dataframe\">\n",
       "  <thead>\n",
       "    <tr style=\"text-align: right;\">\n",
       "      <th></th>\n",
       "      <th>lnd_us_sttn_nm</th>\n",
       "      <th>bldng_us</th>\n",
       "      <th>rgnl_ar_nm</th>\n",
       "      <th>rgnl_ar_nm2</th>\n",
       "      <th>bldng_us_clssfctn</th>\n",
       "    </tr>\n",
       "  </thead>\n",
       "  <tbody>\n",
       "  </tbody>\n",
       "</table>\n",
       "</div>"
      ],
      "text/plain": [
       "Empty DataFrame\n",
       "Columns: [lnd_us_sttn_nm, bldng_us, rgnl_ar_nm, rgnl_ar_nm2, bldng_us_clssfctn]\n",
       "Index: []"
      ]
     },
     "execution_count": 101,
     "metadata": {},
     "output_type": "execute_result"
    }
   ],
   "source": [
    "var ='여객자동차터미널'\n",
    "print('{} 변수 결측치 갯수 : {}'.format(var, (data[(data['lnd_us_sttn_nm']==var) & (data['bldng_us_clssfctn'].isnull())].shape[0])))\n",
    "# data[(data['lnd_us_sttn_nm']==var)]['bldng_us_clssfctn'].value_counts()\n",
    "data[(data['lnd_us_sttn_nm']==var) & (data['bldng_us_clssfctn'].isnull())][['lnd_us_sttn_nm' ,'bldng_us', 'rgnl_ar_nm','rgnl_ar_nm2','bldng_us_clssfctn']]"
   ]
  },
  {
   "cell_type": "code",
   "execution_count": 102,
   "metadata": {},
   "outputs": [],
   "source": [
    "data.to_csv('./data/중간저장_bldng_us_clssfctn.csv')"
   ]
  },
  {
   "cell_type": "code",
   "execution_count": 22,
   "metadata": {
    "scrolled": true
   },
   "outputs": [
    {
     "name": "stdout",
     "output_type": "stream",
     "text": [
      "21599\n"
     ]
    },
    {
     "data": {
      "text/plain": [
       "bldng_us_clssfctn      21599\n",
       "bldng_us               21040\n",
       "bldng_archtctr         21023\n",
       "gas_engry_us_201605    20973\n",
       "ele_engry_us_201604    20973\n",
       "gas_engry_us_201604    20973\n",
       "ele_engry_us_201603    20973\n",
       "gas_engry_us_201603    20973\n",
       "ele_engry_us_201602    20973\n",
       "gas_engry_us_201602    20973\n",
       "ele_engry_us_201601    20973\n",
       "gas_engry_us_201606    20973\n",
       "gas_engry_us_201601    20973\n",
       "ele_engry_us_201512    20973\n",
       "gas_engry_us_201512    20973\n",
       "ele_engry_us_201511    20973\n",
       "gas_engry_us_201511    20973\n",
       "ele_engry_us_201510    20973\n",
       "gas_engry_us_201510    20973\n",
       "ele_engry_us_201605    20973\n",
       "ele_engry_us_201611    20973\n",
       "ele_engry_us_201606    20973\n",
       "gas_engry_us_201509    20973\n",
       "ele_engry_us_201702    20973\n",
       "gas_engry_us_201702    20973\n",
       "                       ...  \n",
       "gas_engry_us_201703    20973\n",
       "ele_engry_us_201704    20973\n",
       "gas_engry_us_201704    20973\n",
       "ele_engry_us_201803    20973\n",
       "ele_engry_us_201804    20973\n",
       "gas_engry_us_201805    20973\n",
       "ele_engry_us_201805    20973\n",
       "gas_engry_us_201806    20973\n",
       "ele_engry_us_201806    20973\n",
       "gas_engry_us_201807    20973\n",
       "ele_engry_us_201807    20973\n",
       "gas_engry_us_201808    20973\n",
       "ele_engry_us_201808    20973\n",
       "gas_engry_us_201809    20973\n",
       "ele_engry_us_201809    20973\n",
       "ele_engry_us_201402    20973\n",
       "ele_engry_us_201810    20973\n",
       "gas_engry_us_201811    20973\n",
       "ele_engry_us_201811    20973\n",
       "gas_engry_us_201812    20973\n",
       "ele_engry_us_201812    20973\n",
       "gas_engry_us_201402    20973\n",
       "ele_engry_us_201401    20973\n",
       "gas_engry_us_201401    20973\n",
       "화재시점나이                 20973\n",
       "Length: 100, dtype: int64"
      ]
     },
     "execution_count": 22,
     "metadata": {},
     "output_type": "execute_result"
    }
   ],
   "source": [
    "print(data[data['bldng_us_clssfctn'].isnull()].shape[0])\n",
    "data[data['bldng_us_clssfctn'].isnull()].isnull().sum().sort_values(ascending=False).head(100)"
   ]
  },
  {
   "cell_type": "code",
   "execution_count": 23,
   "metadata": {},
   "outputs": [
    {
     "data": {
      "text/plain": [
       "(59199, 171)"
      ]
     },
     "execution_count": 23,
     "metadata": {},
     "output_type": "execute_result"
    }
   ],
   "source": [
    "data.shape"
   ]
  },
  {
   "cell_type": "code",
   "execution_count": 24,
   "metadata": {},
   "outputs": [],
   "source": [
    "data_ = data.dropna(subset=['bldng_us_clssfctn'])\n",
    "data_ = data_.dropna(subset=['면적대비예상채수'])\n",
    "data_ = data_.dropna(subset=['bldng_ar_prc'])\n",
    "data_ = data_.dropna(subset=['bldng_archtctr'])"
   ]
  },
  {
   "cell_type": "code",
   "execution_count": 25,
   "metadata": {},
   "outputs": [],
   "source": [
    "data_.dropna(inplace=True)"
   ]
  },
  {
   "cell_type": "code",
   "execution_count": 26,
   "metadata": {},
   "outputs": [
    {
     "data": {
      "text/plain": [
       "(13008, 171)"
      ]
     },
     "execution_count": 26,
     "metadata": {},
     "output_type": "execute_result"
    }
   ],
   "source": [
    "data_.shape"
   ]
  },
  {
   "cell_type": "markdown",
   "metadata": {},
   "source": [
    "- bldng_ar_prc"
   ]
  },
  {
   "cell_type": "code",
   "execution_count": 119,
   "metadata": {
    "collapsed": true
   },
   "outputs": [
    {
     "data": {
      "text/plain": [
       "<matplotlib.legend.Legend at 0x7fcad019f940>"
      ]
     },
     "execution_count": 119,
     "metadata": {},
     "output_type": "execute_result"
    },
    {
     "data": {
      "image/png": "[encoded data removed]",
      "text/plain": [
       "<Figure size 1440x936 with 1 Axes>"
      ]
     },
     "metadata": {
      "needs_background": "light"
     },
     "output_type": "display_data"
    }
   ],
   "source": [
    "plt.figure(figsize=(20,13))\n",
    "sns.distplot(data[data['fr_yn']=='Y']['bldng_ar_prc'].dropna(), label='Y')\n",
    "sns.distplot(data[data['fr_yn']=='N']['bldng_ar_prc'].dropna(), label='N')\n",
    "plt.legend()"
   ]
  },
  {
   "cell_type": "markdown",
   "metadata": {},
   "source": [
    "- bldng_archtctr"
   ]
  },
  {
   "cell_type": "code",
   "execution_count": 27,
   "metadata": {},
   "outputs": [],
   "source": [
    "data_.reset_index(drop=True, inplace=True)"
   ]
  },
  {
   "cell_type": "code",
   "execution_count": 30,
   "metadata": {},
   "outputs": [
    {
     "data": {
      "text/plain": [
       "벽돌구조      4158\n",
       "콘크리트구조    3306\n",
       "목구조       2477\n",
       "철골구조      1359\n",
       "블록구조      1273\n",
       "기타조적구조     411\n",
       "석구조         24\n",
       "Name: bldng_archtctr, dtype: int64"
      ]
     },
     "execution_count": 30,
     "metadata": {},
     "output_type": "execute_result"
    }
   ],
   "source": [
    "data_['bldng_archtctr'].value_counts()"
   ]
  },
  {
   "cell_type": "code",
   "execution_count": 29,
   "metadata": {},
   "outputs": [],
   "source": [
    "##목구조 통일\n",
    "tree_idx = data_[data_['bldng_archtctr'].isin(['통나무구조','목구조','일반목구조'])].index\n",
    "data_.loc[tree_idx, 'bldng_archtctr'] = '목구조'\n",
    "#철골구조 통일\n",
    "steel_idx = data_[data_['bldng_archtctr'].isin(['경량철골구조','일반철골구조','철골콘크리트구조','기타강구조','강파이프구조'])].index\n",
    "data_.loc[steel_idx, 'bldng_archtctr'] = '철골구조'\n",
    "#콘크리트구조 통일\n",
    "concrete_idx = data_[data_['bldng_archtctr'].isin(['철근콘크리트구조','프리케스트콘크리트구조',])].index\n",
    "data_.loc[concrete_idx, 'bldng_archtctr'] = '콘크리트구조'\n",
    "#기타조직구조\n",
    "etc_idx = data_[data_['bldng_archtctr'].isin(['기타구조','기타조적구조','조적구조'])].index\n",
    "data_.loc[etc_idx, 'bldng_archtctr'] = '기타조적구조'"
   ]
  },
  {
   "cell_type": "markdown",
   "metadata": {},
   "source": [
    "- bldng_us"
   ]
  },
  {
   "cell_type": "code",
   "execution_count": 41,
   "metadata": {},
   "outputs": [
    {
     "data": {
      "text/plain": [
       "단독주택         11038\n",
       "제2종근린생활시설      611\n",
       "제1종근린생활시설      532\n",
       "공동주택           392\n",
       "공장창고시설         214\n",
       "동.식물 관련시설      106\n",
       "숙박시설            57\n",
       "문화종교교육시설        31\n",
       "업무시설            17\n",
       "위락시설             6\n",
       "기피시설             4\n",
       "Name: bldng_us, dtype: int64"
      ]
     },
     "execution_count": 41,
     "metadata": {},
     "output_type": "execute_result"
    }
   ],
   "source": [
    "data_['bldng_us'].value_counts()"
   ]
  },
  {
   "cell_type": "code",
   "execution_count": 40,
   "metadata": {},
   "outputs": [],
   "source": [
    "data_.loc[data_[data_['bldng_us']=='판매시설'].index, 'bldng_us'] = '제2종근린생활시설'\n",
    "data_.loc[data_[data_['bldng_us']=='근린생활시설'].index, 'bldng_us'] = '제1종근린생활시설'\n",
    "data_.loc[data_[data_['bldng_us']=='방송통신시설'].index, 'bldng_us'] = '제1종근린생활시설'\n",
    "data_.loc[data_[data_['bldng_us']=='자동차관련시설'].index, 'bldng_us'] = '업무시설'\n",
    "data_.loc[data_[data_['bldng_us'].isin(['위험물저장및처리시설','분뇨.쓰레기처리시설'])].index, 'bldng_us'] = '기피시설'\n",
    "data_.loc[data_[data_['bldng_us'].isin(['문화및집회시설','종교시설','교육연구시설','노유자시설'])].index, 'bldng_us'] = '문화종교교육시설'\n",
    "data_.loc[data_[data_['bldng_us'].isin(['공장','창고시설'])].index, 'bldng_us'] = '공장창고시설'"
   ]
  },
  {
   "cell_type": "markdown",
   "metadata": {},
   "source": [
    "- rd_sd_nm"
   ]
  },
  {
   "cell_type": "code",
   "execution_count": 45,
   "metadata": {
    "scrolled": true
   },
   "outputs": [],
   "source": [
    "data_['측면도로크기'] = data_['rd_sd_nm'].apply(lambda x : x[:2])"
   ]
  },
  {
   "cell_type": "code",
   "execution_count": 47,
   "metadata": {
    "collapsed": true
   },
   "outputs": [
    {
     "data": {
      "text/plain": [
       "세로한면(가)    4678\n",
       "세로한면(불)    3415\n",
       "소로한면       2342\n",
       "소로각지        707\n",
       "세로각지(가)     514\n",
       "중로한면        514\n",
       "중로각지        331\n",
       "세로각지(불)     184\n",
       "맹지          150\n",
       "광대로한면        92\n",
       "광대소각         68\n",
       "광대세각         13\n",
       "Name: rd_sd_nm, dtype: int64"
      ]
     },
     "execution_count": 47,
     "metadata": {},
     "output_type": "execute_result"
    }
   ],
   "source": [
    "data_['rd_sd_nm'].value_counts()"
   ]
  },
  {
   "cell_type": "code",
   "execution_count": 48,
   "metadata": {
    "collapsed": true
   },
   "outputs": [
    {
     "name": "stderr",
     "output_type": "stream",
     "text": [
      "/usr/local/lib/python3.6/dist-packages/ipykernel_launcher.py:2: UserWarning: Boolean Series key will be reindexed to match DataFrame index.\n",
      "  \n"
     ]
    }
   ],
   "source": [
    "data_['차량통행가능여부']=1\n",
    "car_idx = data_[data['rd_sd_nm'].isin(['세로한면(불)','맹지','세로각지(불)'])].index\n",
    "data_.loc[car_idx, '차량통행가능여부'] = 0"
   ]
  },
  {
   "cell_type": "markdown",
   "metadata": {},
   "source": [
    "## feature selection"
   ]
  },
  {
   "cell_type": "code",
   "execution_count": 55,
   "metadata": {},
   "outputs": [
    {
     "data": {
      "text/plain": [
       "['dt_of_fr',\n",
       " 'fr_yn',\n",
       " 'bldng_us',\n",
       " 'bldng_archtctr',\n",
       " 'bldng_cnt',\n",
       " 'bldng_ar',\n",
       " 'ttl_ar',\n",
       " 'lnd_ar',\n",
       " 'dt_of_athrztn',\n",
       " 'ttl_grnd_flr',\n",
       " 'ttl_dwn_flr',\n",
       " 'bldng_us_clssfctn',\n",
       " 'tmprtr',\n",
       " 'wnd_spd',\n",
       " 'wnd_drctn',\n",
       " 'hmdt',\n",
       " 'gas_engry_us_201401',\n",
       " 'ele_engry_us_201401',\n",
       " 'gas_engry_us_201402',\n",
       " 'ele_engry_us_201402',\n",
       " 'gas_engry_us_201403',\n",
       " 'ele_engry_us_201403',\n",
       " 'gas_engry_us_201404',\n",
       " 'ele_engry_us_201404',\n",
       " 'gas_engry_us_201405',\n",
       " 'ele_engry_us_201405',\n",
       " 'gas_engry_us_201406',\n",
       " 'ele_engry_us_201406',\n",
       " 'gas_engry_us_201407',\n",
       " 'ele_engry_us_201407',\n",
       " 'gas_engry_us_201408',\n",
       " 'ele_engry_us_201408',\n",
       " 'gas_engry_us_201409',\n",
       " 'ele_engry_us_201409',\n",
       " 'gas_engry_us_201410',\n",
       " 'ele_engry_us_201410',\n",
       " 'gas_engry_us_201411',\n",
       " 'ele_engry_us_201411',\n",
       " 'gas_engry_us_201412',\n",
       " 'ele_engry_us_201412',\n",
       " 'gas_engry_us_201501',\n",
       " 'ele_engry_us_201501',\n",
       " 'gas_engry_us_201502',\n",
       " 'ele_engry_us_201502',\n",
       " 'gas_engry_us_201503',\n",
       " 'ele_engry_us_201503',\n",
       " 'gas_engry_us_201504',\n",
       " 'ele_engry_us_201504',\n",
       " 'gas_engry_us_201505',\n",
       " 'ele_engry_us_201505',\n",
       " 'gas_engry_us_201506',\n",
       " 'ele_engry_us_201506',\n",
       " 'gas_engry_us_201507',\n",
       " 'ele_engry_us_201507',\n",
       " 'gas_engry_us_201508',\n",
       " 'ele_engry_us_201508',\n",
       " 'gas_engry_us_201509',\n",
       " 'ele_engry_us_201509',\n",
       " 'gas_engry_us_201510',\n",
       " 'ele_engry_us_201510',\n",
       " 'gas_engry_us_201511',\n",
       " 'ele_engry_us_201511',\n",
       " 'gas_engry_us_201512',\n",
       " 'ele_engry_us_201512',\n",
       " 'gas_engry_us_201601',\n",
       " 'ele_engry_us_201601',\n",
       " 'gas_engry_us_201602',\n",
       " 'ele_engry_us_201602',\n",
       " 'gas_engry_us_201603',\n",
       " 'ele_engry_us_201603',\n",
       " 'gas_engry_us_201604',\n",
       " 'ele_engry_us_201604',\n",
       " 'gas_engry_us_201605',\n",
       " 'ele_engry_us_201605',\n",
       " 'gas_engry_us_201606',\n",
       " 'ele_engry_us_201606',\n",
       " 'gas_engry_us_201607',\n",
       " 'ele_engry_us_201607',\n",
       " 'gas_engry_us_201608',\n",
       " 'ele_engry_us_201608',\n",
       " 'gas_engry_us_201609',\n",
       " 'ele_engry_us_201609',\n",
       " 'gas_engry_us_201610',\n",
       " 'ele_engry_us_201610',\n",
       " 'gas_engry_us_201611',\n",
       " 'ele_engry_us_201611',\n",
       " 'gas_engry_us_201612',\n",
       " 'ele_engry_us_201612',\n",
       " 'gas_engry_us_201701',\n",
       " 'ele_engry_us_201701',\n",
       " 'gas_engry_us_201702',\n",
       " 'ele_engry_us_201702',\n",
       " 'gas_engry_us_201703',\n",
       " 'ele_engry_us_201703',\n",
       " 'gas_engry_us_201704',\n",
       " 'ele_engry_us_201704',\n",
       " 'gas_engry_us_201705',\n",
       " 'ele_engry_us_201705',\n",
       " 'gas_engry_us_201706',\n",
       " 'ele_engry_us_201706',\n",
       " 'gas_engry_us_201707',\n",
       " 'ele_engry_us_201707',\n",
       " 'gas_engry_us_201708',\n",
       " 'ele_engry_us_201708',\n",
       " 'gas_engry_us_201709',\n",
       " 'ele_engry_us_201709',\n",
       " 'gas_engry_us_201710',\n",
       " 'ele_engry_us_201710',\n",
       " 'gas_engry_us_201711',\n",
       " 'ele_engry_us_201711',\n",
       " 'gas_engry_us_201712',\n",
       " 'ele_engry_us_201712',\n",
       " 'gas_engry_us_201801',\n",
       " 'ele_engry_us_201801',\n",
       " 'gas_engry_us_201802',\n",
       " 'ele_engry_us_201802',\n",
       " 'gas_engry_us_201803',\n",
       " 'ele_engry_us_201803',\n",
       " 'gas_engry_us_201804',\n",
       " 'ele_engry_us_201804',\n",
       " 'gas_engry_us_201805',\n",
       " 'ele_engry_us_201805',\n",
       " 'gas_engry_us_201806',\n",
       " 'ele_engry_us_201806',\n",
       " 'gas_engry_us_201807',\n",
       " 'ele_engry_us_201807',\n",
       " 'gas_engry_us_201808',\n",
       " 'ele_engry_us_201808',\n",
       " 'gas_engry_us_201809',\n",
       " 'ele_engry_us_201809',\n",
       " 'gas_engry_us_201810',\n",
       " 'ele_engry_us_201810',\n",
       " 'gas_engry_us_201811',\n",
       " 'ele_engry_us_201811',\n",
       " 'gas_engry_us_201812',\n",
       " 'ele_engry_us_201812',\n",
       " 'jmk',\n",
       " 'id',\n",
       " 'rgnl_ar_nm',\n",
       " 'rgnl_ar_nm2',\n",
       " 'lnd_us_sttn_nm',\n",
       " 'rd_sd_nm',\n",
       " 'emd_nm',\n",
       " 'hm_cnt',\n",
       " 'fr_sttn_dstnc',\n",
       " 'bldng_ar_prc',\n",
       " 'fr_wthr_fclt_dstnc',\n",
       " 'fr_mn_cnt',\n",
       " 'mlt_us_yn',\n",
       " 'cctv_dstnc',\n",
       " 'fr_wthr_fclt_in_100m',\n",
       " 'cctv_in_100m',\n",
       " 'tbc_rtl_str_dstnc',\n",
       " 'sft_emrgnc_bll_dstnc',\n",
       " 'ahsm_dstnc',\n",
       " 'no_tbc_zn_dstnc',\n",
       " 'bldng_cnt_in_50m',\n",
       " 'dt_of_fr_hr',\n",
       " 'dt_of_fr_mth',\n",
       " 'dt_of_fr_yr',\n",
       " '화재시점나이',\n",
       " '한채당가용면적',\n",
       " '면적대비예상채수',\n",
       " '예상채수초과',\n",
       " '한채당평균지상층수',\n",
       " '한채당평균지하층수',\n",
       " '지상지하층합',\n",
       " '예상평균층당면적',\n",
       " 'season',\n",
       " '계절평균온도차',\n",
       " '반대풍향여부',\n",
       " '측면도로크기',\n",
       " '차량통행가능여부']"
      ]
     },
     "execution_count": 55,
     "metadata": {},
     "output_type": "execute_result"
    }
   ],
   "source": [
    "list(data_.columns)"
   ]
  },
  {
   "cell_type": "code",
   "execution_count": 56,
   "metadata": {},
   "outputs": [],
   "source": [
    "dataset = data_[['fr_yn','bldng_us','bldng_archtctr', 'bldng_cnt', 'bldng_ar','ttl_ar','lnd_ar','ttl_grnd_flr','ttl_dwn_flr','bldng_us_clssfctn',\n",
    "                'tmprtr','wnd_spd','wnd_drctn','hmdt','jmk','rgnl_ar_nm','lnd_us_sttn_nm','fr_sttn_dstnc','bldng_ar_prc','fr_wthr_fclt_dstnc',\n",
    "                'fr_mn_cnt', 'mlt_us_yn','cctv_dstnc', 'fr_wthr_fclt_in_100m','cctv_in_100m','tbc_rtl_str_dstnc','sft_emrgnc_bll_dstnc','ahsm_dstnc',\n",
    "                'no_tbc_zn_dstnc','bldng_cnt_in_50m','dt_of_fr_hr','dt_of_fr_mth','화재시점나이','한채당가용면적','면적대비예상채수','예상채수초과',\n",
    "                '한채당평균지상층수','한채당평균지하층수','예상평균층당면적','season','계절평균온도차','반대풍향여부','측면도로크기','차량통행가능여부']]"
   ]
  },
  {
   "cell_type": "markdown",
   "metadata": {},
   "source": [
    "## 레이블 인코딩"
   ]
  },
  {
   "cell_type": "code",
   "execution_count": 66,
   "metadata": {
    "scrolled": false
   },
   "outputs": [],
   "source": [
    "from sklearn.preprocessing import LabelEncoder as lbe"
   ]
  },
  {
   "cell_type": "code",
   "execution_count": 71,
   "metadata": {
    "collapsed": true
   },
   "outputs": [
    {
     "data": {
      "text/html": [
       "<div>\n",
       "<style scoped>\n",
       "    .dataframe tbody tr th:only-of-type {\n",
       "        vertical-align: middle;\n",
       "    }\n",
       "\n",
       "    .dataframe tbody tr th {\n",
       "        vertical-align: top;\n",
       "    }\n",
       "\n",
       "    .dataframe thead th {\n",
       "        text-align: right;\n",
       "    }\n",
       "</style>\n",
       "<table border=\"1\" class=\"dataframe\">\n",
       "  <thead>\n",
       "    <tr style=\"text-align: right;\">\n",
       "      <th></th>\n",
       "      <th>fr_yn</th>\n",
       "      <th>bldng_us</th>\n",
       "      <th>bldng_archtctr</th>\n",
       "      <th>bldng_cnt</th>\n",
       "      <th>bldng_ar</th>\n",
       "      <th>ttl_ar</th>\n",
       "      <th>lnd_ar</th>\n",
       "      <th>ttl_grnd_flr</th>\n",
       "      <th>ttl_dwn_flr</th>\n",
       "      <th>bldng_us_clssfctn</th>\n",
       "      <th>tmprtr</th>\n",
       "      <th>wnd_spd</th>\n",
       "      <th>wnd_drctn</th>\n",
       "      <th>hmdt</th>\n",
       "      <th>jmk</th>\n",
       "      <th>rgnl_ar_nm</th>\n",
       "      <th>lnd_us_sttn_nm</th>\n",
       "      <th>fr_sttn_dstnc</th>\n",
       "      <th>bldng_ar_prc</th>\n",
       "      <th>fr_wthr_fclt_dstnc</th>\n",
       "      <th>fr_mn_cnt</th>\n",
       "      <th>mlt_us_yn</th>\n",
       "      <th>cctv_dstnc</th>\n",
       "      <th>fr_wthr_fclt_in_100m</th>\n",
       "      <th>cctv_in_100m</th>\n",
       "      <th>tbc_rtl_str_dstnc</th>\n",
       "      <th>sft_emrgnc_bll_dstnc</th>\n",
       "      <th>ahsm_dstnc</th>\n",
       "      <th>no_tbc_zn_dstnc</th>\n",
       "      <th>bldng_cnt_in_50m</th>\n",
       "      <th>dt_of_fr_hr</th>\n",
       "      <th>dt_of_fr_mth</th>\n",
       "      <th>화재시점나이</th>\n",
       "      <th>한채당가용면적</th>\n",
       "      <th>면적대비예상채수</th>\n",
       "      <th>예상채수초과</th>\n",
       "      <th>한채당평균지상층수</th>\n",
       "      <th>한채당평균지하층수</th>\n",
       "      <th>예상평균층당면적</th>\n",
       "      <th>season</th>\n",
       "      <th>계절평균온도차</th>\n",
       "      <th>반대풍향여부</th>\n",
       "      <th>측면도로크기</th>\n",
       "      <th>차량통행가능여부</th>\n",
       "    </tr>\n",
       "  </thead>\n",
       "  <tbody>\n",
       "    <tr>\n",
       "      <th>0</th>\n",
       "      <td>1</td>\n",
       "      <td>0</td>\n",
       "      <td>콘크리트구조</td>\n",
       "      <td>1</td>\n",
       "      <td>583.80</td>\n",
       "      <td>2516.76</td>\n",
       "      <td>1446.0</td>\n",
       "      <td>5.0</td>\n",
       "      <td>0.0</td>\n",
       "      <td>주거용</td>\n",
       "      <td>15.5</td>\n",
       "      <td>2.0</td>\n",
       "      <td>90.0</td>\n",
       "      <td>21.0</td>\n",
       "      <td>답</td>\n",
       "      <td>제2종일반주거지역</td>\n",
       "      <td>연립</td>\n",
       "      <td>3340</td>\n",
       "      <td>618105.0</td>\n",
       "      <td>143</td>\n",
       "      <td>137.0</td>\n",
       "      <td>N</td>\n",
       "      <td>165</td>\n",
       "      <td>0</td>\n",
       "      <td>0</td>\n",
       "      <td>277</td>\n",
       "      <td>31197</td>\n",
       "      <td>12451</td>\n",
       "      <td>72</td>\n",
       "      <td>14</td>\n",
       "      <td>14</td>\n",
       "      <td>10</td>\n",
       "      <td>16.0</td>\n",
       "      <td>1446.0</td>\n",
       "      <td>2.476876</td>\n",
       "      <td>0</td>\n",
       "      <td>5.00</td>\n",
       "      <td>0.0</td>\n",
       "      <td>503.352000</td>\n",
       "      <td>가을</td>\n",
       "      <td>0.083687</td>\n",
       "      <td>0</td>\n",
       "      <td>중로</td>\n",
       "      <td>0</td>\n",
       "    </tr>\n",
       "    <tr>\n",
       "      <th>1</th>\n",
       "      <td>1</td>\n",
       "      <td>3</td>\n",
       "      <td>콘크리트구조</td>\n",
       "      <td>1</td>\n",
       "      <td>96.66</td>\n",
       "      <td>149.04</td>\n",
       "      <td>486.0</td>\n",
       "      <td>2.0</td>\n",
       "      <td>0.0</td>\n",
       "      <td>주거용</td>\n",
       "      <td>27.8</td>\n",
       "      <td>4.5</td>\n",
       "      <td>180.0</td>\n",
       "      <td>11.0</td>\n",
       "      <td>대</td>\n",
       "      <td>자연녹지지역</td>\n",
       "      <td>단독</td>\n",
       "      <td>4278</td>\n",
       "      <td>899087.0</td>\n",
       "      <td>294</td>\n",
       "      <td>137.0</td>\n",
       "      <td>N</td>\n",
       "      <td>210</td>\n",
       "      <td>0</td>\n",
       "      <td>0</td>\n",
       "      <td>1425</td>\n",
       "      <td>29709</td>\n",
       "      <td>11690</td>\n",
       "      <td>206</td>\n",
       "      <td>0</td>\n",
       "      <td>15</td>\n",
       "      <td>4</td>\n",
       "      <td>3.0</td>\n",
       "      <td>486.0</td>\n",
       "      <td>5.027933</td>\n",
       "      <td>0</td>\n",
       "      <td>2.00</td>\n",
       "      <td>0.0</td>\n",
       "      <td>74.520000</td>\n",
       "      <td>봄</td>\n",
       "      <td>13.906737</td>\n",
       "      <td>0</td>\n",
       "      <td>세로</td>\n",
       "      <td>1</td>\n",
       "    </tr>\n",
       "    <tr>\n",
       "      <th>2</th>\n",
       "      <td>0</td>\n",
       "      <td>3</td>\n",
       "      <td>콘크리트구조</td>\n",
       "      <td>1</td>\n",
       "      <td>44.22</td>\n",
       "      <td>129.55</td>\n",
       "      <td>82.0</td>\n",
       "      <td>3.0</td>\n",
       "      <td>0.0</td>\n",
       "      <td>주거용</td>\n",
       "      <td>10.3</td>\n",
       "      <td>0.9</td>\n",
       "      <td>340.0</td>\n",
       "      <td>24.0</td>\n",
       "      <td>대</td>\n",
       "      <td>제2종일반주거지역</td>\n",
       "      <td>상업용</td>\n",
       "      <td>2215</td>\n",
       "      <td>652729.0</td>\n",
       "      <td>79</td>\n",
       "      <td>137.0</td>\n",
       "      <td>N</td>\n",
       "      <td>113</td>\n",
       "      <td>1</td>\n",
       "      <td>0</td>\n",
       "      <td>474</td>\n",
       "      <td>31441</td>\n",
       "      <td>11505</td>\n",
       "      <td>52</td>\n",
       "      <td>12</td>\n",
       "      <td>12</td>\n",
       "      <td>11</td>\n",
       "      <td>22.0</td>\n",
       "      <td>82.0</td>\n",
       "      <td>1.854365</td>\n",
       "      <td>0</td>\n",
       "      <td>3.00</td>\n",
       "      <td>0.0</td>\n",
       "      <td>43.183333</td>\n",
       "      <td>가을</td>\n",
       "      <td>-5.116313</td>\n",
       "      <td>1</td>\n",
       "      <td>세로</td>\n",
       "      <td>1</td>\n",
       "    </tr>\n",
       "    <tr>\n",
       "      <th>3</th>\n",
       "      <td>1</td>\n",
       "      <td>3</td>\n",
       "      <td>블록구조</td>\n",
       "      <td>4</td>\n",
       "      <td>81.36</td>\n",
       "      <td>81.36</td>\n",
       "      <td>640.0</td>\n",
       "      <td>1.0</td>\n",
       "      <td>0.0</td>\n",
       "      <td>주거용</td>\n",
       "      <td>6.2</td>\n",
       "      <td>0.1</td>\n",
       "      <td>0.0</td>\n",
       "      <td>93.0</td>\n",
       "      <td>대</td>\n",
       "      <td>제2종일반주거지역</td>\n",
       "      <td>주거나지</td>\n",
       "      <td>3536</td>\n",
       "      <td>1129748.0</td>\n",
       "      <td>107</td>\n",
       "      <td>137.0</td>\n",
       "      <td>N</td>\n",
       "      <td>95</td>\n",
       "      <td>0</td>\n",
       "      <td>0</td>\n",
       "      <td>739</td>\n",
       "      <td>30400</td>\n",
       "      <td>11694</td>\n",
       "      <td>58</td>\n",
       "      <td>3</td>\n",
       "      <td>9</td>\n",
       "      <td>11</td>\n",
       "      <td>35.0</td>\n",
       "      <td>160.0</td>\n",
       "      <td>7.866273</td>\n",
       "      <td>0</td>\n",
       "      <td>0.25</td>\n",
       "      <td>0.0</td>\n",
       "      <td>81.360000</td>\n",
       "      <td>가을</td>\n",
       "      <td>-9.216313</td>\n",
       "      <td>1</td>\n",
       "      <td>광대</td>\n",
       "      <td>0</td>\n",
       "    </tr>\n",
       "    <tr>\n",
       "      <th>4</th>\n",
       "      <td>0</td>\n",
       "      <td>0</td>\n",
       "      <td>콘크리트구조</td>\n",
       "      <td>1</td>\n",
       "      <td>583.80</td>\n",
       "      <td>2516.76</td>\n",
       "      <td>1446.0</td>\n",
       "      <td>5.0</td>\n",
       "      <td>0.0</td>\n",
       "      <td>주거용</td>\n",
       "      <td>2.2</td>\n",
       "      <td>0.7</td>\n",
       "      <td>180.0</td>\n",
       "      <td>94.0</td>\n",
       "      <td>답</td>\n",
       "      <td>제2종일반주거지역</td>\n",
       "      <td>연립</td>\n",
       "      <td>3340</td>\n",
       "      <td>618105.0</td>\n",
       "      <td>143</td>\n",
       "      <td>137.0</td>\n",
       "      <td>N</td>\n",
       "      <td>165</td>\n",
       "      <td>0</td>\n",
       "      <td>0</td>\n",
       "      <td>277</td>\n",
       "      <td>31197</td>\n",
       "      <td>12451</td>\n",
       "      <td>72</td>\n",
       "      <td>14</td>\n",
       "      <td>8</td>\n",
       "      <td>3</td>\n",
       "      <td>16.0</td>\n",
       "      <td>1446.0</td>\n",
       "      <td>2.476876</td>\n",
       "      <td>0</td>\n",
       "      <td>5.00</td>\n",
       "      <td>0.0</td>\n",
       "      <td>503.352000</td>\n",
       "      <td>봄</td>\n",
       "      <td>-11.693263</td>\n",
       "      <td>0</td>\n",
       "      <td>중로</td>\n",
       "      <td>0</td>\n",
       "    </tr>\n",
       "  </tbody>\n",
       "</table>\n",
       "</div>"
      ],
      "text/plain": [
       "   fr_yn  bldng_us bldng_archtctr  bldng_cnt  bldng_ar   ttl_ar  lnd_ar  \\\n",
       "0      1         0         콘크리트구조          1    583.80  2516.76  1446.0   \n",
       "1      1         3         콘크리트구조          1     96.66   149.04   486.0   \n",
       "2      0         3         콘크리트구조          1     44.22   129.55    82.0   \n",
       "3      1         3           블록구조          4     81.36    81.36   640.0   \n",
       "4      0         0         콘크리트구조          1    583.80  2516.76  1446.0   \n",
       "\n",
       "   ttl_grnd_flr  ttl_dwn_flr bldng_us_clssfctn  tmprtr  wnd_spd  wnd_drctn  \\\n",
       "0           5.0          0.0               주거용    15.5      2.0       90.0   \n",
       "1           2.0          0.0               주거용    27.8      4.5      180.0   \n",
       "2           3.0          0.0               주거용    10.3      0.9      340.0   \n",
       "3           1.0          0.0               주거용     6.2      0.1        0.0   \n",
       "4           5.0          0.0               주거용     2.2      0.7      180.0   \n",
       "\n",
       "   hmdt jmk rgnl_ar_nm lnd_us_sttn_nm  fr_sttn_dstnc  bldng_ar_prc  \\\n",
       "0  21.0   답  제2종일반주거지역             연립           3340      618105.0   \n",
       "1  11.0   대     자연녹지지역             단독           4278      899087.0   \n",
       "2  24.0   대  제2종일반주거지역            상업용           2215      652729.0   \n",
       "3  93.0   대  제2종일반주거지역           주거나지           3536     1129748.0   \n",
       "4  94.0   답  제2종일반주거지역             연립           3340      618105.0   \n",
       "\n",
       "   fr_wthr_fclt_dstnc  fr_mn_cnt mlt_us_yn  cctv_dstnc  fr_wthr_fclt_in_100m  \\\n",
       "0                 143      137.0         N         165                     0   \n",
       "1                 294      137.0         N         210                     0   \n",
       "2                  79      137.0         N         113                     1   \n",
       "3                 107      137.0         N          95                     0   \n",
       "4                 143      137.0         N         165                     0   \n",
       "\n",
       "   cctv_in_100m  tbc_rtl_str_dstnc  sft_emrgnc_bll_dstnc  ahsm_dstnc  \\\n",
       "0             0                277                 31197       12451   \n",
       "1             0               1425                 29709       11690   \n",
       "2             0                474                 31441       11505   \n",
       "3             0                739                 30400       11694   \n",
       "4             0                277                 31197       12451   \n",
       "\n",
       "   no_tbc_zn_dstnc  bldng_cnt_in_50m  dt_of_fr_hr  dt_of_fr_mth  화재시점나이  \\\n",
       "0               72                14           14            10    16.0   \n",
       "1              206                 0           15             4     3.0   \n",
       "2               52                12           12            11    22.0   \n",
       "3               58                 3            9            11    35.0   \n",
       "4               72                14            8             3    16.0   \n",
       "\n",
       "   한채당가용면적  면적대비예상채수  예상채수초과  한채당평균지상층수  한채당평균지하층수    예상평균층당면적 season  \\\n",
       "0   1446.0  2.476876       0       5.00        0.0  503.352000     가을   \n",
       "1    486.0  5.027933       0       2.00        0.0   74.520000      봄   \n",
       "2     82.0  1.854365       0       3.00        0.0   43.183333     가을   \n",
       "3    160.0  7.866273       0       0.25        0.0   81.360000     가을   \n",
       "4   1446.0  2.476876       0       5.00        0.0  503.352000      봄   \n",
       "\n",
       "     계절평균온도차  반대풍향여부 측면도로크기  차량통행가능여부  \n",
       "0   0.083687       0     중로         0  \n",
       "1  13.906737       0     세로         1  \n",
       "2  -5.116313       1     세로         1  \n",
       "3  -9.216313       1     광대         0  \n",
       "4 -11.693263       0     중로         0  "
      ]
     },
     "execution_count": 71,
     "metadata": {},
     "output_type": "execute_result"
    }
   ],
   "source": [
    "dataset.head()"
   ]
  },
  {
   "cell_type": "code",
   "execution_count": 69,
   "metadata": {
    "collapsed": true
   },
   "outputs": [
    {
     "name": "stderr",
     "output_type": "stream",
     "text": [
      "/usr/local/lib/python3.6/dist-packages/ipykernel_launcher.py:2: SettingWithCopyWarning: \n",
      "A value is trying to be set on a copy of a slice from a DataFrame.\n",
      "Try using .loc[row_indexer,col_indexer] = value instead\n",
      "\n",
      "See the caveats in the documentation: http://pandas.pydata.org/pandas-docs/stable/indexing.html#indexing-view-versus-copy\n",
      "  \n"
     ]
    }
   ],
   "source": [
    "fr_yn_lb = lbe()\n",
    "dataset['fr_yn'] = fr_yn_lb.fit_transform(dataset['fr_yn'])\n",
    "bldng_us_lb = lbe()\n",
    "dataset['bldng_us'] = bldng_us_lb.fit_transform(dataset['bldng_us'])\n",
    "bldng_archtctr_lb = lbe()\n",
    "dataset['bldng_archtctr'] = bldng_archtctr_lb.fit_transform(dataset['bldng_archtctr'])\n",
    "bldng_us_clssfctn_lb = lbe()\n",
    "dataset['bldng_us_clssfctn'] = bldng_us_clssfctn_lb.fit_transform(dataset['bldng_us_clssfctn'])\n",
    "jmk_lb = lbe()\n",
    "dataset['jmk'] = jmk_lb.fit_transform(dataset['jmk'])\n",
    "rgnl_ar_nm_lb = lbe()\n",
    "dataset['rgnl_ar_nm'] = rgnl_ar_nm_lb.fit_transform(dataset['rgnl_ar_nm'])\n",
    "lnd_us_sttn_nm_lb = lbe()\n",
    "dataset['lnd_us_sttn_nm'] = lnd_us_sttn_nm_lb.fit_transform(dataset['lnd_us_sttn_nm'])\n",
    "mlt_us_yn_lb = lbe()\n",
    "dataset['mlt_us_yn'] = mlt_us_yn_lb.fit_transform(dataset['mlt_us_yn'])\n",
    "season_lb = lbe()\n",
    "dataset['season'] = season_lb.fit_transform(dataset['season'])\n",
    "측면도로크기_lb = lbe()\n",
    "dataset['측면도로크기'] = 측면도로크기_lb.fit_transform(dataset['측면도로크기'])"
   ]
  },
  {
   "cell_type": "code",
   "execution_count": 98,
   "metadata": {},
   "outputs": [
    {
     "data": {
      "text/plain": [
       "(13008, 44)"
      ]
     },
     "execution_count": 98,
     "metadata": {},
     "output_type": "execute_result"
    }
   ],
   "source": [
    "dataset.shape"
   ]
  },
  {
   "cell_type": "code",
   "execution_count": 104,
   "metadata": {},
   "outputs": [],
   "source": [
    "dataset.to_csv('./data/dataset_le.csv')"
   ]
  },
  {
   "cell_type": "markdown",
   "metadata": {},
   "source": [
    "## 모델링"
   ]
  },
  {
   "cell_type": "code",
   "execution_count": 97,
   "metadata": {},
   "outputs": [],
   "source": [
    "from sklearn.model_selection import train_test_split\n",
    "from sklearn.model_selection import StratifiedKFold\n",
    "from sklearn.model_selection import cross_val_score\n",
    "from sklearn.ensemble import RandomForestClassifier\n",
    "from xgboost.sklearn import XGBClassifier"
   ]
  },
  {
   "cell_type": "code",
   "execution_count": 99,
   "metadata": {},
   "outputs": [],
   "source": [
    "xgb = XGBClassifier(max_depth=20)"
   ]
  },
  {
   "cell_type": "code",
   "execution_count": 101,
   "metadata": {},
   "outputs": [],
   "source": [
    "stf = StratifiedKFold(n_splits=5, shuffle=True)"
   ]
  },
  {
   "cell_type": "code",
   "execution_count": 102,
   "metadata": {},
   "outputs": [],
   "source": [
    "cv_score = cross_val_score(xgb, X = dataset.iloc[:,1:], y =dataset['fr_yn'], cv=stf)"
   ]
  },
  {
   "cell_type": "code",
   "execution_count": 103,
   "metadata": {},
   "outputs": [
    {
     "data": {
      "text/plain": [
       "array([0.80207533, 0.80207533, 0.80015373, 0.80822444, 0.80538462])"
      ]
     },
     "execution_count": 103,
     "metadata": {},
     "output_type": "execute_result"
    }
   ],
   "source": [
    "cv_score"
   ]
  },
  {
   "cell_type": "code",
   "execution_count": null,
   "metadata": {},
   "outputs": [],
   "source": []
  }
 ],
 "metadata": {
  "kernelspec": {
   "display_name": "Python 3",
   "language": "python",
   "name": "python3"
  }
 },
 "nbformat": 4,
 "nbformat_minor": 2
}
